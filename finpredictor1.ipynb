{
 "cells": [
  {
   "cell_type": "markdown",
   "id": "3d5cf794",
   "metadata": {
    "tags": [
     "papermill-error-cell-tag"
    ]
   },
   "source": [
    "<span style=\"color:red; font-family:Helvetica Neue, Helvetica, Arial, sans-serif; font-size:2em;\">An Exception was encountered at '<a href=\"#papermill-error-cell\">In [11]</a>'.</span>"
   ]
  },
  {
   "cell_type": "markdown",
   "id": "28014c26",
   "metadata": {
    "papermill": {
     "duration": 0.003531,
     "end_time": "2025-04-18T00:39:18.326772",
     "exception": false,
     "start_time": "2025-04-18T00:39:18.323241",
     "status": "completed"
    },
    "tags": []
   },
   "source": [
    "# STEP 1: Imports and Get Data"
   ]
  },
  {
   "cell_type": "code",
   "execution_count": 1,
   "id": "5848591e",
   "metadata": {
    "execution": {
     "iopub.execute_input": "2025-04-18T00:39:18.333903Z",
     "iopub.status.busy": "2025-04-18T00:39:18.333325Z",
     "iopub.status.idle": "2025-04-18T00:39:28.556013Z",
     "shell.execute_reply": "2025-04-18T00:39:28.555425Z"
    },
    "papermill": {
     "duration": 10.226909,
     "end_time": "2025-04-18T00:39:28.556847",
     "exception": false,
     "start_time": "2025-04-18T00:39:18.329938",
     "status": "completed"
    },
    "tags": []
   },
   "outputs": [
    {
     "name": "stdout",
     "output_type": "stream",
     "text": [
      "Using device: cpu\n"
     ]
    }
   ],
   "source": [
    "from model_components.data_reader import FinancialTimeSeriesDataset, verify_financial_dataloader\n",
    "from model_components.transformers import TimeSeriesTransformer\n",
    "from model_components.fin_trainer import TimeSeriesForecastingTrainer\n",
    "from model_components.utils import (\n",
    "    create_optimizer,\n",
    "    create_scheduler,\n",
    "    plot_lr_schedule\n",
    ")\n",
    "  \n",
    "from torch.utils.data import DataLoader\n",
    "import matplotlib.pyplot as plt\n",
    "import yaml\n",
    "import gc\n",
    "import torch\n",
    "from torchinfo import summary\n",
    "import os\n",
    "import json\n",
    "import tarfile\n",
    "import shutil\n",
    "import wandb\n",
    "import yaml\n",
    "device = \"cuda\" if torch.cuda.is_available() else \"cpu\"\n",
    "print(f\"Using device: {device}\")"
   ]
  },
  {
   "cell_type": "code",
   "execution_count": 2,
   "id": "499bd4f0",
   "metadata": {
    "execution": {
     "iopub.execute_input": "2025-04-18T00:39:28.564488Z",
     "iopub.status.busy": "2025-04-18T00:39:28.564006Z",
     "iopub.status.idle": "2025-04-18T00:39:28.570381Z",
     "shell.execute_reply": "2025-04-18T00:39:28.569933Z"
    },
    "papermill": {
     "duration": 0.010547,
     "end_time": "2025-04-18T00:39:28.571059",
     "exception": false,
     "start_time": "2025-04-18T00:39:28.560512",
     "status": "completed"
    },
    "tags": []
   },
   "outputs": [
    {
     "name": "stdout",
     "output_type": "stream",
     "text": [
      "Overwriting config.yaml\n"
     ]
    }
   ],
   "source": [
    "%%writefile config.yaml\n",
    "\n",
    "Name                      : \"Nayesha-Gopal\"\n",
    "\n",
    "###### Dataset -----------------------------------------------------------------\n",
    "data:                    # Currently setup for Colab assuming out setup\n",
    "  root                 : \"/local/hw4_data/hw4p1_data\"  # TODO: Set the root path of your data\n",
    "  train_partition      : \"train\"  # train\n",
    "  val_partition        : \"val\"    # val\n",
    "  test_partition       : \"test\"   # test\n",
    "  subset               : 1.0      # Load a subset of the data (for debugging, testing, etc\n",
    "  batch_size           : 256      #\n",
    "  NUM_WORKERS          : 2        # Set to 0 for CPU\n",
    "  forecast_horizon     : 5\n",
    "\n",
    "###### Network Specs -------------------------------------------------------------\n",
    "model: # Decoder-Only Language Model (HW4P1)\n",
    "  d_model                   : 256\n",
    "  d_ff                      : 1024\n",
    "  d_freq                    : 3    #how many dimensions to split time into- must be odd because it adds 1?\n",
    "  num_layers                : 2\n",
    "  num_heads                 : 2\n",
    "  dropout                   : 0.0\n",
    "\n",
    "###### Common Training Parameters ------------------------------------------------\n",
    "training:\n",
    "  use_wandb                   : True   # Toggle wandb logging\n",
    "  wandb_run_id                : \"none\" # \"none\" or \"run_id\"\n",
    "  resume                      : False  # Resume an existing run (run_id != 'none')\n",
    "  epochs                      : 20\n",
    "  gradient_accumulation_steps : 1\n",
    "  wandb_project               : \"IDL_final project PegasusNG\" # wandb project to log to\n",
    "\n",
    "###### Loss ----------------------------------------------------------------------\n",
    "loss: # Just good ol' CrossEntropy\n",
    "  label_smoothing: 0.0\n",
    "\n",
    "###### Optimizer -----------------------------------------------------------------\n",
    "optimizer:\n",
    "  name: \"adamw\" # Options: sgd, adam, adamw\n",
    "  lr: 5.0e-4   # Base learning rate\n",
    "\n",
    "  # Common parameters\n",
    "  weight_decay: 0.0001\n",
    "\n",
    "  # Parameter groups\n",
    "  param_groups:\n",
    "    - name: self_attn\n",
    "      patterns: []  # Will match all parameters containing keywords set their learning rate to 0.0001\n",
    "      lr: 0.0001    # LR for self_attn\n",
    "      layer_decay:\n",
    "        enabled: False\n",
    "        decay_rate: 0.8\n",
    "\n",
    "    - name: ffn\n",
    "      patterns: [] # Will match all parameters containing \"ffn\" and set their learning rate to 0.0001\n",
    "      lr: 0.0001   # LR for ffn\n",
    "      layer_decay:\n",
    "        enabled: False\n",
    "        decay_rate: 0.8\n",
    "\n",
    "  # Layer-wise learning rates\n",
    "  layer_decay:\n",
    "    enabled: False\n",
    "    decay_rate: 0.75\n",
    "\n",
    "  # SGD specific parameters\n",
    "  sgd:\n",
    "    momentum: 0.9\n",
    "    nesterov: True\n",
    "    dampening: 0\n",
    "\n",
    "  # Adam specific parameters\n",
    "  adam:\n",
    "    betas: [0.9, 0.999]\n",
    "    eps: 1.0e-8\n",
    "    amsgrad: False\n",
    "\n",
    "  # AdamW specific parameters\n",
    "  adamw:\n",
    "    betas: [0.9, 0.999]\n",
    "    eps: 1.0e-8\n",
    "    amsgrad: False\n",
    "\n",
    "###### Scheduler -----------------------------------------------------------------\n",
    "scheduler:\n",
    "  name: \"cosine\"  # Options: reduce_lr, cosine, cosine_warm\n",
    "\n",
    "  # ReduceLROnPlateau specific parameters\n",
    "  reduce_lr:\n",
    "    mode: \"min\"  # Options: min, max\n",
    "    factor: 0.1  # Factor to reduce learning rate by\n",
    "    patience: 10  # Number of epochs with no improvement after which LR will be reduced\n",
    "    threshold: 0.0001  # Threshold for measuring the new optimum\n",
    "    threshold_mode: \"rel\"  # Options: rel, abs\n",
    "    cooldown: 0  # Number of epochs to wait before resuming normal operation\n",
    "    min_lr: 0.0000001  # Minimum learning rate\n",
    "    eps: 1.0e-8  # Minimal decay applied to lr\n",
    "\n",
    "  # CosineAnnealingLR specific parameters\n",
    "  cosine:\n",
    "    T_max: 15  # Maximum number of iterations\n",
    "    eta_min: 1.0e-8  # Minimum learning rate\n",
    "    last_epoch: -1\n",
    "\n",
    "  # CosineAnnealingWarmRestarts specific parameters\n",
    "  cosine_warm:\n",
    "    T_0: 4  # Number of iterations for the first restart\n",
    "    T_mult: 4  # Factor increasing T_i after each restart\n",
    "    eta_min: 0.0000001  # Minimum learning rate\n",
    "    last_epoch: -1\n",
    "\n",
    "  # Warmup parameters (can be used with any scheduler)\n",
    "  warmup:\n",
    "    enabled: True\n",
    "    type: \"exponential\"  # Options: linear, exponential\n",
    "    epochs: 5\n",
    "    start_factor: 0.1\n",
    "    end_factor: 1.0"
   ]
  },
  {
   "cell_type": "code",
   "execution_count": 3,
   "id": "4eac13bb",
   "metadata": {
    "execution": {
     "iopub.execute_input": "2025-04-18T00:39:28.577527Z",
     "iopub.status.busy": "2025-04-18T00:39:28.577188Z",
     "iopub.status.idle": "2025-04-18T00:39:28.585945Z",
     "shell.execute_reply": "2025-04-18T00:39:28.585574Z"
    },
    "papermill": {
     "duration": 0.012544,
     "end_time": "2025-04-18T00:39:28.586599",
     "exception": false,
     "start_time": "2025-04-18T00:39:28.574055",
     "status": "completed"
    },
    "tags": []
   },
   "outputs": [],
   "source": [
    "with open('config.yaml', 'r') as file:\n",
    "    config = yaml.safe_load(file)"
   ]
  },
  {
   "cell_type": "code",
   "execution_count": 4,
   "id": "6ed104bf",
   "metadata": {
    "execution": {
     "iopub.execute_input": "2025-04-18T00:39:28.593405Z",
     "iopub.status.busy": "2025-04-18T00:39:28.592983Z",
     "iopub.status.idle": "2025-04-18T00:39:29.760770Z",
     "shell.execute_reply": "2025-04-18T00:39:29.760351Z"
    },
    "papermill": {
     "duration": 1.172018,
     "end_time": "2025-04-18T00:39:29.761440",
     "exception": false,
     "start_time": "2025-04-18T00:39:28.589422",
     "status": "completed"
    },
    "tags": []
   },
   "outputs": [
    {
     "name": "stdout",
     "output_type": "stream",
     "text": [
      "YF.download() has changed argument auto_adjust default to True\n"
     ]
    },
    {
     "name": "stderr",
     "output_type": "stream",
     "text": [
      "\r",
      "[*********************100%***********************]  1 of 1 completed"
     ]
    },
    {
     "name": "stderr",
     "output_type": "stream",
     "text": [
      "\n"
     ]
    },
    {
     "name": "stderr",
     "output_type": "stream",
     "text": [
      "\r",
      "Processing ^SPX:   0%|                                                                                           | 0/2481 [00:00<?, ?it/s]"
     ]
    },
    {
     "name": "stderr",
     "output_type": "stream",
     "text": [
      "\r",
      "Processing ^SPX: 100%|█████████████████████████████████████████████████████████████████████████████| 2481/2481 [00:00<00:00, 38575.14it/s]"
     ]
    },
    {
     "name": "stderr",
     "output_type": "stream",
     "text": [
      "\n",
      "\r",
      "[*********************100%***********************]  1 of 1 completed"
     ]
    },
    {
     "name": "stderr",
     "output_type": "stream",
     "text": [
      "\n"
     ]
    },
    {
     "name": "stderr",
     "output_type": "stream",
     "text": [
      "\r",
      "Processing ^SPX:   0%|                                                                                           | 0/2481 [00:00<?, ?it/s]"
     ]
    },
    {
     "name": "stderr",
     "output_type": "stream",
     "text": [
      "\r",
      "Processing ^SPX: 100%|█████████████████████████████████████████████████████████████████████████████| 2481/2481 [00:00<00:00, 81637.35it/s]"
     ]
    },
    {
     "name": "stderr",
     "output_type": "stream",
     "text": [
      "\n"
     ]
    }
   ],
   "source": [
    "# we can add a val ratio element to this as well\n",
    "train_dataset = FinancialTimeSeriesDataset(\n",
    "    tickers=['^SPX'],\n",
    "    start_date='2015-01-01',\n",
    "    end_date='2024-12-31',\n",
    "    window_size=30,\n",
    "    forecast_horizon=config['data']['forecast_horizon'],\n",
    "    target='Close',\n",
    "    normalize='zscore',\n",
    "    split='train',\n",
    "    val_ratio=0.25\n",
    ")\n",
    "\n",
    "val_dataset = FinancialTimeSeriesDataset(\n",
    "    tickers=['^SPX'],\n",
    "    start_date='2015-01-01',\n",
    "    end_date='2024-12-31',\n",
    "    window_size=30,\n",
    "    forecast_horizon=config['data']['forecast_horizon'],\n",
    "    target='Close',\n",
    "    normalize='zscore',\n",
    "    split='val',\n",
    "    val_ratio=0.25\n",
    ")"
   ]
  },
  {
   "cell_type": "code",
   "execution_count": 5,
   "id": "1578d85f",
   "metadata": {
    "execution": {
     "iopub.execute_input": "2025-04-18T00:39:29.769523Z",
     "iopub.status.busy": "2025-04-18T00:39:29.769276Z",
     "iopub.status.idle": "2025-04-18T00:39:29.772790Z",
     "shell.execute_reply": "2025-04-18T00:39:29.772462Z"
    },
    "papermill": {
     "duration": 0.007816,
     "end_time": "2025-04-18T00:39:29.773399",
     "exception": false,
     "start_time": "2025-04-18T00:39:29.765583",
     "status": "completed"
    },
    "tags": []
   },
   "outputs": [],
   "source": [
    "# DATALOADERS\n",
    "train_loader    = DataLoader(\n",
    "    dataset     = train_dataset,\n",
    "    batch_size  = config['data']['batch_size'],\n",
    "    shuffle     = True,\n",
    "    num_workers = config['data']['NUM_WORKERS'] if device == 'cuda' else 0,\n",
    "    pin_memory  = True,\n",
    ")\n",
    "\n",
    "val_loader      = DataLoader(\n",
    "    dataset     = val_dataset,\n",
    "    batch_size  = config['data']['batch_size'],\n",
    "    shuffle     = False,\n",
    "    num_workers = config['data']['NUM_WORKERS'] if device == 'cuda' else 0,\n",
    "    pin_memory  = True,\n",
    ")"
   ]
  },
  {
   "cell_type": "code",
   "execution_count": 6,
   "id": "0b4e5e6a",
   "metadata": {
    "execution": {
     "iopub.execute_input": "2025-04-18T00:39:29.781501Z",
     "iopub.status.busy": "2025-04-18T00:39:29.781241Z",
     "iopub.status.idle": "2025-04-18T00:39:29.818083Z",
     "shell.execute_reply": "2025-04-18T00:39:29.817722Z"
    },
    "papermill": {
     "duration": 0.040979,
     "end_time": "2025-04-18T00:39:29.818685",
     "exception": false,
     "start_time": "2025-04-18T00:39:29.777706",
     "status": "completed"
    },
    "tags": []
   },
   "outputs": [
    {
     "name": "stdout",
     "output_type": "stream",
     "text": [
      "==================================================\n",
      "        Financial Dataloader Verification         \n",
      "==================================================\n",
      "Dataloader Partition     : train\n",
      "--------------------------------------------------\n",
      "Number of Batches        : 8\n",
      "Batch Size               : 256\n",
      "--------------------------------------------------\n",
      "Checking shapes of the first batch...             \n",
      "\n",
      "Past Window Shape        : [256, 30, 6]\n",
      "Future Target Shape      : [256, 5, 1]\n",
      "--------------------------------------------------\n",
      "Window Size              : 30\n",
      "Forecast Horizon         : 5\n",
      "Num Input Features       : 6 (includes Time)\n",
      "Target Feature           : Close\n",
      "==================================================\n",
      "==================================================\n",
      "        Financial Dataloader Verification         \n",
      "==================================================\n",
      "Dataloader Partition     : val\n",
      "--------------------------------------------------\n",
      "Number of Batches        : 3\n",
      "Batch Size               : 256\n",
      "--------------------------------------------------\n",
      "Checking shapes of the first batch...             \n",
      "\n",
      "Past Window Shape        : [256, 30, 6]\n",
      "Future Target Shape      : [256, 5, 1]\n",
      "--------------------------------------------------\n",
      "Window Size              : 30\n",
      "Forecast Horizon         : 5\n",
      "Num Input Features       : 6 (includes Time)\n",
      "Target Feature           : Close\n",
      "==================================================\n"
     ]
    }
   ],
   "source": [
    "# verify dataloader\n",
    "verify_financial_dataloader(train_loader)\n",
    "verify_financial_dataloader(val_loader)"
   ]
  },
  {
   "cell_type": "markdown",
   "id": "750404ec",
   "metadata": {
    "papermill": {
     "duration": 0.003262,
     "end_time": "2025-04-18T00:39:29.825305",
     "exception": false,
     "start_time": "2025-04-18T00:39:29.822043",
     "status": "completed"
    },
    "tags": []
   },
   "source": [
    "# STEP 2: Set Up Model"
   ]
  },
  {
   "cell_type": "code",
   "execution_count": 7,
   "id": "869d51be",
   "metadata": {
    "execution": {
     "iopub.execute_input": "2025-04-18T00:39:29.832631Z",
     "iopub.status.busy": "2025-04-18T00:39:29.832349Z",
     "iopub.status.idle": "2025-04-18T00:39:42.070903Z",
     "shell.execute_reply": "2025-04-18T00:39:42.070267Z"
    },
    "papermill": {
     "duration": 12.243179,
     "end_time": "2025-04-18T00:39:42.071762",
     "exception": false,
     "start_time": "2025-04-18T00:39:29.828583",
     "status": "completed"
    },
    "tags": []
   },
   "outputs": [
    {
     "name": "stdout",
     "output_type": "stream",
     "text": [
      "6 1\n"
     ]
    },
    {
     "name": "stdout",
     "output_type": "stream",
     "text": [
      "First input sample (shape: torch.Size([30, 6])):\n"
     ]
    },
    {
     "name": "stdout",
     "output_type": "stream",
     "text": [
      "tensor([[-1.8672e-01, -1.7058e-01, -1.8496e-01, -1.5705e-01,  5.4172e-01,\n",
      "          1.8212e-01],\n",
      "        [-1.3813e-01, -1.2601e-01, -1.7270e-01, -1.8459e-01,  9.3820e-01,\n",
      "          1.8497e-01],\n",
      "        [-1.9722e-01, -1.5759e-01, -1.9291e-01, -1.4553e-01,  5.2385e-01,\n",
      "          1.8592e-01],\n",
      "        [-1.1883e-01, -1.2329e-01, -1.2505e-01, -1.1871e-01,  7.1220e-01,\n",
      "          1.8687e-01],\n",
      "        [-1.3510e-01, -1.3973e-01, -1.2707e-01, -1.2886e-01, -3.6187e-02,\n",
      "          1.8782e-01],\n",
      "        [-1.2046e-01, -1.2766e-01, -1.2051e-01, -1.2040e-01,  5.7311e-03,\n",
      "          1.8876e-01],\n",
      "        [-1.2039e-01, -1.0460e-01, -1.1168e-01, -9.5370e-02, -2.9394e-02,\n",
      "          1.9161e-01],\n",
      "        [-7.9540e-02, -8.7437e-02, -8.1410e-02, -9.0329e-02,  5.7570e-01,\n",
      "          1.9256e-01],\n",
      "        [-9.2156e-02, -8.5572e-02, -7.6462e-02, -7.3042e-02,  2.7230e-01,\n",
      "          1.9351e-01],\n",
      "        [-7.6659e-02, -8.4956e-02, -1.0472e-01, -1.1031e-01,  3.0333e-01,\n",
      "          1.9446e-01],\n",
      "        [-1.2566e-01, -1.3341e-01, -1.2571e-01, -1.2881e-01, -3.3330e-01,\n",
      "          1.9541e-01],\n",
      "        [-1.2450e-01, -1.2039e-01, -1.1253e-01, -1.0685e-01, -3.8859e-02,\n",
      "          1.9825e-01],\n",
      "        [-1.1117e-01, -1.1829e-01, -1.1075e-01, -1.2621e-01,  4.8005e-02,\n",
      "          1.9920e-01],\n",
      "        [-1.1768e-01, -9.8971e-02, -1.0049e-01, -8.9276e-02,  4.9351e-01,\n",
      "          2.0015e-01],\n",
      "        [-1.1349e-01, -1.1167e-01, -1.2192e-01, -1.0056e-01,  2.6995e-01,\n",
      "          2.0110e-01],\n",
      "        [-7.7758e-02, -9.2143e-02, -1.0695e-01, -7.7567e-02,  1.0484e+00,\n",
      "          2.0205e-01],\n",
      "        [-6.1308e-02, -6.4059e-02, -4.7285e-02, -5.5876e-02,  4.5236e-01,\n",
      "          2.0490e-01],\n",
      "        [-5.9775e-02, -6.0282e-02, -4.5577e-02, -4.4888e-02,  4.2662e-01,\n",
      "          2.0584e-01],\n",
      "        [-3.4422e-02, -3.8291e-02, -1.6798e-02, -2.5256e-02,  5.5311e-01,\n",
      "          2.0679e-01],\n",
      "        [-2.9065e-02, -1.9672e-02, -1.6084e-02, -5.5043e-03,  2.8464e-01,\n",
      "          2.0774e-01],\n",
      "        [-1.3475e-02, -1.8284e-02, -6.2621e-03, -3.5466e-03,  1.0760e-01,\n",
      "          2.0869e-01],\n",
      "        [ 1.2933e-03, -8.4055e-03, -2.3762e-05,  4.9395e-03,  3.3599e-01,\n",
      "          2.1154e-01],\n",
      "        [ 1.4501e-02,  7.8787e-03, -8.3787e-03, -1.9789e-02,  9.1525e-01,\n",
      "          2.1249e-01],\n",
      "        [ 7.5755e-04,  1.4201e-02,  1.8561e-02,  2.3297e-02, -2.4647e-01,\n",
      "          2.1344e-01],\n",
      "        [ 1.6911e-02,  1.3604e-02,  2.5886e-02,  1.6907e-02, -5.9606e-01,\n",
      "          2.1438e-01],\n",
      "        [ 1.2949e-02,  5.5813e-03,  2.4298e-02,  1.6371e-02, -8.4624e-01,\n",
      "          2.1533e-01],\n",
      "        [ 2.4217e-02,  1.3926e-02,  4.0618e-02,  2.4811e-02, -5.7342e-01,\n",
      "          2.1818e-01],\n",
      "        [ 2.9925e-02,  2.0790e-02,  3.2198e-02,  3.2005e-02, -3.5412e-01,\n",
      "          2.1913e-01],\n",
      "        [ 3.4977e-02,  2.4907e-02,  3.1744e-02,  1.8218e-02, -3.4371e-01,\n",
      "          2.2008e-01],\n",
      "        [ 5.3940e-03,  1.6876e-02,  1.7847e-02,  2.8062e-02, -6.0412e-01,\n",
      "          2.2103e-01]])\n",
      "Corresponding target (shape: torch.Size([5, 1])):\n",
      "tensor([[0.0388],\n",
      "        [0.0703],\n",
      "        [0.0817],\n",
      "        [0.1141],\n",
      "        [0.1195]])\n",
      "Inputs: torch.Size([256, 30, 6])\n",
      "Targets: torch.Size([256, 5, 1])\n"
     ]
    },
    {
     "name": "stdout",
     "output_type": "stream",
     "text": [
      "torch.Size([256, 5, 1])\n"
     ]
    },
    {
     "name": "stdout",
     "output_type": "stream",
     "text": [
      "===============================================================================================\n",
      "Layer (type:depth-idx)                        Output Shape              Param #\n",
      "===============================================================================================\n",
      "TimeSeriesTransformer                         [256, 5, 1]               --\n",
      "├─Linear: 1-1                                 [256, 30, 256]            1,536\n",
      "├─Time2VecTorch: 1-2                          [256, 30, 4]              8\n",
      "├─Dropout: 1-3                                [256, 30, 260]            --\n",
      "├─Linear: 1-4                                 [256, 5, 256]             (recursive)\n",
      "├─Time2VecTorch: 1-5                          [256, 5, 4]               (recursive)\n",
      "├─Dropout: 1-6                                [256, 5, 260]             --\n",
      "├─TransformerDecoder: 1-7                     [256, 5, 260]             --\n",
      "│    └─ModuleList: 2-1                        --                        --\n",
      "│    │    └─TransformerDecoderLayer: 3-1      [256, 5, 260]             1,078,204\n",
      "│    │    └─TransformerDecoderLayer: 3-2      [256, 5, 260]             1,078,204\n",
      "├─LayerNorm: 1-8                              [256, 5, 260]             520\n",
      "├─Linear: 1-9                                 [256, 5, 1]               261\n",
      "===============================================================================================\n",
      "Total params: 2,158,733\n",
      "Trainable params: 2,158,733\n",
      "Non-trainable params: 0\n",
      "Total mult-adds (Units.MEGABYTES): 275.07\n",
      "===============================================================================================\n",
      "Input size (MB): 0.18\n",
      "Forward/backward pass size (MB): 63.58\n",
      "Params size (MB): 4.29\n",
      "Estimated Total Size (MB): 68.06\n",
      "===============================================================================================\n"
     ]
    }
   ],
   "source": [
    "model_config = config['model']\n",
    "# update this to add model input and output features\n",
    "print(train_dataset.input_features, val_dataset.output_features)\n",
    "model_config.update({\n",
    "    'input_features': train_dataset.input_features,\n",
    "    'output_features': val_dataset.output_features,              #hardcoded, TODO NEED TO FIX\n",
    "    'forecast_horizon':  config['data']['forecast_horizon']\n",
    "})\n",
    "model = TimeSeriesTransformer(**model_config)\n",
    "\n",
    "# CONFIRM EVERYTHING IS BEING LOADED CORRECTLY\n",
    "for batch in train_loader:\n",
    "    inputs, targets = batch\n",
    "\n",
    "    print(\"First input sample (shape: {}):\".format(inputs[0].shape))\n",
    "    print(inputs[0])  # shape: [T, F]\n",
    "\n",
    "    print(\"Corresponding target (shape: {}):\".format(targets[0].shape))\n",
    "    print(targets[0])  # shape: [forecast_steps]\n",
    "\n",
    "    print(\"Inputs:\", inputs.shape)\n",
    "    print(\"Targets:\", targets.shape)\n",
    "    break\n",
    "\n",
    "outputs = model(inputs)  # or model(inputs, something_else) if needed\n",
    "print(outputs.shape)\n",
    "\n",
    "model_stats = summary(model, input_data=inputs.to(\"cpu\"), device=\"cpu\")\n",
    "print(model_stats)"
   ]
  },
  {
   "cell_type": "markdown",
   "id": "7e1d66bf",
   "metadata": {
    "papermill": {
     "duration": 0.003566,
     "end_time": "2025-04-18T00:39:42.096383",
     "exception": false,
     "start_time": "2025-04-18T00:39:42.092817",
     "status": "completed"
    },
    "tags": []
   },
   "source": [
    "# STEP 3: Setup WandB and Trainer"
   ]
  },
  {
   "cell_type": "code",
   "execution_count": 8,
   "id": "d41d14ce",
   "metadata": {
    "execution": {
     "iopub.execute_input": "2025-04-18T00:39:42.104377Z",
     "iopub.status.busy": "2025-04-18T00:39:42.104068Z",
     "iopub.status.idle": "2025-04-18T00:39:42.674407Z",
     "shell.execute_reply": "2025-04-18T00:39:42.673867Z"
    },
    "papermill": {
     "duration": 0.575261,
     "end_time": "2025-04-18T00:39:42.675203",
     "exception": false,
     "start_time": "2025-04-18T00:39:42.099942",
     "status": "completed"
    },
    "tags": []
   },
   "outputs": [
    {
     "name": "stderr",
     "output_type": "stream",
     "text": [
      "\u001b[34m\u001b[1mwandb\u001b[0m: Using wandb-core as the SDK backend.  Please refer to https://wandb.me/wandb-core for more information.\n"
     ]
    },
    {
     "name": "stderr",
     "output_type": "stream",
     "text": [
      "\u001b[34m\u001b[1mwandb\u001b[0m: \u001b[33mWARNING\u001b[0m If you're specifying your api key in code, ensure this code is not shared publicly.\n",
      "\u001b[34m\u001b[1mwandb\u001b[0m: \u001b[33mWARNING\u001b[0m Consider setting the WANDB_API_KEY environment variable, or running `wandb login` from the command line.\n"
     ]
    },
    {
     "name": "stderr",
     "output_type": "stream",
     "text": [
      "\u001b[34m\u001b[1mwandb\u001b[0m: Appending key for api.wandb.ai to your netrc file: /jet/home/gandotra/.netrc\n"
     ]
    },
    {
     "name": "stderr",
     "output_type": "stream",
     "text": [
      "\u001b[34m\u001b[1mwandb\u001b[0m: Currently logged in as: \u001b[33mnayeshag\u001b[0m (\u001b[33mnayeshag-carnegie-mellon-university\u001b[0m) to \u001b[32mhttps://api.wandb.ai\u001b[0m. Use \u001b[1m`wandb login --relogin`\u001b[0m to force relogin\n"
     ]
    },
    {
     "data": {
      "text/plain": [
       "True"
      ]
     },
     "execution_count": 8,
     "metadata": {},
     "output_type": "execute_result"
    }
   ],
   "source": [
    "wandb.login(key=\"b78dba2c54228a3e3e32bd91a1a1efca38d69bb9\")"
   ]
  },
  {
   "cell_type": "code",
   "execution_count": 9,
   "id": "713ae3a5",
   "metadata": {
    "execution": {
     "iopub.execute_input": "2025-04-18T00:39:42.684630Z",
     "iopub.status.busy": "2025-04-18T00:39:42.684378Z",
     "iopub.status.idle": "2025-04-18T00:39:43.491421Z",
     "shell.execute_reply": "2025-04-18T00:39:43.490844Z"
    },
    "papermill": {
     "duration": 0.812541,
     "end_time": "2025-04-18T00:39:43.492622",
     "exception": false,
     "start_time": "2025-04-18T00:39:42.680081",
     "status": "completed"
    },
    "tags": []
   },
   "outputs": [
    {
     "name": "stdout",
     "output_type": "stream",
     "text": [
      "True\n"
     ]
    },
    {
     "name": "stderr",
     "output_type": "stream",
     "text": [
      "\u001b[34m\u001b[1mwandb\u001b[0m: Tracking run with wandb version 0.19.9\n"
     ]
    },
    {
     "name": "stderr",
     "output_type": "stream",
     "text": [
      "\u001b[34m\u001b[1mwandb\u001b[0m: Run data is saved locally in \u001b[35m\u001b[1m/ocean/projects/cis250019p/gandotra/IDL_project/wandb/run-20250417_203942-jq20gkxo\u001b[0m\n",
      "\u001b[34m\u001b[1mwandb\u001b[0m: Run \u001b[1m`wandb offline`\u001b[0m to turn off syncing.\n"
     ]
    },
    {
     "name": "stderr",
     "output_type": "stream",
     "text": [
      "\u001b[34m\u001b[1mwandb\u001b[0m: Syncing run \u001b[33mtest-1-fin\u001b[0m\n"
     ]
    },
    {
     "name": "stderr",
     "output_type": "stream",
     "text": [
      "\u001b[34m\u001b[1mwandb\u001b[0m: ⭐️ View project at \u001b[34m\u001b[4mhttps://wandb.ai/nayeshag-carnegie-mellon-university/IDL_final%20project%20PegasusNG\u001b[0m\n"
     ]
    },
    {
     "name": "stderr",
     "output_type": "stream",
     "text": [
      "\u001b[34m\u001b[1mwandb\u001b[0m: 🚀 View run at \u001b[34m\u001b[4mhttps://wandb.ai/nayeshag-carnegie-mellon-university/IDL_final%20project%20PegasusNG/runs/jq20gkxo\u001b[0m\n"
     ]
    }
   ],
   "source": [
    "trainer = TimeSeriesForecastingTrainer(\n",
    "    model=model,\n",
    "    config=config,\n",
    "    run_name=\"test-1-fin\",\n",
    "    config_file=\"config.yaml\",\n",
    "    device=device\n",
    ")"
   ]
  },
  {
   "cell_type": "code",
   "execution_count": 10,
   "id": "f03b2b19",
   "metadata": {
    "execution": {
     "iopub.execute_input": "2025-04-18T00:39:43.502656Z",
     "iopub.status.busy": "2025-04-18T00:39:43.502472Z",
     "iopub.status.idle": "2025-04-18T00:39:46.726293Z",
     "shell.execute_reply": "2025-04-18T00:39:46.725522Z"
    },
    "papermill": {
     "duration": 3.22932,
     "end_time": "2025-04-18T00:39:46.727056",
     "exception": false,
     "start_time": "2025-04-18T00:39:43.497736",
     "status": "completed"
    },
    "tags": []
   },
   "outputs": [
    {
     "name": "stdout",
     "output_type": "stream",
     "text": [
      "\n",
      "🔧 Configuring Optimizer:\n",
      "├── Type: ADAMW\n",
      "├── Base LR: 0.0005\n",
      "├── Weight Decay: 0.0001\n",
      "├── Parameter Groups:\n",
      "│   ├── Group: self_attn\n",
      "│   │   ├── LR: 0.0001\n",
      "│   │   └── Patterns: []\n",
      "│   ├── Group: ffn\n",
      "│   │   ├── LR: 0.0001\n",
      "│   │   └── Patterns: []\n",
      "│   └── Default Group (unmatched parameters)\n",
      "└── AdamW Specific:\n",
      "    ├── Betas: [0.9, 0.999]\n",
      "    ├── Epsilon: 1e-08\n",
      "    └── AMSGrad: False\n"
     ]
    },
    {
     "name": "stdout",
     "output_type": "stream",
     "text": [
      "\n",
      "📈 Configuring Learning Rate Scheduler:\n",
      "├── Type: COSINE\n",
      "├── Cosine Annealing Settings:\n",
      "│   ├── T_max: 15 epochs (120 steps)\n",
      "│   └── Min LR: 1e-08\n",
      "├── Warmup Settings:\n",
      "│   ├── Duration: 5 epochs (40 steps)\n",
      "│   ├── Start Factor: 0.1\n",
      "│   └── End Factor: 1.0\n",
      "Warning: Only showing 5 out of 46 parameter groups for clarity\n"
     ]
    },
    {
     "name": "stderr",
     "output_type": "stream",
     "text": [
      "/jet/home/psamal/hw_envs/idl_hw4/lib/python3.12/site-packages/torch/optim/lr_scheduler.py:240: UserWarning: The epoch parameter in `scheduler.step()` was not necessary and is being deprecated where possible. Please use `scheduler.step()` to step the scheduler. During the deprecation, if epoch is different from None, the closed form is used instead of the new chainable form, where available. Please open an issue if you are unable to replicate your use case: https://github.com/pytorch/pytorch/issues/new/choose.\n",
      "  warnings.warn(EPOCH_DEPRECATION_WARNING, UserWarning)\n"
     ]
    },
    {
     "data": {
      "image/png": "[encoded data removed]",
      "text/plain": [
       "<Figure size 1200x400 with 2 Axes>"
      ]
     },
     "metadata": {},
     "output_type": "display_data"
    },
    {
     "name": "stdout",
     "output_type": "stream",
     "text": [
      "\n",
      "📈 Configuring Learning Rate Scheduler:\n",
      "├── Type: COSINE\n",
      "├── Cosine Annealing Settings:\n",
      "│   ├── T_max: 15 epochs (120 steps)\n",
      "│   └── Min LR: 1e-08\n",
      "├── Warmup Settings:\n",
      "│   ├── Duration: 5 epochs (40 steps)\n",
      "│   ├── Start Factor: 0.1\n",
      "│   └── End Factor: 1.0\n"
     ]
    }
   ],
   "source": [
    "trainer.optimizer = create_optimizer(\n",
    "    model=model,\n",
    "    opt_config=config['optimizer']\n",
    ")\n",
    "\n",
    "test_scheduler = create_scheduler(\n",
    "    optimizer=trainer.optimizer,\n",
    "    scheduler_config=config['scheduler'],\n",
    "    train_loader=train_loader,\n",
    "    gradient_accumulation_steps=config['training']['gradient_accumulation_steps']\n",
    ")\n",
    "\n",
    "plot_lr_schedule(\n",
    "    scheduler=test_scheduler,\n",
    "    num_epochs=config['training']['epochs'],\n",
    "    train_loader=train_loader,\n",
    "    gradient_accumulation_steps=config['training']['gradient_accumulation_steps']\n",
    ")\n",
    "\n",
    "trainer.scheduler = create_scheduler(\n",
    "    optimizer=trainer.optimizer,\n",
    "    scheduler_config=config['scheduler'],\n",
    "    train_loader=train_loader,\n",
    "    gradient_accumulation_steps=config['training']['gradient_accumulation_steps']\n",
    ")\n"
   ]
  },
  {
   "cell_type": "markdown",
   "id": "9b44e242",
   "metadata": {
    "papermill": {
     "duration": 0.004675,
     "end_time": "2025-04-18T00:39:46.737401",
     "exception": false,
     "start_time": "2025-04-18T00:39:46.732726",
     "status": "completed"
    },
    "tags": []
   },
   "source": [
    "# Step 4: TRAIN!!   "
   ]
  },
  {
   "cell_type": "markdown",
   "id": "ec7995bb",
   "metadata": {
    "tags": [
     "papermill-error-cell-tag"
    ]
   },
   "source": [
    "<span id=\"papermill-error-cell\" style=\"color:red; font-family:Helvetica Neue, Helvetica, Arial, sans-serif; font-size:2em;\">Execution using papermill encountered an exception here and stopped:</span>"
   ]
  },
  {
   "cell_type": "code",
   "execution_count": 11,
   "id": "4353f0d9",
   "metadata": {
    "execution": {
     "iopub.execute_input": "2025-04-18T00:39:46.747713Z",
     "iopub.status.busy": "2025-04-18T00:39:46.747356Z",
     "iopub.status.idle": "2025-04-18T00:44:05.224984Z",
     "shell.execute_reply": "2025-04-18T00:44:05.223873Z"
    },
    "papermill": {
     "duration": 258.483954,
     "end_time": "2025-04-18T00:44:05.226128",
     "exception": true,
     "start_time": "2025-04-18T00:39:46.742174",
     "status": "failed"
    },
    "tags": []
   },
   "outputs": [
    {
     "name": "stderr",
     "output_type": "stream",
     "text": [
      "\r",
      "Training:   0%|                                                                                                     | 0/8 [00:00<?, ?it/s]"
     ]
    },
    {
     "name": "stderr",
     "output_type": "stream",
     "text": [
      "\r",
      "Training:   0%|                                                                          | 0/8 [00:32<?, ?it/s, loss=413.9525, mae=1.1138]"
     ]
    },
    {
     "name": "stderr",
     "output_type": "stream",
     "text": [
      "\r",
      "Training:  12%|████████▎                                                         | 1/8 [00:32<03:46, 32.32s/it, loss=413.9525, mae=1.1138]"
     ]
    },
    {
     "name": "stderr",
     "output_type": "stream",
     "text": [
      "\r",
      "Training:  12%|████████▎                                                         | 1/8 [01:09<03:46, 32.32s/it, loss=307.7805, mae=0.9632]"
     ]
    },
    {
     "name": "stderr",
     "output_type": "stream",
     "text": [
      "\r",
      "Training:  25%|████████████████▌                                                 | 2/8 [01:10<03:32, 35.48s/it, loss=307.7805, mae=0.9632]"
     ]
    },
    {
     "name": "stderr",
     "output_type": "stream",
     "text": [
      "\r",
      "Training:  25%|████████████████▌                                                 | 2/8 [01:50<03:32, 35.48s/it, loss=233.3796, mae=0.8110]"
     ]
    },
    {
     "name": "stderr",
     "output_type": "stream",
     "text": [
      "\r",
      "Training:  38%|████████████████████████▊                                         | 3/8 [01:50<03:08, 37.61s/it, loss=233.3796, mae=0.8110]"
     ]
    },
    {
     "name": "stderr",
     "output_type": "stream",
     "text": [
      "\r",
      "Training:  38%|████████████████████████▊                                         | 3/8 [02:26<03:08, 37.61s/it, loss=191.9218, mae=0.7060]"
     ]
    },
    {
     "name": "stderr",
     "output_type": "stream",
     "text": [
      "\r",
      "Training:  50%|█████████████████████████████████                                 | 4/8 [02:26<02:28, 37.13s/it, loss=191.9218, mae=0.7060]"
     ]
    },
    {
     "name": "stderr",
     "output_type": "stream",
     "text": [
      "\r",
      "Training:  50%|█████████████████████████████████                                 | 4/8 [02:49<02:28, 37.13s/it, loss=173.4520, mae=0.6657]"
     ]
    },
    {
     "name": "stderr",
     "output_type": "stream",
     "text": [
      "\r",
      "Training:  62%|█████████████████████████████████████████▎                        | 5/8 [02:49<01:35, 31.84s/it, loss=173.4520, mae=0.6657]"
     ]
    },
    {
     "name": "stderr",
     "output_type": "stream",
     "text": [
      "\r",
      "Training:  62%|█████████████████████████████████████████▎                        | 5/8 [03:21<01:35, 31.84s/it, loss=164.4578, mae=0.6569]"
     ]
    },
    {
     "name": "stderr",
     "output_type": "stream",
     "text": [
      "\r",
      "Training:  75%|█████████████████████████████████████████████████▌                | 6/8 [03:21<01:03, 31.90s/it, loss=164.4578, mae=0.6569]"
     ]
    },
    {
     "name": "stderr",
     "output_type": "stream",
     "text": [
      "\r",
      "Training:  75%|█████████████████████████████████████████████████▌                | 6/8 [03:43<01:03, 31.90s/it, loss=155.3631, mae=0.6447]"
     ]
    },
    {
     "name": "stderr",
     "output_type": "stream",
     "text": [
      "\r",
      "Training:  88%|█████████████████████████████████████████████████████████▊        | 7/8 [03:43<00:28, 28.76s/it, loss=155.3631, mae=0.6447]"
     ]
    },
    {
     "name": "stderr",
     "output_type": "stream",
     "text": [
      "\r",
      "Training:  88%|█████████████████████████████████████████████████████████▊        | 7/8 [04:04<00:28, 28.76s/it, loss=138.6458, mae=0.6400]"
     ]
    },
    {
     "name": "stderr",
     "output_type": "stream",
     "text": [
      "\r",
      "Training: 100%|██████████████████████████████████████████████████████████████████| 8/8 [04:04<00:00, 26.36s/it, loss=138.6458, mae=0.6400]"
     ]
    },
    {
     "name": "stderr",
     "output_type": "stream",
     "text": [
      "\r",
      "Training: 100%|██████████████████████████████████████████████████████████████████| 8/8 [04:04<00:00, 30.57s/it, loss=138.6458, mae=0.6400]"
     ]
    },
    {
     "name": "stderr",
     "output_type": "stream",
     "text": [
      "\n"
     ]
    },
    {
     "ename": "AttributeError",
     "evalue": "'int' object has no attribute 'items'",
     "output_type": "error",
     "traceback": [
      "\u001b[31m---------------------------------------------------------------------------\u001b[39m",
      "\u001b[31mAttributeError\u001b[39m                            Traceback (most recent call last)",
      "\u001b[36mCell\u001b[39m\u001b[36m \u001b[39m\u001b[32mIn[11]\u001b[39m\u001b[32m, line 1\u001b[39m\n\u001b[32m----> \u001b[39m\u001b[32m1\u001b[39m \u001b[43mtrainer\u001b[49m\u001b[43m.\u001b[49m\u001b[43mtrain\u001b[49m\u001b[43m(\u001b[49m\u001b[43mtrain_loader\u001b[49m\u001b[43m,\u001b[49m\u001b[43m \u001b[49m\u001b[43mval_loader\u001b[49m\u001b[43m,\u001b[49m\u001b[43m \u001b[49m\u001b[43mepochs\u001b[49m\u001b[43m=\u001b[49m\u001b[43mconfig\u001b[49m\u001b[43m[\u001b[49m\u001b[33;43m'\u001b[39;49m\u001b[33;43mtraining\u001b[39;49m\u001b[33;43m'\u001b[39;49m\u001b[43m]\u001b[49m\u001b[43m[\u001b[49m\u001b[33;43m'\u001b[39;49m\u001b[33;43mepochs\u001b[39;49m\u001b[33;43m'\u001b[39;49m\u001b[43m]\u001b[49m\u001b[43m)\u001b[49m\n",
      "\u001b[36mFile \u001b[39m\u001b[32m/ocean/projects/cis250019p/gandotra/IDL_project/model_components/fin_trainer.py:95\u001b[39m, in \u001b[36mTimeSeriesForecastingTrainer.train\u001b[39m\u001b[34m(self, train_loader, val_loader, epochs)\u001b[39m\n\u001b[32m     89\u001b[39m \u001b[38;5;66;03m# Log metrics\u001b[39;00m\n\u001b[32m     90\u001b[39m metrics = {\n\u001b[32m     91\u001b[39m     \u001b[33m'\u001b[39m\u001b[33mepoch\u001b[39m\u001b[33m'\u001b[39m: epoch+\u001b[32m1\u001b[39m,\n\u001b[32m     92\u001b[39m     \u001b[33m'\u001b[39m\u001b[33mtrain\u001b[39m\u001b[33m'\u001b[39m: train_metrics,\n\u001b[32m     93\u001b[39m     \u001b[33m'\u001b[39m\u001b[33mval\u001b[39m\u001b[33m'\u001b[39m: val_metrics\n\u001b[32m     94\u001b[39m }\n\u001b[32m---> \u001b[39m\u001b[32m95\u001b[39m \u001b[38;5;28;43mself\u001b[39;49m\u001b[43m.\u001b[49m\u001b[43m_log_metrics\u001b[49m\u001b[43m(\u001b[49m\u001b[43mmetrics\u001b[49m\u001b[43m,\u001b[49m\u001b[43m \u001b[49m\u001b[43mepoch\u001b[49m\u001b[43m)\u001b[49m\n\u001b[32m     97\u001b[39m \u001b[38;5;66;03m# Save best model\u001b[39;00m\n\u001b[32m     98\u001b[39m \u001b[38;5;28;01mif\u001b[39;00m val_metrics[\u001b[33m'\u001b[39m\u001b[33mval_loss\u001b[39m\u001b[33m'\u001b[39m] < best_val_loss:\n",
      "\u001b[36mFile \u001b[39m\u001b[32m/ocean/projects/cis250019p/gandotra/IDL_project/model_components/base_trainer.py:120\u001b[39m, in \u001b[36mBaseTrainer._log_metrics\u001b[39m\u001b[34m(self, metrics, epoch)\u001b[39m\n\u001b[32m    118\u001b[39m wandb_metrics = {}\n\u001b[32m    119\u001b[39m \u001b[38;5;28;01mfor\u001b[39;00m split, split_metrics \u001b[38;5;129;01min\u001b[39;00m metrics.items():\n\u001b[32m--> \u001b[39m\u001b[32m120\u001b[39m     \u001b[38;5;28;01mfor\u001b[39;00m metric_name, value \u001b[38;5;129;01min\u001b[39;00m \u001b[43msplit_metrics\u001b[49m\u001b[43m.\u001b[49m\u001b[43mitems\u001b[49m():\n\u001b[32m    121\u001b[39m         wandb_metrics[\u001b[33mf\u001b[39m\u001b[33m'\u001b[39m\u001b[38;5;132;01m{\u001b[39;00msplit\u001b[38;5;132;01m}\u001b[39;00m\u001b[33m/\u001b[39m\u001b[38;5;132;01m{\u001b[39;00mmetric_name\u001b[38;5;132;01m}\u001b[39;00m\u001b[33m'\u001b[39m] = value\n\u001b[32m    122\u001b[39m wandb_metrics[\u001b[33m'\u001b[39m\u001b[33mlearning_rate\u001b[39m\u001b[33m'\u001b[39m] = \u001b[38;5;28mself\u001b[39m.optimizer.param_groups[\u001b[32m0\u001b[39m][\u001b[33m'\u001b[39m\u001b[33mlr\u001b[39m\u001b[33m'\u001b[39m]\n",
      "\u001b[31mAttributeError\u001b[39m: 'int' object has no attribute 'items'"
     ]
    }
   ],
   "source": [
    "trainer.train(train_loader, val_loader, epochs=config['training']['epochs'])"
   ]
  }
 ],
 "metadata": {
  "language_info": {
   "codemirror_mode": {
    "name": "ipython",
    "version": 3
   },
   "file_extension": ".py",
   "mimetype": "text/x-python",
   "name": "python",
   "nbconvert_exporter": "python",
   "pygments_lexer": "ipython3",
   "version": "3.12.4"
  },
  "papermill": {
   "default_parameters": {},
   "duration": 292.232909,
   "end_time": "2025-04-18T00:44:08.674882",
   "environment_variables": {},
   "exception": true,
   "input_path": "finpredictor.ipynb",
   "output_path": "finpredictor1.ipynb",
   "parameters": {},
   "start_time": "2025-04-18T00:39:16.441973",
   "version": "2.6.0"
  }
 },
 "nbformat": 4,
 "nbformat_minor": 5
}