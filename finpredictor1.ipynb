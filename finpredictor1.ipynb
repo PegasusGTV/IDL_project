{
 "cells": [
  {
   "cell_type": "markdown",
   "id": "6bd44412",
   "metadata": {
    "tags": [
     "papermill-error-cell-tag"
    ]
   },
   "source": [
    "<span style=\"color:red; font-family:Helvetica Neue, Helvetica, Arial, sans-serif; font-size:2em;\">An Exception was encountered at '<a href=\"#papermill-error-cell\">In [10]</a>'.</span>"
   ]
  },
  {
   "cell_type": "markdown",
   "id": "dcf54b91",
   "metadata": {
    "papermill": {
     "duration": 0.033463,
     "end_time": "2025-04-20T21:10:08.615661",
     "exception": false,
     "start_time": "2025-04-20T21:10:08.582198",
     "status": "completed"
    },
    "tags": []
   },
   "source": [
    "# STEP 1: Imports and Get Data"
   ]
  },
  {
   "cell_type": "code",
   "execution_count": 1,
   "id": "3a06a86e",
   "metadata": {
    "execution": {
     "iopub.execute_input": "2025-04-20T21:10:08.731019Z",
     "iopub.status.busy": "2025-04-20T21:10:08.721388Z",
     "iopub.status.idle": "2025-04-20T21:21:59.401012Z",
     "shell.execute_reply": "2025-04-20T21:21:59.381587Z"
    },
    "papermill": {
     "duration": 711.167842,
     "end_time": "2025-04-20T21:21:59.806403",
     "exception": false,
     "start_time": "2025-04-20T21:10:08.638561",
     "status": "completed"
    },
    "tags": []
   },
   "outputs": [
    {
     "name": "stdout",
     "output_type": "stream",
     "text": [
      "Using device: cpu\n"
     ]
    }
   ],
   "source": [
    "from model_components.data_reader import FinancialTimeSeriesDataset\n",
    "from model_components.transformers import TimeSeriesTransformer\n",
    "from model_components.fin_trainer import TimeSeriesForecastingTrainer\n",
    "from model_components.utils import (\n",
    "    create_optimizer,\n",
    "    create_scheduler,\n",
    "    plot_lr_schedule\n",
    ")\n",
    "  \n",
    "from torch.utils.data import DataLoader\n",
    "import matplotlib.pyplot as plt\n",
    "import yaml\n",
    "import gc\n",
    "import torch\n",
    "from torchinfo import summary\n",
    "import os\n",
    "import json\n",
    "import tarfile\n",
    "import shutil\n",
    "import wandb\n",
    "import yaml\n",
    "from sklearn.preprocessing import MinMaxScaler, StandardScaler\n",
    "device = \"cuda\" if torch.cuda.is_available() else \"cpu\"\n",
    "print(f\"Using device: {device}\")"
   ]
  },
  {
   "cell_type": "code",
   "execution_count": 2,
   "id": "d7fa1554",
   "metadata": {
    "execution": {
     "iopub.execute_input": "2025-04-20T21:22:00.360280Z",
     "iopub.status.busy": "2025-04-20T21:22:00.292141Z",
     "iopub.status.idle": "2025-04-20T21:22:00.764008Z",
     "shell.execute_reply": "2025-04-20T21:22:00.613379Z"
    },
    "papermill": {
     "duration": 0.921526,
     "end_time": "2025-04-20T21:22:00.905279",
     "exception": false,
     "start_time": "2025-04-20T21:21:59.983753",
     "status": "completed"
    },
    "tags": []
   },
   "outputs": [
    {
     "name": "stdout",
     "output_type": "stream",
     "text": [
      "Overwriting config.yaml\n"
     ]
    }
   ],
   "source": [
    "%%writefile config.yaml\n",
    "\n",
    "Name                      : \"Nayesha-Gopal\"\n",
    "\n",
    "###### Dataset -----------------------------------------------------------------\n",
    "data:                    # Currently setup for Colab assuming out setup\n",
    "  root                 : \"/local/hw4_data/hw4p1_data\"  # TODO: Set the root path of your data\n",
    "  train_partition      : \"train\"  # train\n",
    "  val_partition        : \"val\"    # val\n",
    "  test_partition       : \"test\"   # test\n",
    "  subset               : 1.0      # Load a subset of the data (for debugging, testing, etc\n",
    "  batch_size           : 256      #\n",
    "  NUM_WORKERS          : 2        # Set to 0 for CPU\n",
    "  forecast_horizon     : 5\n",
    "\n",
    "###### Network Specs -------------------------------------------------------------\n",
    "model: # Decoder-Only Language Model (HW4P1)\n",
    "  d_model                   : 256\n",
    "  d_ff                      : 1024\n",
    "  d_freq                    : 3    #how many dimensions to split time into- must be odd because it adds 1?\n",
    "  num_layers                : 2\n",
    "  num_heads                 : 2\n",
    "  dropout                   : 0.0\n",
    "\n",
    "###### Common Training Parameters ------------------------------------------------\n",
    "training:\n",
    "  use_wandb                   : True   # Toggle wandb logging\n",
    "  wandb_run_id                : \"none\" # \"none\" or \"run_id\"\n",
    "  resume                      : False  # Resume an existing run (run_id != 'none')\n",
    "  epochs                      : 10\n",
    "  gradient_accumulation_steps : 1\n",
    "  wandb_project               : \"IDL_final project PegasusNG\" # wandb project to log to\n",
    "\n",
    "###### Loss ----------------------------------------------------------------------\n",
    "loss: # Just good ol' MSE\n",
    "  label_smoothing: 0.0\n",
    "\n",
    "###### Optimizer -----------------------------------------------------------------\n",
    "optimizer:\n",
    "  name: \"adamw\" # Options: sgd, adam, adamw\n",
    "  lr: 5.0e-4   # Base learning rate\n",
    "\n",
    "  # Common parameters\n",
    "  weight_decay: 0.0001\n",
    "\n",
    "  # Parameter groups\n",
    "  param_groups:\n",
    "    - name: self_attn\n",
    "      patterns: []  # Will match all parameters containing keywords set their learning rate to 0.0001\n",
    "      lr: 0.0001    # LR for self_attn\n",
    "      layer_decay:\n",
    "        enabled: False\n",
    "        decay_rate: 0.8\n",
    "\n",
    "    - name: ffn\n",
    "      patterns: [] # Will match all parameters containing \"ffn\" and set their learning rate to 0.0001\n",
    "      lr: 0.0001   # LR for ffn\n",
    "      layer_decay:\n",
    "        enabled: False\n",
    "        decay_rate: 0.8\n",
    "\n",
    "  # Layer-wise learning rates\n",
    "  layer_decay:\n",
    "    enabled: False\n",
    "    decay_rate: 0.75\n",
    "\n",
    "  # SGD specific parameters\n",
    "  sgd:\n",
    "    momentum: 0.9\n",
    "    nesterov: True\n",
    "    dampening: 0\n",
    "\n",
    "  # Adam specific parameters\n",
    "  adam:\n",
    "    betas: [0.9, 0.999]\n",
    "    eps: 1.0e-8\n",
    "    amsgrad: False\n",
    "\n",
    "  # AdamW specific parameters\n",
    "  adamw:\n",
    "    betas: [0.9, 0.999]\n",
    "    eps: 1.0e-8\n",
    "    amsgrad: False\n",
    "\n",
    "###### Scheduler -----------------------------------------------------------------\n",
    "scheduler:\n",
    "  name: \"cosine\"  # Options: reduce_lr, cosine, cosine_warm\n",
    "\n",
    "  # ReduceLROnPlateau specific parameters\n",
    "  reduce_lr:\n",
    "    mode: \"min\"  # Options: min, max\n",
    "    factor: 0.1  # Factor to reduce learning rate by\n",
    "    patience: 10  # Number of epochs with no improvement after which LR will be reduced\n",
    "    threshold: 0.0001  # Threshold for measuring the new optimum\n",
    "    threshold_mode: \"rel\"  # Options: rel, abs\n",
    "    cooldown: 0  # Number of epochs to wait before resuming normal operation\n",
    "    min_lr: 0.0000001  # Minimum learning rate\n",
    "    eps: 1.0e-8  # Minimal decay applied to lr\n",
    "\n",
    "  # CosineAnnealingLR specific parameters\n",
    "  cosine:\n",
    "    T_max: 15  # Maximum number of iterations\n",
    "    eta_min: 1.0e-8  # Minimum learning rate\n",
    "    last_epoch: -1\n",
    "\n",
    "  # CosineAnnealingWarmRestarts specific parameters\n",
    "  cosine_warm:\n",
    "    T_0: 4  # Number of iterations for the first restart\n",
    "    T_mult: 4  # Factor increasing T_i after each restart\n",
    "    eta_min: 0.0000001  # Minimum learning rate\n",
    "    last_epoch: -1\n",
    "\n",
    "  # Warmup parameters (can be used with any scheduler)\n",
    "  warmup:\n",
    "    enabled: True\n",
    "    type: \"exponential\"  # Options: linear, exponential\n",
    "    epochs: 5\n",
    "    start_factor: 0.1\n",
    "    end_factor: 1.0"
   ]
  },
  {
   "cell_type": "code",
   "execution_count": 3,
   "id": "8b98f17c",
   "metadata": {
    "execution": {
     "iopub.execute_input": "2025-04-20T21:22:01.234364Z",
     "iopub.status.busy": "2025-04-20T21:22:01.169157Z",
     "iopub.status.idle": "2025-04-20T21:22:01.464545Z",
     "shell.execute_reply": "2025-04-20T21:22:01.435436Z"
    },
    "papermill": {
     "duration": 0.539472,
     "end_time": "2025-04-20T21:22:01.490989",
     "exception": false,
     "start_time": "2025-04-20T21:22:00.951517",
     "status": "completed"
    },
    "tags": []
   },
   "outputs": [],
   "source": [
    "with open('config.yaml', 'r') as file:\n",
    "    config = yaml.safe_load(file)"
   ]
  },
  {
   "cell_type": "code",
   "execution_count": 4,
   "id": "ddd139fe",
   "metadata": {
    "execution": {
     "iopub.execute_input": "2025-04-20T21:22:01.984977Z",
     "iopub.status.busy": "2025-04-20T21:22:01.857634Z",
     "iopub.status.idle": "2025-04-20T21:26:08.785811Z",
     "shell.execute_reply": "2025-04-20T21:26:08.784971Z"
    },
    "papermill": {
     "duration": 247.170709,
     "end_time": "2025-04-20T21:26:08.787459",
     "exception": false,
     "start_time": "2025-04-20T21:22:01.616750",
     "status": "completed"
    },
    "tags": []
   },
   "outputs": [
    {
     "name": "stdout",
     "output_type": "stream",
     "text": [
      "YF.download() has changed argument auto_adjust default to True\n"
     ]
    },
    {
     "name": "stderr",
     "output_type": "stream",
     "text": [
      "\r",
      "[*********************100%***********************]  1 of 1 completed"
     ]
    },
    {
     "name": "stderr",
     "output_type": "stream",
     "text": [
      "\n"
     ]
    },
    {
     "name": "stderr",
     "output_type": "stream",
     "text": [
      "\r",
      "Processing ^SPX (train):   0%|                                                                         | 0/926 [00:00<?, ?it/s]"
     ]
    },
    {
     "name": "stderr",
     "output_type": "stream",
     "text": [
      "\r",
      "Processing ^SPX (train):   0%|                                                                 | 1/926 [00:00<03:56,  3.91it/s]"
     ]
    },
    {
     "name": "stderr",
     "output_type": "stream",
     "text": [
      "\r",
      "Processing ^SPX (train):   0%|▏                                                                | 2/926 [00:00<06:08,  2.51it/s]"
     ]
    },
    {
     "name": "stderr",
     "output_type": "stream",
     "text": [
      "\r",
      "Processing ^SPX (train):   0%|▏                                                                | 3/926 [00:01<06:16,  2.45it/s]"
     ]
    },
    {
     "name": "stderr",
     "output_type": "stream",
     "text": [
      "\r",
      "Processing ^SPX (train):   0%|▎                                                                | 4/926 [00:01<05:26,  2.82it/s]"
     ]
    },
    {
     "name": "stderr",
     "output_type": "stream",
     "text": [
      "\r",
      "Processing ^SPX (train):   1%|▎                                                                | 5/926 [00:01<06:05,  2.52it/s]"
     ]
    },
    {
     "name": "stderr",
     "output_type": "stream",
     "text": [
      "\r",
      "Processing ^SPX (train):   1%|▍                                                                | 6/926 [00:02<05:44,  2.67it/s]"
     ]
    },
    {
     "name": "stderr",
     "output_type": "stream",
     "text": [
      "\r",
      "Processing ^SPX (train):   1%|▍                                                                | 7/926 [00:02<05:50,  2.62it/s]"
     ]
    },
    {
     "name": "stderr",
     "output_type": "stream",
     "text": [
      "\r",
      "Processing ^SPX (train):   1%|▌                                                                | 8/926 [00:02<05:17,  2.89it/s]"
     ]
    },
    {
     "name": "stderr",
     "output_type": "stream",
     "text": [
      "\r",
      "Processing ^SPX (train):   1%|▋                                                                | 9/926 [00:03<05:27,  2.80it/s]"
     ]
    },
    {
     "name": "stderr",
     "output_type": "stream",
     "text": [
      "\r",
      "Processing ^SPX (train):   1%|▋                                                               | 10/926 [00:03<05:28,  2.78it/s]"
     ]
    },
    {
     "name": "stderr",
     "output_type": "stream",
     "text": [
      "\r",
      "Processing ^SPX (train):   1%|▊                                                               | 11/926 [00:04<05:38,  2.70it/s]"
     ]
    },
    {
     "name": "stderr",
     "output_type": "stream",
     "text": [
      "\r",
      "Processing ^SPX (train):   1%|▊                                                               | 12/926 [00:04<05:47,  2.63it/s]"
     ]
    },
    {
     "name": "stderr",
     "output_type": "stream",
     "text": [
      "\r",
      "Processing ^SPX (train):   1%|▉                                                               | 13/926 [00:04<05:48,  2.62it/s]"
     ]
    },
    {
     "name": "stderr",
     "output_type": "stream",
     "text": [
      "\r",
      "Processing ^SPX (train):   2%|▉                                                               | 14/926 [00:05<05:25,  2.80it/s]"
     ]
    },
    {
     "name": "stderr",
     "output_type": "stream",
     "text": [
      "\r",
      "Processing ^SPX (train):   2%|█                                                               | 15/926 [00:05<05:34,  2.72it/s]"
     ]
    },
    {
     "name": "stderr",
     "output_type": "stream",
     "text": [
      "\r",
      "Processing ^SPX (train):   2%|█                                                               | 16/926 [00:05<05:35,  2.71it/s]"
     ]
    },
    {
     "name": "stderr",
     "output_type": "stream",
     "text": [
      "\r",
      "Processing ^SPX (train):   2%|█▏                                                              | 17/926 [00:06<05:10,  2.93it/s]"
     ]
    },
    {
     "name": "stderr",
     "output_type": "stream",
     "text": [
      "\r",
      "Processing ^SPX (train):   2%|█▏                                                              | 18/926 [00:06<04:59,  3.03it/s]"
     ]
    },
    {
     "name": "stderr",
     "output_type": "stream",
     "text": [
      "\r",
      "Processing ^SPX (train):   2%|█▎                                                              | 19/926 [00:06<05:04,  2.98it/s]"
     ]
    },
    {
     "name": "stderr",
     "output_type": "stream",
     "text": [
      "\r",
      "Processing ^SPX (train):   2%|█▍                                                              | 20/926 [00:07<05:37,  2.68it/s]"
     ]
    },
    {
     "name": "stderr",
     "output_type": "stream",
     "text": [
      "\r",
      "Processing ^SPX (train):   2%|█▍                                                              | 21/926 [00:07<05:34,  2.70it/s]"
     ]
    },
    {
     "name": "stderr",
     "output_type": "stream",
     "text": [
      "\r",
      "Processing ^SPX (train):   2%|█▌                                                              | 22/926 [00:08<05:52,  2.56it/s]"
     ]
    },
    {
     "name": "stderr",
     "output_type": "stream",
     "text": [
      "\r",
      "Processing ^SPX (train):   2%|█▌                                                              | 23/926 [00:08<06:01,  2.50it/s]"
     ]
    },
    {
     "name": "stderr",
     "output_type": "stream",
     "text": [
      "\r",
      "Processing ^SPX (train):   3%|█▋                                                              | 24/926 [00:08<05:23,  2.78it/s]"
     ]
    },
    {
     "name": "stderr",
     "output_type": "stream",
     "text": [
      "\r",
      "Processing ^SPX (train):   3%|█▋                                                              | 25/926 [00:09<05:42,  2.63it/s]"
     ]
    },
    {
     "name": "stderr",
     "output_type": "stream",
     "text": [
      "\r",
      "Processing ^SPX (train):   3%|█▊                                                              | 26/926 [00:09<05:31,  2.72it/s]"
     ]
    },
    {
     "name": "stderr",
     "output_type": "stream",
     "text": [
      "\r",
      "Processing ^SPX (train):   3%|█▊                                                              | 27/926 [00:09<05:12,  2.87it/s]"
     ]
    },
    {
     "name": "stderr",
     "output_type": "stream",
     "text": [
      "\r",
      "Processing ^SPX (train):   3%|█▉                                                              | 28/926 [00:10<05:20,  2.81it/s]"
     ]
    },
    {
     "name": "stderr",
     "output_type": "stream",
     "text": [
      "\r",
      "Processing ^SPX (train):   3%|██                                                              | 29/926 [00:10<05:01,  2.98it/s]"
     ]
    },
    {
     "name": "stderr",
     "output_type": "stream",
     "text": [
      "\r",
      "Processing ^SPX (train):   3%|██                                                              | 30/926 [00:10<05:08,  2.91it/s]"
     ]
    },
    {
     "name": "stderr",
     "output_type": "stream",
     "text": [
      "\r",
      "Processing ^SPX (train):   3%|██▏                                                             | 31/926 [00:11<05:19,  2.80it/s]"
     ]
    },
    {
     "name": "stderr",
     "output_type": "stream",
     "text": [
      "\r",
      "Processing ^SPX (train):   3%|██▏                                                             | 32/926 [00:11<05:09,  2.89it/s]"
     ]
    },
    {
     "name": "stderr",
     "output_type": "stream",
     "text": [
      "\r",
      "Processing ^SPX (train):   4%|██▎                                                             | 33/926 [00:11<04:55,  3.02it/s]"
     ]
    },
    {
     "name": "stderr",
     "output_type": "stream",
     "text": [
      "\r",
      "Processing ^SPX (train):   4%|██▎                                                             | 34/926 [00:12<04:52,  3.05it/s]"
     ]
    },
    {
     "name": "stderr",
     "output_type": "stream",
     "text": [
      "\r",
      "Processing ^SPX (train):   4%|██▍                                                             | 35/926 [00:12<05:26,  2.72it/s]"
     ]
    },
    {
     "name": "stderr",
     "output_type": "stream",
     "text": [
      "\r",
      "Processing ^SPX (train):   4%|██▍                                                             | 36/926 [00:13<05:46,  2.57it/s]"
     ]
    },
    {
     "name": "stderr",
     "output_type": "stream",
     "text": [
      "\r",
      "Processing ^SPX (train):   4%|██▌                                                             | 37/926 [00:13<05:54,  2.51it/s]"
     ]
    },
    {
     "name": "stderr",
     "output_type": "stream",
     "text": [
      "\r",
      "Processing ^SPX (train):   4%|██▋                                                             | 38/926 [00:13<05:33,  2.66it/s]"
     ]
    },
    {
     "name": "stderr",
     "output_type": "stream",
     "text": [
      "\r",
      "Processing ^SPX (train):   4%|██▋                                                             | 39/926 [00:14<05:16,  2.80it/s]"
     ]
    },
    {
     "name": "stderr",
     "output_type": "stream",
     "text": [
      "\r",
      "Processing ^SPX (train):   4%|██▊                                                             | 40/926 [00:14<05:30,  2.68it/s]"
     ]
    },
    {
     "name": "stderr",
     "output_type": "stream",
     "text": [
      "\r",
      "Processing ^SPX (train):   4%|██▊                                                             | 41/926 [00:14<05:33,  2.66it/s]"
     ]
    },
    {
     "name": "stderr",
     "output_type": "stream",
     "text": [
      "\r",
      "Processing ^SPX (train):   5%|██▉                                                             | 42/926 [00:15<05:13,  2.82it/s]"
     ]
    },
    {
     "name": "stderr",
     "output_type": "stream",
     "text": [
      "\r",
      "Processing ^SPX (train):   5%|██▉                                                             | 43/926 [00:15<05:38,  2.61it/s]"
     ]
    },
    {
     "name": "stderr",
     "output_type": "stream",
     "text": [
      "\r",
      "Processing ^SPX (train):   5%|███                                                             | 44/926 [00:16<05:33,  2.64it/s]"
     ]
    },
    {
     "name": "stderr",
     "output_type": "stream",
     "text": [
      "\r",
      "Processing ^SPX (train):   5%|███                                                             | 45/926 [00:16<05:02,  2.91it/s]"
     ]
    },
    {
     "name": "stderr",
     "output_type": "stream",
     "text": [
      "\r",
      "Processing ^SPX (train):   5%|███▏                                                            | 46/926 [00:16<05:33,  2.64it/s]"
     ]
    },
    {
     "name": "stderr",
     "output_type": "stream",
     "text": [
      "\r",
      "Processing ^SPX (train):   5%|███▏                                                            | 47/926 [00:17<05:36,  2.61it/s]"
     ]
    },
    {
     "name": "stderr",
     "output_type": "stream",
     "text": [
      "\r",
      "Processing ^SPX (train):   5%|███▎                                                            | 48/926 [00:17<05:52,  2.49it/s]"
     ]
    },
    {
     "name": "stderr",
     "output_type": "stream",
     "text": [
      "\r",
      "Processing ^SPX (train):   5%|███▍                                                            | 49/926 [00:18<05:43,  2.55it/s]"
     ]
    },
    {
     "name": "stderr",
     "output_type": "stream",
     "text": [
      "\r",
      "Processing ^SPX (train):   5%|███▍                                                            | 50/926 [00:18<05:20,  2.73it/s]"
     ]
    },
    {
     "name": "stderr",
     "output_type": "stream",
     "text": [
      "\r",
      "Processing ^SPX (train):   6%|███▌                                                            | 51/926 [00:18<05:29,  2.65it/s]"
     ]
    },
    {
     "name": "stderr",
     "output_type": "stream",
     "text": [
      "\r",
      "Processing ^SPX (train):   6%|███▌                                                            | 52/926 [00:19<05:43,  2.55it/s]"
     ]
    },
    {
     "name": "stderr",
     "output_type": "stream",
     "text": [
      "\r",
      "Processing ^SPX (train):   6%|███▋                                                            | 53/926 [00:19<05:30,  2.64it/s]"
     ]
    },
    {
     "name": "stderr",
     "output_type": "stream",
     "text": [
      "\r",
      "Processing ^SPX (train):   6%|███▋                                                            | 54/926 [00:19<05:09,  2.81it/s]"
     ]
    },
    {
     "name": "stderr",
     "output_type": "stream",
     "text": [
      "\r",
      "Processing ^SPX (train):   6%|███▊                                                            | 55/926 [00:20<04:57,  2.93it/s]"
     ]
    },
    {
     "name": "stderr",
     "output_type": "stream",
     "text": [
      "\r",
      "Processing ^SPX (train):   6%|███▊                                                            | 56/926 [00:20<05:08,  2.82it/s]"
     ]
    },
    {
     "name": "stderr",
     "output_type": "stream",
     "text": [
      "\r",
      "Processing ^SPX (train):   6%|███▉                                                            | 57/926 [00:20<05:21,  2.70it/s]"
     ]
    },
    {
     "name": "stderr",
     "output_type": "stream",
     "text": [
      "\r",
      "Processing ^SPX (train):   6%|████                                                            | 58/926 [00:21<05:39,  2.55it/s]"
     ]
    },
    {
     "name": "stderr",
     "output_type": "stream",
     "text": [
      "\r",
      "Processing ^SPX (train):   6%|████                                                            | 59/926 [00:21<05:21,  2.69it/s]"
     ]
    },
    {
     "name": "stderr",
     "output_type": "stream",
     "text": [
      "\r",
      "Processing ^SPX (train):   6%|████▏                                                           | 60/926 [00:22<05:28,  2.64it/s]"
     ]
    },
    {
     "name": "stderr",
     "output_type": "stream",
     "text": [
      "\r",
      "Processing ^SPX (train):   7%|████▏                                                           | 61/926 [00:22<05:47,  2.49it/s]"
     ]
    },
    {
     "name": "stderr",
     "output_type": "stream",
     "text": [
      "\r",
      "Processing ^SPX (train):   7%|████▎                                                           | 62/926 [00:22<06:00,  2.40it/s]"
     ]
    },
    {
     "name": "stderr",
     "output_type": "stream",
     "text": [
      "\r",
      "Processing ^SPX (train):   7%|████▎                                                           | 63/926 [00:23<05:27,  2.63it/s]"
     ]
    },
    {
     "name": "stderr",
     "output_type": "stream",
     "text": [
      "\r",
      "Processing ^SPX (train):   7%|████▍                                                           | 64/926 [00:23<05:38,  2.55it/s]"
     ]
    },
    {
     "name": "stderr",
     "output_type": "stream",
     "text": [
      "\r",
      "Processing ^SPX (train):   7%|████▍                                                           | 65/926 [00:23<05:08,  2.79it/s]"
     ]
    },
    {
     "name": "stderr",
     "output_type": "stream",
     "text": [
      "\r",
      "Processing ^SPX (train):   7%|████▌                                                           | 66/926 [00:24<05:10,  2.77it/s]"
     ]
    },
    {
     "name": "stderr",
     "output_type": "stream",
     "text": [
      "\r",
      "Processing ^SPX (train):   7%|████▋                                                           | 67/926 [00:24<05:18,  2.70it/s]"
     ]
    },
    {
     "name": "stderr",
     "output_type": "stream",
     "text": [
      "\r",
      "Processing ^SPX (train):   7%|████▋                                                           | 68/926 [00:25<05:39,  2.53it/s]"
     ]
    },
    {
     "name": "stderr",
     "output_type": "stream",
     "text": [
      "\r",
      "Processing ^SPX (train):   7%|████▊                                                           | 69/926 [00:25<05:44,  2.49it/s]"
     ]
    },
    {
     "name": "stderr",
     "output_type": "stream",
     "text": [
      "\r",
      "Processing ^SPX (train):   8%|████▊                                                           | 70/926 [00:25<05:23,  2.65it/s]"
     ]
    },
    {
     "name": "stderr",
     "output_type": "stream",
     "text": [
      "\r",
      "Processing ^SPX (train):   8%|████▉                                                           | 71/926 [00:26<05:48,  2.46it/s]"
     ]
    },
    {
     "name": "stderr",
     "output_type": "stream",
     "text": [
      "\r",
      "Processing ^SPX (train):   8%|████▉                                                           | 72/926 [00:26<05:25,  2.62it/s]"
     ]
    },
    {
     "name": "stderr",
     "output_type": "stream",
     "text": [
      "\r",
      "Processing ^SPX (train):   8%|█████                                                           | 73/926 [00:27<04:58,  2.85it/s]"
     ]
    },
    {
     "name": "stderr",
     "output_type": "stream",
     "text": [
      "\r",
      "Processing ^SPX (train):   8%|█████                                                           | 74/926 [00:27<05:18,  2.68it/s]"
     ]
    },
    {
     "name": "stderr",
     "output_type": "stream",
     "text": [
      "\r",
      "Processing ^SPX (train):   8%|█████▏                                                          | 75/926 [00:27<05:43,  2.48it/s]"
     ]
    },
    {
     "name": "stderr",
     "output_type": "stream",
     "text": [
      "\r",
      "Processing ^SPX (train):   8%|█████▎                                                          | 76/926 [00:28<05:48,  2.44it/s]"
     ]
    },
    {
     "name": "stderr",
     "output_type": "stream",
     "text": [
      "\r",
      "Processing ^SPX (train):   8%|█████▎                                                          | 77/926 [00:28<05:38,  2.51it/s]"
     ]
    },
    {
     "name": "stderr",
     "output_type": "stream",
     "text": [
      "\r",
      "Processing ^SPX (train):   8%|█████▍                                                          | 78/926 [00:29<05:49,  2.42it/s]"
     ]
    },
    {
     "name": "stderr",
     "output_type": "stream",
     "text": [
      "\r",
      "Processing ^SPX (train):   9%|█████▍                                                          | 79/926 [00:29<05:23,  2.62it/s]"
     ]
    },
    {
     "name": "stderr",
     "output_type": "stream",
     "text": [
      "\r",
      "Processing ^SPX (train):   9%|█████▌                                                          | 80/926 [00:29<05:38,  2.50it/s]"
     ]
    },
    {
     "name": "stderr",
     "output_type": "stream",
     "text": [
      "\r",
      "Processing ^SPX (train):   9%|█████▌                                                          | 81/926 [00:30<05:01,  2.80it/s]"
     ]
    },
    {
     "name": "stderr",
     "output_type": "stream",
     "text": [
      "\r",
      "Processing ^SPX (train):   9%|█████▋                                                          | 82/926 [00:30<05:34,  2.53it/s]"
     ]
    },
    {
     "name": "stderr",
     "output_type": "stream",
     "text": [
      "\r",
      "Processing ^SPX (train):   9%|█████▋                                                          | 83/926 [00:31<05:41,  2.47it/s]"
     ]
    },
    {
     "name": "stderr",
     "output_type": "stream",
     "text": [
      "\r",
      "Processing ^SPX (train):   9%|█████▊                                                          | 84/926 [00:31<05:55,  2.37it/s]"
     ]
    },
    {
     "name": "stderr",
     "output_type": "stream",
     "text": [
      "\r",
      "Processing ^SPX (train):   9%|█████▊                                                          | 85/926 [00:31<05:44,  2.44it/s]"
     ]
    },
    {
     "name": "stderr",
     "output_type": "stream",
     "text": [
      "\r",
      "Processing ^SPX (train):   9%|█████▉                                                          | 86/926 [00:32<05:15,  2.66it/s]"
     ]
    },
    {
     "name": "stderr",
     "output_type": "stream",
     "text": [
      "\r",
      "Processing ^SPX (train):   9%|██████                                                          | 87/926 [00:32<05:31,  2.53it/s]"
     ]
    },
    {
     "name": "stderr",
     "output_type": "stream",
     "text": [
      "\r",
      "Processing ^SPX (train):  10%|██████                                                          | 88/926 [00:33<05:32,  2.52it/s]"
     ]
    },
    {
     "name": "stderr",
     "output_type": "stream",
     "text": [
      "\r",
      "Processing ^SPX (train):  10%|██████▏                                                         | 89/926 [00:33<04:58,  2.80it/s]"
     ]
    },
    {
     "name": "stderr",
     "output_type": "stream",
     "text": [
      "\r",
      "Processing ^SPX (train):  10%|██████▏                                                         | 90/926 [00:33<05:07,  2.72it/s]"
     ]
    },
    {
     "name": "stderr",
     "output_type": "stream",
     "text": [
      "\r",
      "Processing ^SPX (train):  10%|██████▎                                                         | 91/926 [00:33<04:21,  3.20it/s]"
     ]
    },
    {
     "name": "stderr",
     "output_type": "stream",
     "text": [
      "\r",
      "Processing ^SPX (train):  10%|██████▎                                                         | 92/926 [00:34<04:40,  2.97it/s]"
     ]
    },
    {
     "name": "stderr",
     "output_type": "stream",
     "text": [
      "\r",
      "Processing ^SPX (train):  10%|██████▍                                                         | 93/926 [00:34<04:37,  3.00it/s]"
     ]
    },
    {
     "name": "stderr",
     "output_type": "stream",
     "text": [
      "\r",
      "Processing ^SPX (train):  10%|██████▍                                                         | 94/926 [00:35<05:19,  2.61it/s]"
     ]
    },
    {
     "name": "stderr",
     "output_type": "stream",
     "text": [
      "\r",
      "Processing ^SPX (train):  10%|██████▌                                                         | 95/926 [00:35<05:19,  2.60it/s]"
     ]
    },
    {
     "name": "stderr",
     "output_type": "stream",
     "text": [
      "\r",
      "Processing ^SPX (train):  10%|██████▋                                                         | 96/926 [00:35<05:35,  2.48it/s]"
     ]
    },
    {
     "name": "stderr",
     "output_type": "stream",
     "text": [
      "\r",
      "Processing ^SPX (train):  10%|██████▋                                                         | 97/926 [00:36<05:30,  2.51it/s]"
     ]
    },
    {
     "name": "stderr",
     "output_type": "stream",
     "text": [
      "\r",
      "Processing ^SPX (train):  11%|██████▊                                                         | 98/926 [00:36<05:14,  2.63it/s]"
     ]
    },
    {
     "name": "stderr",
     "output_type": "stream",
     "text": [
      "\r",
      "Processing ^SPX (train):  11%|██████▊                                                         | 99/926 [00:37<05:07,  2.69it/s]"
     ]
    },
    {
     "name": "stderr",
     "output_type": "stream",
     "text": [
      "\r",
      "Processing ^SPX (train):  11%|██████▊                                                        | 100/926 [00:37<05:10,  2.66it/s]"
     ]
    },
    {
     "name": "stderr",
     "output_type": "stream",
     "text": [
      "\r",
      "Processing ^SPX (train):  11%|██████▊                                                        | 101/926 [00:37<04:33,  3.01it/s]"
     ]
    },
    {
     "name": "stderr",
     "output_type": "stream",
     "text": [
      "\r",
      "Processing ^SPX (train):  11%|██████▉                                                        | 102/926 [00:37<04:27,  3.08it/s]"
     ]
    },
    {
     "name": "stderr",
     "output_type": "stream",
     "text": [
      "\r",
      "Processing ^SPX (train):  11%|███████                                                        | 103/926 [00:38<04:39,  2.94it/s]"
     ]
    },
    {
     "name": "stderr",
     "output_type": "stream",
     "text": [
      "\r",
      "Processing ^SPX (train):  11%|███████                                                        | 104/926 [00:38<04:46,  2.87it/s]"
     ]
    },
    {
     "name": "stderr",
     "output_type": "stream",
     "text": [
      "\r",
      "Processing ^SPX (train):  11%|███████▏                                                       | 105/926 [00:39<05:13,  2.62it/s]"
     ]
    },
    {
     "name": "stderr",
     "output_type": "stream",
     "text": [
      "\r",
      "Processing ^SPX (train):  11%|███████▏                                                       | 106/926 [00:39<04:41,  2.91it/s]"
     ]
    },
    {
     "name": "stderr",
     "output_type": "stream",
     "text": [
      "\r",
      "Processing ^SPX (train):  12%|███████▎                                                       | 107/926 [00:39<04:48,  2.83it/s]"
     ]
    },
    {
     "name": "stderr",
     "output_type": "stream",
     "text": [
      "\r",
      "Processing ^SPX (train):  12%|███████▎                                                       | 108/926 [00:40<04:43,  2.88it/s]"
     ]
    },
    {
     "name": "stderr",
     "output_type": "stream",
     "text": [
      "\r",
      "Processing ^SPX (train):  12%|███████▍                                                       | 109/926 [00:40<05:09,  2.64it/s]"
     ]
    },
    {
     "name": "stderr",
     "output_type": "stream",
     "text": [
      "\r",
      "Processing ^SPX (train):  12%|███████▍                                                       | 110/926 [00:41<05:18,  2.57it/s]"
     ]
    },
    {
     "name": "stderr",
     "output_type": "stream",
     "text": [
      "\r",
      "Processing ^SPX (train):  12%|███████▌                                                       | 111/926 [00:41<04:59,  2.72it/s]"
     ]
    },
    {
     "name": "stderr",
     "output_type": "stream",
     "text": [
      "\r",
      "Processing ^SPX (train):  12%|███████▌                                                       | 112/926 [00:41<04:45,  2.85it/s]"
     ]
    },
    {
     "name": "stderr",
     "output_type": "stream",
     "text": [
      "\r",
      "Processing ^SPX (train):  12%|███████▋                                                       | 113/926 [00:41<04:30,  3.01it/s]"
     ]
    },
    {
     "name": "stderr",
     "output_type": "stream",
     "text": [
      "\r",
      "Processing ^SPX (train):  12%|███████▊                                                       | 114/926 [00:42<05:13,  2.59it/s]"
     ]
    },
    {
     "name": "stderr",
     "output_type": "stream",
     "text": [
      "\r",
      "Processing ^SPX (train):  12%|███████▊                                                       | 115/926 [00:42<04:58,  2.72it/s]"
     ]
    },
    {
     "name": "stderr",
     "output_type": "stream",
     "text": [
      "\r",
      "Processing ^SPX (train):  13%|███████▉                                                       | 116/926 [00:43<04:57,  2.73it/s]"
     ]
    },
    {
     "name": "stderr",
     "output_type": "stream",
     "text": [
      "\r",
      "Processing ^SPX (train):  13%|███████▉                                                       | 117/926 [00:43<05:12,  2.59it/s]"
     ]
    },
    {
     "name": "stderr",
     "output_type": "stream",
     "text": [
      "\r",
      "Processing ^SPX (train):  13%|████████                                                       | 118/926 [00:43<05:19,  2.53it/s]"
     ]
    },
    {
     "name": "stderr",
     "output_type": "stream",
     "text": [
      "\r",
      "Processing ^SPX (train):  13%|████████                                                       | 119/926 [00:44<05:16,  2.55it/s]"
     ]
    },
    {
     "name": "stderr",
     "output_type": "stream",
     "text": [
      "\r",
      "Processing ^SPX (train):  13%|████████▏                                                      | 120/926 [00:44<04:50,  2.77it/s]"
     ]
    },
    {
     "name": "stderr",
     "output_type": "stream",
     "text": [
      "\r",
      "Processing ^SPX (train):  13%|████████▏                                                      | 121/926 [00:44<04:50,  2.77it/s]"
     ]
    },
    {
     "name": "stderr",
     "output_type": "stream",
     "text": [
      "\r",
      "Processing ^SPX (train):  13%|████████▎                                                      | 122/926 [00:45<05:15,  2.55it/s]"
     ]
    },
    {
     "name": "stderr",
     "output_type": "stream",
     "text": [
      "\r",
      "Processing ^SPX (train):  13%|████████▎                                                      | 123/926 [00:45<04:50,  2.76it/s]"
     ]
    },
    {
     "name": "stderr",
     "output_type": "stream",
     "text": [
      "\r",
      "Processing ^SPX (train):  13%|████████▍                                                      | 124/926 [00:46<04:43,  2.83it/s]"
     ]
    },
    {
     "name": "stderr",
     "output_type": "stream",
     "text": [
      "\r",
      "Processing ^SPX (train):  13%|████████▌                                                      | 125/926 [00:46<04:24,  3.03it/s]"
     ]
    },
    {
     "name": "stderr",
     "output_type": "stream",
     "text": [
      "\r",
      "Processing ^SPX (train):  14%|████████▌                                                      | 126/926 [00:46<04:03,  3.29it/s]"
     ]
    },
    {
     "name": "stderr",
     "output_type": "stream",
     "text": [
      "\r",
      "Processing ^SPX (train):  14%|████████▋                                                      | 127/926 [00:46<04:16,  3.11it/s]"
     ]
    },
    {
     "name": "stderr",
     "output_type": "stream",
     "text": [
      "\r",
      "Processing ^SPX (train):  14%|████████▋                                                      | 128/926 [00:47<04:49,  2.75it/s]"
     ]
    },
    {
     "name": "stderr",
     "output_type": "stream",
     "text": [
      "\r",
      "Processing ^SPX (train):  14%|████████▊                                                      | 129/926 [00:47<04:27,  2.98it/s]"
     ]
    },
    {
     "name": "stderr",
     "output_type": "stream",
     "text": [
      "\r",
      "Processing ^SPX (train):  14%|████████▊                                                      | 130/926 [00:48<04:50,  2.74it/s]"
     ]
    },
    {
     "name": "stderr",
     "output_type": "stream",
     "text": [
      "\r",
      "Processing ^SPX (train):  14%|████████▉                                                      | 131/926 [00:48<04:32,  2.91it/s]"
     ]
    },
    {
     "name": "stderr",
     "output_type": "stream",
     "text": [
      "\r",
      "Processing ^SPX (train):  14%|████████▉                                                      | 132/926 [00:48<04:10,  3.17it/s]"
     ]
    },
    {
     "name": "stderr",
     "output_type": "stream",
     "text": [
      "\r",
      "Processing ^SPX (train):  14%|█████████                                                      | 133/926 [00:48<04:09,  3.17it/s]"
     ]
    },
    {
     "name": "stderr",
     "output_type": "stream",
     "text": [
      "\r",
      "Processing ^SPX (train):  14%|█████████                                                      | 134/926 [00:49<04:28,  2.95it/s]"
     ]
    },
    {
     "name": "stderr",
     "output_type": "stream",
     "text": [
      "\r",
      "Processing ^SPX (train):  15%|█████████▏                                                     | 135/926 [00:49<04:12,  3.13it/s]"
     ]
    },
    {
     "name": "stderr",
     "output_type": "stream",
     "text": [
      "\r",
      "Processing ^SPX (train):  15%|█████████▎                                                     | 136/926 [00:49<03:59,  3.30it/s]"
     ]
    },
    {
     "name": "stderr",
     "output_type": "stream",
     "text": [
      "\r",
      "Processing ^SPX (train):  15%|█████████▎                                                     | 137/926 [00:50<04:27,  2.95it/s]"
     ]
    },
    {
     "name": "stderr",
     "output_type": "stream",
     "text": [
      "\r",
      "Processing ^SPX (train):  15%|█████████▍                                                     | 138/926 [00:50<04:42,  2.79it/s]"
     ]
    },
    {
     "name": "stderr",
     "output_type": "stream",
     "text": [
      "\r",
      "Processing ^SPX (train):  15%|█████████▍                                                     | 139/926 [00:51<04:39,  2.82it/s]"
     ]
    },
    {
     "name": "stderr",
     "output_type": "stream",
     "text": [
      "\r",
      "Processing ^SPX (train):  15%|█████████▌                                                     | 140/926 [00:51<04:46,  2.74it/s]"
     ]
    },
    {
     "name": "stderr",
     "output_type": "stream",
     "text": [
      "\r",
      "Processing ^SPX (train):  15%|█████████▌                                                     | 141/926 [00:51<05:10,  2.53it/s]"
     ]
    },
    {
     "name": "stderr",
     "output_type": "stream",
     "text": [
      "\r",
      "Processing ^SPX (train):  15%|█████████▋                                                     | 142/926 [00:52<04:47,  2.73it/s]"
     ]
    },
    {
     "name": "stderr",
     "output_type": "stream",
     "text": [
      "\r",
      "Processing ^SPX (train):  15%|█████████▋                                                     | 143/926 [00:52<05:14,  2.49it/s]"
     ]
    },
    {
     "name": "stderr",
     "output_type": "stream",
     "text": [
      "\r",
      "Processing ^SPX (train):  16%|█████████▊                                                     | 144/926 [00:53<04:47,  2.72it/s]"
     ]
    },
    {
     "name": "stderr",
     "output_type": "stream",
     "text": [
      "\r",
      "Processing ^SPX (train):  16%|█████████▊                                                     | 145/926 [00:53<05:20,  2.44it/s]"
     ]
    },
    {
     "name": "stderr",
     "output_type": "stream",
     "text": [
      "\r",
      "Processing ^SPX (train):  16%|█████████▉                                                     | 146/926 [00:53<04:58,  2.62it/s]"
     ]
    },
    {
     "name": "stderr",
     "output_type": "stream",
     "text": [
      "\r",
      "Processing ^SPX (train):  16%|██████████                                                     | 147/926 [00:54<04:40,  2.77it/s]"
     ]
    },
    {
     "name": "stderr",
     "output_type": "stream",
     "text": [
      "\r",
      "Processing ^SPX (train):  16%|██████████                                                     | 148/926 [00:54<04:40,  2.77it/s]"
     ]
    },
    {
     "name": "stderr",
     "output_type": "stream",
     "text": [
      "\r",
      "Processing ^SPX (train):  16%|██████████▏                                                    | 149/926 [00:54<04:25,  2.93it/s]"
     ]
    },
    {
     "name": "stderr",
     "output_type": "stream",
     "text": [
      "\r",
      "Processing ^SPX (train):  16%|██████████▏                                                    | 150/926 [00:55<04:16,  3.02it/s]"
     ]
    },
    {
     "name": "stderr",
     "output_type": "stream",
     "text": [
      "\r",
      "Processing ^SPX (train):  16%|██████████▎                                                    | 151/926 [00:55<04:35,  2.82it/s]"
     ]
    },
    {
     "name": "stderr",
     "output_type": "stream",
     "text": [
      "\r",
      "Processing ^SPX (train):  16%|██████████▎                                                    | 152/926 [00:55<04:25,  2.91it/s]"
     ]
    },
    {
     "name": "stderr",
     "output_type": "stream",
     "text": [
      "\r",
      "Processing ^SPX (train):  17%|██████████▍                                                    | 153/926 [00:56<04:31,  2.85it/s]"
     ]
    },
    {
     "name": "stderr",
     "output_type": "stream",
     "text": [
      "\r",
      "Processing ^SPX (train):  17%|██████████▍                                                    | 154/926 [00:56<04:29,  2.86it/s]"
     ]
    },
    {
     "name": "stderr",
     "output_type": "stream",
     "text": [
      "\r",
      "Processing ^SPX (train):  17%|██████████▌                                                    | 155/926 [00:56<04:42,  2.73it/s]"
     ]
    },
    {
     "name": "stderr",
     "output_type": "stream",
     "text": [
      "\r",
      "Processing ^SPX (train):  17%|██████████▌                                                    | 156/926 [00:57<04:51,  2.64it/s]"
     ]
    },
    {
     "name": "stderr",
     "output_type": "stream",
     "text": [
      "\r",
      "Processing ^SPX (train):  17%|██████████▋                                                    | 157/926 [00:57<04:51,  2.63it/s]"
     ]
    },
    {
     "name": "stderr",
     "output_type": "stream",
     "text": [
      "\r",
      "Processing ^SPX (train):  17%|██████████▋                                                    | 158/926 [00:58<04:39,  2.74it/s]"
     ]
    },
    {
     "name": "stderr",
     "output_type": "stream",
     "text": [
      "\r",
      "Processing ^SPX (train):  17%|██████████▊                                                    | 159/926 [00:58<04:25,  2.89it/s]"
     ]
    },
    {
     "name": "stderr",
     "output_type": "stream",
     "text": [
      "\r",
      "Processing ^SPX (train):  17%|██████████▉                                                    | 160/926 [00:58<05:02,  2.53it/s]"
     ]
    },
    {
     "name": "stderr",
     "output_type": "stream",
     "text": [
      "\r",
      "Processing ^SPX (train):  17%|██████████▉                                                    | 161/926 [00:59<04:43,  2.70it/s]"
     ]
    },
    {
     "name": "stderr",
     "output_type": "stream",
     "text": [
      "\r",
      "Processing ^SPX (train):  17%|███████████                                                    | 162/926 [00:59<05:05,  2.50it/s]"
     ]
    },
    {
     "name": "stderr",
     "output_type": "stream",
     "text": [
      "\r",
      "Processing ^SPX (train):  18%|███████████                                                    | 163/926 [01:00<05:13,  2.43it/s]"
     ]
    },
    {
     "name": "stderr",
     "output_type": "stream",
     "text": [
      "\r",
      "Processing ^SPX (train):  18%|███████████▏                                                   | 164/926 [01:00<04:56,  2.57it/s]"
     ]
    },
    {
     "name": "stderr",
     "output_type": "stream",
     "text": [
      "\r",
      "Processing ^SPX (train):  18%|███████████▏                                                   | 165/926 [01:00<04:49,  2.63it/s]"
     ]
    },
    {
     "name": "stderr",
     "output_type": "stream",
     "text": [
      "\r",
      "Processing ^SPX (train):  18%|███████████▎                                                   | 166/926 [01:01<05:07,  2.47it/s]"
     ]
    },
    {
     "name": "stderr",
     "output_type": "stream",
     "text": [
      "\r",
      "Processing ^SPX (train):  18%|███████████▎                                                   | 167/926 [01:01<05:00,  2.52it/s]"
     ]
    },
    {
     "name": "stderr",
     "output_type": "stream",
     "text": [
      "\r",
      "Processing ^SPX (train):  18%|███████████▍                                                   | 168/926 [01:02<04:45,  2.65it/s]"
     ]
    },
    {
     "name": "stderr",
     "output_type": "stream",
     "text": [
      "\r",
      "Processing ^SPX (train):  18%|███████████▍                                                   | 169/926 [01:02<05:15,  2.40it/s]"
     ]
    },
    {
     "name": "stderr",
     "output_type": "stream",
     "text": [
      "\r",
      "Processing ^SPX (train):  18%|███████████▌                                                   | 170/926 [01:02<04:53,  2.58it/s]"
     ]
    },
    {
     "name": "stderr",
     "output_type": "stream",
     "text": [
      "\r",
      "Processing ^SPX (train):  18%|███████████▋                                                   | 171/926 [01:03<05:03,  2.49it/s]"
     ]
    },
    {
     "name": "stderr",
     "output_type": "stream",
     "text": [
      "\r",
      "Processing ^SPX (train):  19%|███████████▋                                                   | 172/926 [01:03<04:32,  2.77it/s]"
     ]
    },
    {
     "name": "stderr",
     "output_type": "stream",
     "text": [
      "\r",
      "Processing ^SPX (train):  19%|███████████▊                                                   | 173/926 [01:03<04:54,  2.56it/s]"
     ]
    },
    {
     "name": "stderr",
     "output_type": "stream",
     "text": [
      "\r",
      "Processing ^SPX (train):  19%|███████████▊                                                   | 174/926 [01:04<04:56,  2.54it/s]"
     ]
    },
    {
     "name": "stderr",
     "output_type": "stream",
     "text": [
      "\r",
      "Processing ^SPX (train):  19%|███████████▉                                                   | 175/926 [01:04<04:42,  2.66it/s]"
     ]
    },
    {
     "name": "stderr",
     "output_type": "stream",
     "text": [
      "\r",
      "Processing ^SPX (train):  19%|███████████▉                                                   | 176/926 [01:05<04:25,  2.82it/s]"
     ]
    },
    {
     "name": "stderr",
     "output_type": "stream",
     "text": [
      "\r",
      "Processing ^SPX (train):  19%|████████████                                                   | 177/926 [01:05<04:29,  2.78it/s]"
     ]
    },
    {
     "name": "stderr",
     "output_type": "stream",
     "text": [
      "\r",
      "Processing ^SPX (train):  19%|████████████                                                   | 178/926 [01:05<04:27,  2.79it/s]"
     ]
    },
    {
     "name": "stderr",
     "output_type": "stream",
     "text": [
      "\r",
      "Processing ^SPX (train):  19%|████████████▏                                                  | 179/926 [01:06<05:00,  2.48it/s]"
     ]
    },
    {
     "name": "stderr",
     "output_type": "stream",
     "text": [
      "\r",
      "Processing ^SPX (train):  19%|████████████▏                                                  | 180/926 [01:06<04:49,  2.57it/s]"
     ]
    },
    {
     "name": "stderr",
     "output_type": "stream",
     "text": [
      "\r",
      "Processing ^SPX (train):  20%|████████████▎                                                  | 181/926 [01:07<04:56,  2.51it/s]"
     ]
    },
    {
     "name": "stderr",
     "output_type": "stream",
     "text": [
      "\r",
      "Processing ^SPX (train):  20%|████████████▍                                                  | 182/926 [01:07<04:52,  2.55it/s]"
     ]
    },
    {
     "name": "stderr",
     "output_type": "stream",
     "text": [
      "\r",
      "Processing ^SPX (train):  20%|████████████▍                                                  | 183/926 [01:07<04:30,  2.75it/s]"
     ]
    },
    {
     "name": "stderr",
     "output_type": "stream",
     "text": [
      "\r",
      "Processing ^SPX (train):  20%|████████████▌                                                  | 184/926 [01:08<04:25,  2.79it/s]"
     ]
    },
    {
     "name": "stderr",
     "output_type": "stream",
     "text": [
      "\r",
      "Processing ^SPX (train):  20%|████████████▌                                                  | 185/926 [01:08<04:09,  2.97it/s]"
     ]
    },
    {
     "name": "stderr",
     "output_type": "stream",
     "text": [
      "\r",
      "Processing ^SPX (train):  20%|████████████▋                                                  | 186/926 [01:08<04:13,  2.92it/s]"
     ]
    },
    {
     "name": "stderr",
     "output_type": "stream",
     "text": [
      "\r",
      "Processing ^SPX (train):  20%|████████████▋                                                  | 187/926 [01:09<04:33,  2.70it/s]"
     ]
    },
    {
     "name": "stderr",
     "output_type": "stream",
     "text": [
      "\r",
      "Processing ^SPX (train):  20%|████████████▊                                                  | 188/926 [01:09<04:20,  2.83it/s]"
     ]
    },
    {
     "name": "stderr",
     "output_type": "stream",
     "text": [
      "\r",
      "Processing ^SPX (train):  20%|████████████▊                                                  | 189/926 [01:09<04:07,  2.98it/s]"
     ]
    },
    {
     "name": "stderr",
     "output_type": "stream",
     "text": [
      "\r",
      "Processing ^SPX (train):  21%|████████████▉                                                  | 190/926 [01:10<04:25,  2.77it/s]"
     ]
    },
    {
     "name": "stderr",
     "output_type": "stream",
     "text": [
      "\r",
      "Processing ^SPX (train):  21%|████████████▉                                                  | 191/926 [01:10<04:39,  2.63it/s]"
     ]
    },
    {
     "name": "stderr",
     "output_type": "stream",
     "text": [
      "\r",
      "Processing ^SPX (train):  21%|█████████████                                                  | 192/926 [01:11<04:50,  2.53it/s]"
     ]
    },
    {
     "name": "stderr",
     "output_type": "stream",
     "text": [
      "\r",
      "Processing ^SPX (train):  21%|█████████████▏                                                 | 193/926 [01:11<04:53,  2.50it/s]"
     ]
    },
    {
     "name": "stderr",
     "output_type": "stream",
     "text": [
      "\r",
      "Processing ^SPX (train):  21%|█████████████▏                                                 | 194/926 [01:11<05:06,  2.39it/s]"
     ]
    },
    {
     "name": "stderr",
     "output_type": "stream",
     "text": [
      "\r",
      "Processing ^SPX (train):  21%|█████████████▎                                                 | 195/926 [01:12<05:33,  2.19it/s]"
     ]
    },
    {
     "name": "stderr",
     "output_type": "stream",
     "text": [
      "\r",
      "Processing ^SPX (train):  21%|█████████████▎                                                 | 196/926 [01:12<05:15,  2.31it/s]"
     ]
    },
    {
     "name": "stderr",
     "output_type": "stream",
     "text": [
      "\r",
      "Processing ^SPX (train):  21%|█████████████▍                                                 | 197/926 [01:13<05:12,  2.33it/s]"
     ]
    },
    {
     "name": "stderr",
     "output_type": "stream",
     "text": [
      "\r",
      "Processing ^SPX (train):  21%|█████████████▍                                                 | 198/926 [01:13<04:53,  2.48it/s]"
     ]
    },
    {
     "name": "stderr",
     "output_type": "stream",
     "text": [
      "\r",
      "Processing ^SPX (train):  21%|█████████████▌                                                 | 199/926 [01:13<04:25,  2.74it/s]"
     ]
    },
    {
     "name": "stderr",
     "output_type": "stream",
     "text": [
      "\r",
      "Processing ^SPX (train):  22%|█████████████▌                                                 | 200/926 [01:14<04:06,  2.95it/s]"
     ]
    },
    {
     "name": "stderr",
     "output_type": "stream",
     "text": [
      "\r",
      "Processing ^SPX (train):  22%|█████████████▋                                                 | 201/926 [01:14<04:30,  2.68it/s]"
     ]
    },
    {
     "name": "stderr",
     "output_type": "stream",
     "text": [
      "\r",
      "Processing ^SPX (train):  22%|█████████████▋                                                 | 202/926 [01:15<04:44,  2.54it/s]"
     ]
    },
    {
     "name": "stderr",
     "output_type": "stream",
     "text": [
      "\r",
      "Processing ^SPX (train):  22%|█████████████▊                                                 | 203/926 [01:15<04:56,  2.43it/s]"
     ]
    },
    {
     "name": "stderr",
     "output_type": "stream",
     "text": [
      "\r",
      "Processing ^SPX (train):  22%|█████████████▉                                                 | 204/926 [01:15<04:39,  2.59it/s]"
     ]
    },
    {
     "name": "stderr",
     "output_type": "stream",
     "text": [
      "\r",
      "Processing ^SPX (train):  22%|█████████████▉                                                 | 205/926 [01:16<04:31,  2.66it/s]"
     ]
    },
    {
     "name": "stderr",
     "output_type": "stream",
     "text": [
      "\r",
      "Processing ^SPX (train):  22%|██████████████                                                 | 206/926 [01:16<05:24,  2.22it/s]"
     ]
    },
    {
     "name": "stderr",
     "output_type": "stream",
     "text": [
      "\r",
      "Processing ^SPX (train):  22%|██████████████                                                 | 207/926 [01:17<05:22,  2.23it/s]"
     ]
    },
    {
     "name": "stderr",
     "output_type": "stream",
     "text": [
      "\r",
      "Processing ^SPX (train):  22%|██████████████▏                                                | 208/926 [01:17<05:02,  2.37it/s]"
     ]
    },
    {
     "name": "stderr",
     "output_type": "stream",
     "text": [
      "\r",
      "Processing ^SPX (train):  23%|██████████████▏                                                | 209/926 [01:17<04:35,  2.61it/s]"
     ]
    },
    {
     "name": "stderr",
     "output_type": "stream",
     "text": [
      "\r",
      "Processing ^SPX (train):  23%|██████████████▎                                                | 210/926 [01:18<05:19,  2.24it/s]"
     ]
    },
    {
     "name": "stderr",
     "output_type": "stream",
     "text": [
      "\r",
      "Processing ^SPX (train):  23%|██████████████▎                                                | 211/926 [01:18<05:25,  2.20it/s]"
     ]
    },
    {
     "name": "stderr",
     "output_type": "stream",
     "text": [
      "\r",
      "Processing ^SPX (train):  23%|██████████████▍                                                | 212/926 [01:19<05:05,  2.34it/s]"
     ]
    },
    {
     "name": "stderr",
     "output_type": "stream",
     "text": [
      "\r",
      "Processing ^SPX (train):  23%|██████████████▍                                                | 213/926 [01:19<04:59,  2.38it/s]"
     ]
    },
    {
     "name": "stderr",
     "output_type": "stream",
     "text": [
      "\r",
      "Processing ^SPX (train):  23%|██████████████▌                                                | 214/926 [01:20<04:34,  2.59it/s]"
     ]
    },
    {
     "name": "stderr",
     "output_type": "stream",
     "text": [
      "\r",
      "Processing ^SPX (train):  23%|██████████████▋                                                | 215/926 [01:20<04:31,  2.62it/s]"
     ]
    },
    {
     "name": "stderr",
     "output_type": "stream",
     "text": [
      "\r",
      "Processing ^SPX (train):  23%|██████████████▋                                                | 216/926 [01:20<04:41,  2.52it/s]"
     ]
    },
    {
     "name": "stderr",
     "output_type": "stream",
     "text": [
      "\r",
      "Processing ^SPX (train):  23%|██████████████▊                                                | 217/926 [01:21<04:27,  2.65it/s]"
     ]
    },
    {
     "name": "stderr",
     "output_type": "stream",
     "text": [
      "\r",
      "Processing ^SPX (train):  24%|██████████████▊                                                | 218/926 [01:21<04:23,  2.69it/s]"
     ]
    },
    {
     "name": "stderr",
     "output_type": "stream",
     "text": [
      "\r",
      "Processing ^SPX (train):  24%|██████████████▉                                                | 219/926 [01:22<04:47,  2.46it/s]"
     ]
    },
    {
     "name": "stderr",
     "output_type": "stream",
     "text": [
      "\r",
      "Processing ^SPX (train):  24%|██████████████▉                                                | 220/926 [01:22<04:45,  2.47it/s]"
     ]
    },
    {
     "name": "stderr",
     "output_type": "stream",
     "text": [
      "\r",
      "Processing ^SPX (train):  24%|███████████████                                                | 221/926 [01:22<04:46,  2.46it/s]"
     ]
    },
    {
     "name": "stderr",
     "output_type": "stream",
     "text": [
      "\r",
      "Processing ^SPX (train):  24%|███████████████                                                | 222/926 [01:23<04:42,  2.50it/s]"
     ]
    },
    {
     "name": "stderr",
     "output_type": "stream",
     "text": [
      "\r",
      "Processing ^SPX (train):  24%|███████████████▏                                               | 223/926 [01:23<04:42,  2.49it/s]"
     ]
    },
    {
     "name": "stderr",
     "output_type": "stream",
     "text": [
      "\r",
      "Processing ^SPX (train):  24%|███████████████▏                                               | 224/926 [01:23<04:22,  2.68it/s]"
     ]
    },
    {
     "name": "stderr",
     "output_type": "stream",
     "text": [
      "\r",
      "Processing ^SPX (train):  24%|███████████████▎                                               | 225/926 [01:24<04:48,  2.43it/s]"
     ]
    },
    {
     "name": "stderr",
     "output_type": "stream",
     "text": [
      "\r",
      "Processing ^SPX (train):  24%|███████████████▍                                               | 226/926 [01:24<04:21,  2.68it/s]"
     ]
    },
    {
     "name": "stderr",
     "output_type": "stream",
     "text": [
      "\r",
      "Processing ^SPX (train):  25%|███████████████▍                                               | 227/926 [01:25<04:27,  2.61it/s]"
     ]
    },
    {
     "name": "stderr",
     "output_type": "stream",
     "text": [
      "\r",
      "Processing ^SPX (train):  25%|███████████████▌                                               | 228/926 [01:25<04:46,  2.44it/s]"
     ]
    },
    {
     "name": "stderr",
     "output_type": "stream",
     "text": [
      "\r",
      "Processing ^SPX (train):  25%|███████████████▌                                               | 229/926 [01:26<04:54,  2.36it/s]"
     ]
    },
    {
     "name": "stderr",
     "output_type": "stream",
     "text": [
      "\r",
      "Processing ^SPX (train):  25%|███████████████▋                                               | 230/926 [01:26<04:24,  2.64it/s]"
     ]
    },
    {
     "name": "stderr",
     "output_type": "stream",
     "text": [
      "\r",
      "Processing ^SPX (train):  25%|███████████████▋                                               | 231/926 [01:26<04:28,  2.58it/s]"
     ]
    },
    {
     "name": "stderr",
     "output_type": "stream",
     "text": [
      "\r",
      "Processing ^SPX (train):  25%|███████████████▊                                               | 232/926 [01:27<04:53,  2.37it/s]"
     ]
    },
    {
     "name": "stderr",
     "output_type": "stream",
     "text": [
      "\r",
      "Processing ^SPX (train):  25%|███████████████▊                                               | 233/926 [01:27<04:47,  2.41it/s]"
     ]
    },
    {
     "name": "stderr",
     "output_type": "stream",
     "text": [
      "\r",
      "Processing ^SPX (train):  25%|███████████████▉                                               | 234/926 [01:27<04:19,  2.67it/s]"
     ]
    },
    {
     "name": "stderr",
     "output_type": "stream",
     "text": [
      "\r",
      "Processing ^SPX (train):  25%|███████████████▉                                               | 235/926 [01:28<04:29,  2.56it/s]"
     ]
    },
    {
     "name": "stderr",
     "output_type": "stream",
     "text": [
      "\r",
      "Processing ^SPX (train):  25%|████████████████                                               | 236/926 [01:28<04:17,  2.68it/s]"
     ]
    },
    {
     "name": "stderr",
     "output_type": "stream",
     "text": [
      "\r",
      "Processing ^SPX (train):  26%|████████████████                                               | 237/926 [01:29<04:28,  2.57it/s]"
     ]
    },
    {
     "name": "stderr",
     "output_type": "stream",
     "text": [
      "\r",
      "Processing ^SPX (train):  26%|████████████████▏                                              | 238/926 [01:29<04:19,  2.65it/s]"
     ]
    },
    {
     "name": "stderr",
     "output_type": "stream",
     "text": [
      "\r",
      "Processing ^SPX (train):  26%|████████████████▎                                              | 239/926 [01:29<04:23,  2.60it/s]"
     ]
    },
    {
     "name": "stderr",
     "output_type": "stream",
     "text": [
      "\r",
      "Processing ^SPX (train):  26%|████████████████▎                                              | 240/926 [01:30<04:34,  2.50it/s]"
     ]
    },
    {
     "name": "stderr",
     "output_type": "stream",
     "text": [
      "\r",
      "Processing ^SPX (train):  26%|████████████████▍                                              | 241/926 [01:30<04:03,  2.81it/s]"
     ]
    },
    {
     "name": "stderr",
     "output_type": "stream",
     "text": [
      "\r",
      "Processing ^SPX (train):  26%|████████████████▍                                              | 242/926 [01:30<03:52,  2.95it/s]"
     ]
    },
    {
     "name": "stderr",
     "output_type": "stream",
     "text": [
      "\r",
      "Processing ^SPX (train):  26%|████████████████▌                                              | 243/926 [01:31<03:47,  3.00it/s]"
     ]
    },
    {
     "name": "stderr",
     "output_type": "stream",
     "text": [
      "\r",
      "Processing ^SPX (train):  26%|████████████████▌                                              | 244/926 [01:31<04:07,  2.75it/s]"
     ]
    },
    {
     "name": "stderr",
     "output_type": "stream",
     "text": [
      "\r",
      "Processing ^SPX (train):  26%|████████████████▋                                              | 245/926 [01:31<03:57,  2.86it/s]"
     ]
    },
    {
     "name": "stderr",
     "output_type": "stream",
     "text": [
      "\r",
      "Processing ^SPX (train):  27%|████████████████▋                                              | 246/926 [01:32<04:05,  2.77it/s]"
     ]
    },
    {
     "name": "stderr",
     "output_type": "stream",
     "text": [
      "\r",
      "Processing ^SPX (train):  27%|████████████████▊                                              | 247/926 [01:32<03:50,  2.95it/s]"
     ]
    },
    {
     "name": "stderr",
     "output_type": "stream",
     "text": [
      "\r",
      "Processing ^SPX (train):  27%|████████████████▊                                              | 248/926 [01:33<04:24,  2.57it/s]"
     ]
    },
    {
     "name": "stderr",
     "output_type": "stream",
     "text": [
      "\r",
      "Processing ^SPX (train):  27%|████████████████▉                                              | 249/926 [01:33<04:24,  2.55it/s]"
     ]
    },
    {
     "name": "stderr",
     "output_type": "stream",
     "text": [
      "\r",
      "Processing ^SPX (train):  27%|█████████████████                                              | 250/926 [01:33<04:26,  2.53it/s]"
     ]
    },
    {
     "name": "stderr",
     "output_type": "stream",
     "text": [
      "\r",
      "Processing ^SPX (train):  27%|█████████████████                                              | 251/926 [01:34<04:27,  2.52it/s]"
     ]
    },
    {
     "name": "stderr",
     "output_type": "stream",
     "text": [
      "\r",
      "Processing ^SPX (train):  27%|█████████████████▏                                             | 252/926 [01:34<04:42,  2.39it/s]"
     ]
    },
    {
     "name": "stderr",
     "output_type": "stream",
     "text": [
      "\r",
      "Processing ^SPX (train):  27%|█████████████████▏                                             | 253/926 [01:35<04:49,  2.33it/s]"
     ]
    },
    {
     "name": "stderr",
     "output_type": "stream",
     "text": [
      "\r",
      "Processing ^SPX (train):  27%|█████████████████▎                                             | 254/926 [01:35<04:42,  2.37it/s]"
     ]
    },
    {
     "name": "stderr",
     "output_type": "stream",
     "text": [
      "\r",
      "Processing ^SPX (train):  28%|█████████████████▎                                             | 255/926 [01:36<04:41,  2.39it/s]"
     ]
    },
    {
     "name": "stderr",
     "output_type": "stream",
     "text": [
      "\r",
      "Processing ^SPX (train):  28%|█████████████████▍                                             | 256/926 [01:36<04:25,  2.52it/s]"
     ]
    },
    {
     "name": "stderr",
     "output_type": "stream",
     "text": [
      "\r",
      "Processing ^SPX (train):  28%|█████████████████▍                                             | 257/926 [01:36<04:15,  2.62it/s]"
     ]
    },
    {
     "name": "stderr",
     "output_type": "stream",
     "text": [
      "\r",
      "Processing ^SPX (train):  28%|█████████████████▌                                             | 258/926 [01:37<04:32,  2.45it/s]"
     ]
    },
    {
     "name": "stderr",
     "output_type": "stream",
     "text": [
      "\r",
      "Processing ^SPX (train):  28%|█████████████████▌                                             | 259/926 [01:37<04:50,  2.30it/s]"
     ]
    },
    {
     "name": "stderr",
     "output_type": "stream",
     "text": [
      "\r",
      "Processing ^SPX (train):  28%|█████████████████▋                                             | 260/926 [01:38<05:04,  2.19it/s]"
     ]
    },
    {
     "name": "stderr",
     "output_type": "stream",
     "text": [
      "\r",
      "Processing ^SPX (train):  28%|█████████████████▊                                             | 261/926 [01:38<04:29,  2.47it/s]"
     ]
    },
    {
     "name": "stderr",
     "output_type": "stream",
     "text": [
      "\r",
      "Processing ^SPX (train):  28%|█████████████████▊                                             | 262/926 [01:38<04:33,  2.43it/s]"
     ]
    },
    {
     "name": "stderr",
     "output_type": "stream",
     "text": [
      "\r",
      "Processing ^SPX (train):  28%|█████████████████▉                                             | 263/926 [01:39<04:23,  2.52it/s]"
     ]
    },
    {
     "name": "stderr",
     "output_type": "stream",
     "text": [
      "\r",
      "Processing ^SPX (train):  29%|█████████████████▉                                             | 264/926 [01:39<04:04,  2.71it/s]"
     ]
    },
    {
     "name": "stderr",
     "output_type": "stream",
     "text": [
      "\r",
      "Processing ^SPX (train):  29%|██████████████████                                             | 265/926 [01:39<04:03,  2.71it/s]"
     ]
    },
    {
     "name": "stderr",
     "output_type": "stream",
     "text": [
      "\r",
      "Processing ^SPX (train):  29%|██████████████████                                             | 266/926 [01:40<03:40,  2.99it/s]"
     ]
    },
    {
     "name": "stderr",
     "output_type": "stream",
     "text": [
      "\r",
      "Processing ^SPX (train):  29%|██████████████████▏                                            | 267/926 [01:40<03:28,  3.16it/s]"
     ]
    },
    {
     "name": "stderr",
     "output_type": "stream",
     "text": [
      "\r",
      "Processing ^SPX (train):  29%|██████████████████▏                                            | 268/926 [01:40<03:55,  2.79it/s]"
     ]
    },
    {
     "name": "stderr",
     "output_type": "stream",
     "text": [
      "\r",
      "Processing ^SPX (train):  29%|██████████████████▎                                            | 269/926 [01:41<04:30,  2.43it/s]"
     ]
    },
    {
     "name": "stderr",
     "output_type": "stream",
     "text": [
      "\r",
      "Processing ^SPX (train):  29%|██████████████████▎                                            | 270/926 [01:41<04:18,  2.53it/s]"
     ]
    },
    {
     "name": "stderr",
     "output_type": "stream",
     "text": [
      "\r",
      "Processing ^SPX (train):  29%|██████████████████▍                                            | 271/926 [01:42<03:59,  2.74it/s]"
     ]
    },
    {
     "name": "stderr",
     "output_type": "stream",
     "text": [
      "\r",
      "Processing ^SPX (train):  29%|██████████████████▌                                            | 272/926 [01:42<04:04,  2.67it/s]"
     ]
    },
    {
     "name": "stderr",
     "output_type": "stream",
     "text": [
      "\r",
      "Processing ^SPX (train):  29%|██████████████████▌                                            | 273/926 [01:42<03:57,  2.75it/s]"
     ]
    },
    {
     "name": "stderr",
     "output_type": "stream",
     "text": [
      "\r",
      "Processing ^SPX (train):  30%|██████████████████▋                                            | 274/926 [01:43<03:33,  3.05it/s]"
     ]
    },
    {
     "name": "stderr",
     "output_type": "stream",
     "text": [
      "\r",
      "Processing ^SPX (train):  30%|██████████████████▋                                            | 275/926 [01:43<04:14,  2.56it/s]"
     ]
    },
    {
     "name": "stderr",
     "output_type": "stream",
     "text": [
      "\r",
      "Processing ^SPX (train):  30%|██████████████████▊                                            | 276/926 [01:44<04:19,  2.50it/s]"
     ]
    },
    {
     "name": "stderr",
     "output_type": "stream",
     "text": [
      "\r",
      "Processing ^SPX (train):  30%|██████████████████▊                                            | 277/926 [01:44<04:09,  2.61it/s]"
     ]
    },
    {
     "name": "stderr",
     "output_type": "stream",
     "text": [
      "\r",
      "Processing ^SPX (train):  30%|██████████████████▉                                            | 278/926 [01:44<03:45,  2.88it/s]"
     ]
    },
    {
     "name": "stderr",
     "output_type": "stream",
     "text": [
      "\r",
      "Processing ^SPX (train):  30%|██████████████████▉                                            | 279/926 [01:44<03:36,  2.99it/s]"
     ]
    },
    {
     "name": "stderr",
     "output_type": "stream",
     "text": [
      "\r",
      "Processing ^SPX (train):  30%|███████████████████                                            | 280/926 [01:45<03:44,  2.88it/s]"
     ]
    },
    {
     "name": "stderr",
     "output_type": "stream",
     "text": [
      "\r",
      "Processing ^SPX (train):  30%|███████████████████                                            | 281/926 [01:45<04:05,  2.63it/s]"
     ]
    },
    {
     "name": "stderr",
     "output_type": "stream",
     "text": [
      "\r",
      "Processing ^SPX (train):  30%|███████████████████▏                                           | 282/926 [01:46<04:17,  2.50it/s]"
     ]
    },
    {
     "name": "stderr",
     "output_type": "stream",
     "text": [
      "\r",
      "Processing ^SPX (train):  31%|███████████████████▎                                           | 283/926 [01:46<04:11,  2.56it/s]"
     ]
    },
    {
     "name": "stderr",
     "output_type": "stream",
     "text": [
      "\r",
      "Processing ^SPX (train):  31%|███████████████████▎                                           | 284/926 [01:47<04:13,  2.53it/s]"
     ]
    },
    {
     "name": "stderr",
     "output_type": "stream",
     "text": [
      "\r",
      "Processing ^SPX (train):  31%|███████████████████▍                                           | 285/926 [01:47<03:54,  2.73it/s]"
     ]
    },
    {
     "name": "stderr",
     "output_type": "stream",
     "text": [
      "\r",
      "Processing ^SPX (train):  31%|███████████████████▍                                           | 286/926 [01:47<04:07,  2.59it/s]"
     ]
    },
    {
     "name": "stderr",
     "output_type": "stream",
     "text": [
      "\r",
      "Processing ^SPX (train):  31%|███████████████████▌                                           | 287/926 [01:48<04:10,  2.55it/s]"
     ]
    },
    {
     "name": "stderr",
     "output_type": "stream",
     "text": [
      "\r",
      "Processing ^SPX (train):  31%|███████████████████▌                                           | 288/926 [01:48<04:01,  2.64it/s]"
     ]
    },
    {
     "name": "stderr",
     "output_type": "stream",
     "text": [
      "\r",
      "Processing ^SPX (train):  31%|███████████████████▋                                           | 289/926 [01:48<03:45,  2.82it/s]"
     ]
    },
    {
     "name": "stderr",
     "output_type": "stream",
     "text": [
      "\r",
      "Processing ^SPX (train):  31%|███████████████████▋                                           | 290/926 [01:49<03:43,  2.84it/s]"
     ]
    },
    {
     "name": "stderr",
     "output_type": "stream",
     "text": [
      "\r",
      "Processing ^SPX (train):  31%|███████████████████▊                                           | 291/926 [01:49<03:40,  2.87it/s]"
     ]
    },
    {
     "name": "stderr",
     "output_type": "stream",
     "text": [
      "\r",
      "Processing ^SPX (train):  32%|███████████████████▊                                           | 292/926 [01:49<03:30,  3.01it/s]"
     ]
    },
    {
     "name": "stderr",
     "output_type": "stream",
     "text": [
      "\r",
      "Processing ^SPX (train):  32%|███████████████████▉                                           | 293/926 [01:50<03:29,  3.02it/s]"
     ]
    },
    {
     "name": "stderr",
     "output_type": "stream",
     "text": [
      "\r",
      "Processing ^SPX (train):  32%|████████████████████                                           | 294/926 [01:50<03:20,  3.15it/s]"
     ]
    },
    {
     "name": "stderr",
     "output_type": "stream",
     "text": [
      "\r",
      "Processing ^SPX (train):  32%|████████████████████                                           | 295/926 [01:50<03:55,  2.68it/s]"
     ]
    },
    {
     "name": "stderr",
     "output_type": "stream",
     "text": [
      "\r",
      "Processing ^SPX (train):  32%|████████████████████▏                                          | 296/926 [01:51<03:46,  2.78it/s]"
     ]
    },
    {
     "name": "stderr",
     "output_type": "stream",
     "text": [
      "\r",
      "Processing ^SPX (train):  32%|████████████████████▏                                          | 297/926 [01:51<04:06,  2.56it/s]"
     ]
    },
    {
     "name": "stderr",
     "output_type": "stream",
     "text": [
      "\r",
      "Processing ^SPX (train):  32%|████████████████████▎                                          | 298/926 [01:52<03:55,  2.66it/s]"
     ]
    },
    {
     "name": "stderr",
     "output_type": "stream",
     "text": [
      "\r",
      "Processing ^SPX (train):  32%|████████████████████▎                                          | 299/926 [01:52<04:14,  2.47it/s]"
     ]
    },
    {
     "name": "stderr",
     "output_type": "stream",
     "text": [
      "\r",
      "Processing ^SPX (train):  32%|████████████████████▍                                          | 300/926 [01:53<04:30,  2.31it/s]"
     ]
    },
    {
     "name": "stderr",
     "output_type": "stream",
     "text": [
      "\r",
      "Processing ^SPX (train):  33%|████████████████████▍                                          | 301/926 [01:53<04:01,  2.59it/s]"
     ]
    },
    {
     "name": "stderr",
     "output_type": "stream",
     "text": [
      "\r",
      "Processing ^SPX (train):  33%|████████████████████▌                                          | 302/926 [01:53<04:19,  2.41it/s]"
     ]
    },
    {
     "name": "stderr",
     "output_type": "stream",
     "text": [
      "\r",
      "Processing ^SPX (train):  33%|████████████████████▌                                          | 303/926 [01:54<04:14,  2.44it/s]"
     ]
    },
    {
     "name": "stderr",
     "output_type": "stream",
     "text": [
      "\r",
      "Processing ^SPX (train):  33%|████████████████████▋                                          | 304/926 [01:54<04:36,  2.25it/s]"
     ]
    },
    {
     "name": "stderr",
     "output_type": "stream",
     "text": [
      "\r",
      "Processing ^SPX (train):  33%|████████████████████▊                                          | 305/926 [01:55<04:07,  2.51it/s]"
     ]
    },
    {
     "name": "stderr",
     "output_type": "stream",
     "text": [
      "\r",
      "Processing ^SPX (train):  33%|████████████████████▊                                          | 306/926 [01:55<04:22,  2.36it/s]"
     ]
    },
    {
     "name": "stderr",
     "output_type": "stream",
     "text": [
      "\r",
      "Processing ^SPX (train):  33%|████████████████████▉                                          | 307/926 [01:55<04:29,  2.30it/s]"
     ]
    },
    {
     "name": "stderr",
     "output_type": "stream",
     "text": [
      "\r",
      "Processing ^SPX (train):  33%|████████████████████▉                                          | 308/926 [01:56<04:21,  2.36it/s]"
     ]
    },
    {
     "name": "stderr",
     "output_type": "stream",
     "text": [
      "\r",
      "Processing ^SPX (train):  33%|█████████████████████                                          | 309/926 [01:56<04:34,  2.24it/s]"
     ]
    },
    {
     "name": "stderr",
     "output_type": "stream",
     "text": [
      "\r",
      "Processing ^SPX (train):  33%|█████████████████████                                          | 310/926 [01:57<04:32,  2.26it/s]"
     ]
    },
    {
     "name": "stderr",
     "output_type": "stream",
     "text": [
      "\r",
      "Processing ^SPX (train):  34%|█████████████████████▏                                         | 311/926 [01:57<04:29,  2.28it/s]"
     ]
    },
    {
     "name": "stderr",
     "output_type": "stream",
     "text": [
      "\r",
      "Processing ^SPX (train):  34%|█████████████████████▏                                         | 312/926 [01:58<04:30,  2.27it/s]"
     ]
    },
    {
     "name": "stderr",
     "output_type": "stream",
     "text": [
      "\r",
      "Processing ^SPX (train):  34%|█████████████████████▎                                         | 313/926 [01:58<03:59,  2.56it/s]"
     ]
    },
    {
     "name": "stderr",
     "output_type": "stream",
     "text": [
      "\r",
      "Processing ^SPX (train):  34%|█████████████████████▎                                         | 314/926 [01:58<04:12,  2.43it/s]"
     ]
    },
    {
     "name": "stderr",
     "output_type": "stream",
     "text": [
      "\r",
      "Processing ^SPX (train):  34%|█████████████████████▍                                         | 315/926 [01:59<03:58,  2.57it/s]"
     ]
    },
    {
     "name": "stderr",
     "output_type": "stream",
     "text": [
      "\r",
      "Processing ^SPX (train):  34%|█████████████████████▍                                         | 316/926 [01:59<03:41,  2.76it/s]"
     ]
    },
    {
     "name": "stderr",
     "output_type": "stream",
     "text": [
      "\r",
      "Processing ^SPX (train):  34%|█████████████████████▌                                         | 317/926 [01:59<03:42,  2.74it/s]"
     ]
    },
    {
     "name": "stderr",
     "output_type": "stream",
     "text": [
      "\r",
      "Processing ^SPX (train):  34%|█████████████████████▋                                         | 318/926 [02:00<03:32,  2.87it/s]"
     ]
    },
    {
     "name": "stderr",
     "output_type": "stream",
     "text": [
      "\r",
      "Processing ^SPX (train):  34%|█████████████████████▋                                         | 319/926 [02:00<03:31,  2.87it/s]"
     ]
    },
    {
     "name": "stderr",
     "output_type": "stream",
     "text": [
      "\r",
      "Processing ^SPX (train):  35%|█████████████████████▊                                         | 320/926 [02:00<03:40,  2.75it/s]"
     ]
    },
    {
     "name": "stderr",
     "output_type": "stream",
     "text": [
      "\r",
      "Processing ^SPX (train):  35%|█████████████████████▊                                         | 321/926 [02:01<03:55,  2.56it/s]"
     ]
    },
    {
     "name": "stderr",
     "output_type": "stream",
     "text": [
      "\r",
      "Processing ^SPX (train):  35%|█████████████████████▉                                         | 322/926 [02:01<03:50,  2.62it/s]"
     ]
    },
    {
     "name": "stderr",
     "output_type": "stream",
     "text": [
      "\r",
      "Processing ^SPX (train):  35%|█████████████████████▉                                         | 323/926 [02:02<03:51,  2.60it/s]"
     ]
    },
    {
     "name": "stderr",
     "output_type": "stream",
     "text": [
      "\r",
      "Processing ^SPX (train):  35%|██████████████████████                                         | 324/926 [02:02<04:05,  2.45it/s]"
     ]
    },
    {
     "name": "stderr",
     "output_type": "stream",
     "text": [
      "\r",
      "Processing ^SPX (train):  35%|██████████████████████                                         | 325/926 [02:02<03:45,  2.66it/s]"
     ]
    },
    {
     "name": "stderr",
     "output_type": "stream",
     "text": [
      "\r",
      "Processing ^SPX (train):  35%|██████████████████████▏                                        | 326/926 [02:03<03:45,  2.66it/s]"
     ]
    },
    {
     "name": "stderr",
     "output_type": "stream",
     "text": [
      "\r",
      "Processing ^SPX (train):  35%|██████████████████████▏                                        | 327/926 [02:03<04:02,  2.47it/s]"
     ]
    },
    {
     "name": "stderr",
     "output_type": "stream",
     "text": [
      "\r",
      "Processing ^SPX (train):  35%|██████████████████████▎                                        | 328/926 [02:04<03:39,  2.72it/s]"
     ]
    },
    {
     "name": "stderr",
     "output_type": "stream",
     "text": [
      "\r",
      "Processing ^SPX (train):  36%|██████████████████████▍                                        | 329/926 [02:04<04:03,  2.46it/s]"
     ]
    },
    {
     "name": "stderr",
     "output_type": "stream",
     "text": [
      "\r",
      "Processing ^SPX (train):  36%|██████████████████████▍                                        | 330/926 [02:04<03:58,  2.50it/s]"
     ]
    },
    {
     "name": "stderr",
     "output_type": "stream",
     "text": [
      "\r",
      "Processing ^SPX (train):  36%|██████████████████████▌                                        | 331/926 [02:05<04:16,  2.32it/s]"
     ]
    },
    {
     "name": "stderr",
     "output_type": "stream",
     "text": [
      "\r",
      "Processing ^SPX (train):  36%|██████████████████████▌                                        | 332/926 [02:05<04:11,  2.36it/s]"
     ]
    },
    {
     "name": "stderr",
     "output_type": "stream",
     "text": [
      "\r",
      "Processing ^SPX (train):  36%|██████████████████████▋                                        | 333/926 [02:06<04:21,  2.27it/s]"
     ]
    },
    {
     "name": "stderr",
     "output_type": "stream",
     "text": [
      "\r",
      "Processing ^SPX (train):  36%|██████████████████████▋                                        | 334/926 [02:06<03:52,  2.54it/s]"
     ]
    },
    {
     "name": "stderr",
     "output_type": "stream",
     "text": [
      "\r",
      "Processing ^SPX (train):  36%|██████████████████████▊                                        | 335/926 [02:06<03:45,  2.63it/s]"
     ]
    },
    {
     "name": "stderr",
     "output_type": "stream",
     "text": [
      "\r",
      "Processing ^SPX (train):  36%|██████████████████████▊                                        | 336/926 [02:07<03:31,  2.79it/s]"
     ]
    },
    {
     "name": "stderr",
     "output_type": "stream",
     "text": [
      "\r",
      "Processing ^SPX (train):  36%|██████████████████████▉                                        | 337/926 [02:07<03:42,  2.65it/s]"
     ]
    },
    {
     "name": "stderr",
     "output_type": "stream",
     "text": [
      "\r",
      "Processing ^SPX (train):  37%|██████████████████████▉                                        | 338/926 [02:07<03:25,  2.86it/s]"
     ]
    },
    {
     "name": "stderr",
     "output_type": "stream",
     "text": [
      "\r",
      "Processing ^SPX (train):  37%|███████████████████████                                        | 339/926 [02:08<03:39,  2.67it/s]"
     ]
    },
    {
     "name": "stderr",
     "output_type": "stream",
     "text": [
      "\r",
      "Processing ^SPX (train):  37%|███████████████████████▏                                       | 340/926 [02:08<03:28,  2.81it/s]"
     ]
    },
    {
     "name": "stderr",
     "output_type": "stream",
     "text": [
      "\r",
      "Processing ^SPX (train):  37%|███████████████████████▏                                       | 341/926 [02:09<03:23,  2.88it/s]"
     ]
    },
    {
     "name": "stderr",
     "output_type": "stream",
     "text": [
      "\r",
      "Processing ^SPX (train):  37%|███████████████████████▎                                       | 342/926 [02:09<03:33,  2.74it/s]"
     ]
    },
    {
     "name": "stderr",
     "output_type": "stream",
     "text": [
      "\r",
      "Processing ^SPX (train):  37%|███████████████████████▎                                       | 343/926 [02:09<03:48,  2.55it/s]"
     ]
    },
    {
     "name": "stderr",
     "output_type": "stream",
     "text": [
      "\r",
      "Processing ^SPX (train):  37%|███████████████████████▍                                       | 344/926 [02:10<03:57,  2.45it/s]"
     ]
    },
    {
     "name": "stderr",
     "output_type": "stream",
     "text": [
      "\r",
      "Processing ^SPX (train):  37%|███████████████████████▍                                       | 345/926 [02:10<04:16,  2.26it/s]"
     ]
    },
    {
     "name": "stderr",
     "output_type": "stream",
     "text": [
      "\r",
      "Processing ^SPX (train):  37%|███████████████████████▌                                       | 346/926 [02:11<03:48,  2.54it/s]"
     ]
    },
    {
     "name": "stderr",
     "output_type": "stream",
     "text": [
      "\r",
      "Processing ^SPX (train):  37%|███████████████████████▌                                       | 347/926 [02:11<03:47,  2.55it/s]"
     ]
    },
    {
     "name": "stderr",
     "output_type": "stream",
     "text": [
      "\r",
      "Processing ^SPX (train):  38%|███████████████████████▋                                       | 348/926 [02:11<03:39,  2.63it/s]"
     ]
    },
    {
     "name": "stderr",
     "output_type": "stream",
     "text": [
      "\r",
      "Processing ^SPX (train):  38%|███████████████████████▋                                       | 349/926 [02:12<03:38,  2.64it/s]"
     ]
    },
    {
     "name": "stderr",
     "output_type": "stream",
     "text": [
      "\r",
      "Processing ^SPX (train):  38%|███████████████████████▊                                       | 350/926 [02:12<03:16,  2.93it/s]"
     ]
    },
    {
     "name": "stderr",
     "output_type": "stream",
     "text": [
      "\r",
      "Processing ^SPX (train):  38%|███████████████████████▉                                       | 351/926 [02:12<03:26,  2.78it/s]"
     ]
    },
    {
     "name": "stderr",
     "output_type": "stream",
     "text": [
      "\r",
      "Processing ^SPX (train):  38%|███████████████████████▉                                       | 352/926 [02:13<03:07,  3.07it/s]"
     ]
    },
    {
     "name": "stderr",
     "output_type": "stream",
     "text": [
      "\r",
      "Processing ^SPX (train):  38%|████████████████████████                                       | 353/926 [02:13<03:26,  2.78it/s]"
     ]
    },
    {
     "name": "stderr",
     "output_type": "stream",
     "text": [
      "\r",
      "Processing ^SPX (train):  38%|████████████████████████                                       | 354/926 [02:13<03:23,  2.81it/s]"
     ]
    },
    {
     "name": "stderr",
     "output_type": "stream",
     "text": [
      "\r",
      "Processing ^SPX (train):  38%|████████████████████████▏                                      | 355/926 [02:14<03:19,  2.87it/s]"
     ]
    },
    {
     "name": "stderr",
     "output_type": "stream",
     "text": [
      "\r",
      "Processing ^SPX (train):  38%|████████████████████████▏                                      | 356/926 [02:14<03:27,  2.75it/s]"
     ]
    },
    {
     "name": "stderr",
     "output_type": "stream",
     "text": [
      "\r",
      "Processing ^SPX (train):  39%|████████████████████████▎                                      | 357/926 [02:15<03:38,  2.60it/s]"
     ]
    },
    {
     "name": "stderr",
     "output_type": "stream",
     "text": [
      "\r",
      "Processing ^SPX (train):  39%|████████████████████████▎                                      | 358/926 [02:15<03:23,  2.79it/s]"
     ]
    },
    {
     "name": "stderr",
     "output_type": "stream",
     "text": [
      "\r",
      "Processing ^SPX (train):  39%|████████████████████████▍                                      | 359/926 [02:15<03:38,  2.59it/s]"
     ]
    },
    {
     "name": "stderr",
     "output_type": "stream",
     "text": [
      "\r",
      "Processing ^SPX (train):  39%|████████████████████████▍                                      | 360/926 [02:16<03:22,  2.80it/s]"
     ]
    },
    {
     "name": "stderr",
     "output_type": "stream",
     "text": [
      "\r",
      "Processing ^SPX (train):  39%|████████████████████████▌                                      | 361/926 [02:16<03:25,  2.75it/s]"
     ]
    },
    {
     "name": "stderr",
     "output_type": "stream",
     "text": [
      "\r",
      "Processing ^SPX (train):  39%|████████████████████████▋                                      | 362/926 [02:17<03:43,  2.53it/s]"
     ]
    },
    {
     "name": "stderr",
     "output_type": "stream",
     "text": [
      "\r",
      "Processing ^SPX (train):  39%|████████████████████████▋                                      | 363/926 [02:17<03:29,  2.69it/s]"
     ]
    },
    {
     "name": "stderr",
     "output_type": "stream",
     "text": [
      "\r",
      "Processing ^SPX (train):  39%|████████████████████████▊                                      | 364/926 [02:17<03:37,  2.59it/s]"
     ]
    },
    {
     "name": "stderr",
     "output_type": "stream",
     "text": [
      "\r",
      "Processing ^SPX (train):  39%|████████████████████████▊                                      | 365/926 [02:18<03:41,  2.54it/s]"
     ]
    },
    {
     "name": "stderr",
     "output_type": "stream",
     "text": [
      "\r",
      "Processing ^SPX (train):  40%|████████████████████████▉                                      | 366/926 [02:18<03:21,  2.78it/s]"
     ]
    },
    {
     "name": "stderr",
     "output_type": "stream",
     "text": [
      "\r",
      "Processing ^SPX (train):  40%|████████████████████████▉                                      | 367/926 [02:18<03:36,  2.58it/s]"
     ]
    },
    {
     "name": "stderr",
     "output_type": "stream",
     "text": [
      "\r",
      "Processing ^SPX (train):  40%|█████████████████████████                                      | 368/926 [02:19<03:33,  2.61it/s]"
     ]
    },
    {
     "name": "stderr",
     "output_type": "stream",
     "text": [
      "\r",
      "Processing ^SPX (train):  40%|█████████████████████████                                      | 369/926 [02:19<03:12,  2.90it/s]"
     ]
    },
    {
     "name": "stderr",
     "output_type": "stream",
     "text": [
      "\r",
      "Processing ^SPX (train):  40%|█████████████████████████▏                                     | 370/926 [02:19<03:28,  2.67it/s]"
     ]
    },
    {
     "name": "stderr",
     "output_type": "stream",
     "text": [
      "\r",
      "Processing ^SPX (train):  40%|█████████████████████████▏                                     | 371/926 [02:20<03:15,  2.84it/s]"
     ]
    },
    {
     "name": "stderr",
     "output_type": "stream",
     "text": [
      "\r",
      "Processing ^SPX (train):  40%|█████████████████████████▎                                     | 372/926 [02:20<03:20,  2.76it/s]"
     ]
    },
    {
     "name": "stderr",
     "output_type": "stream",
     "text": [
      "\r",
      "Processing ^SPX (train):  40%|█████████████████████████▍                                     | 373/926 [02:21<03:43,  2.47it/s]"
     ]
    },
    {
     "name": "stderr",
     "output_type": "stream",
     "text": [
      "\r",
      "Processing ^SPX (train):  40%|█████████████████████████▍                                     | 374/926 [02:21<03:28,  2.65it/s]"
     ]
    },
    {
     "name": "stderr",
     "output_type": "stream",
     "text": [
      "\r",
      "Processing ^SPX (train):  40%|█████████████████████████▌                                     | 375/926 [02:21<03:45,  2.44it/s]"
     ]
    },
    {
     "name": "stderr",
     "output_type": "stream",
     "text": [
      "\r",
      "Processing ^SPX (train):  41%|█████████████████████████▌                                     | 376/926 [02:22<03:23,  2.71it/s]"
     ]
    },
    {
     "name": "stderr",
     "output_type": "stream",
     "text": [
      "\r",
      "Processing ^SPX (train):  41%|█████████████████████████▋                                     | 377/926 [02:22<03:24,  2.69it/s]"
     ]
    },
    {
     "name": "stderr",
     "output_type": "stream",
     "text": [
      "\r",
      "Processing ^SPX (train):  41%|█████████████████████████▋                                     | 378/926 [02:22<03:00,  3.03it/s]"
     ]
    },
    {
     "name": "stderr",
     "output_type": "stream",
     "text": [
      "\r",
      "Processing ^SPX (train):  41%|█████████████████████████▊                                     | 379/926 [02:23<03:09,  2.88it/s]"
     ]
    },
    {
     "name": "stderr",
     "output_type": "stream",
     "text": [
      "\r",
      "Processing ^SPX (train):  41%|█████████████████████████▊                                     | 380/926 [02:23<03:10,  2.86it/s]"
     ]
    },
    {
     "name": "stderr",
     "output_type": "stream",
     "text": [
      "\r",
      "Processing ^SPX (train):  41%|█████████████████████████▉                                     | 381/926 [02:23<03:18,  2.75it/s]"
     ]
    },
    {
     "name": "stderr",
     "output_type": "stream",
     "text": [
      "\r",
      "Processing ^SPX (train):  41%|█████████████████████████▉                                     | 382/926 [02:24<03:27,  2.62it/s]"
     ]
    },
    {
     "name": "stderr",
     "output_type": "stream",
     "text": [
      "\r",
      "Processing ^SPX (train):  41%|██████████████████████████                                     | 383/926 [02:24<03:12,  2.82it/s]"
     ]
    },
    {
     "name": "stderr",
     "output_type": "stream",
     "text": [
      "\r",
      "Processing ^SPX (train):  41%|██████████████████████████▏                                    | 384/926 [02:24<02:53,  3.13it/s]"
     ]
    },
    {
     "name": "stderr",
     "output_type": "stream",
     "text": [
      "\r",
      "Processing ^SPX (train):  42%|██████████████████████████▏                                    | 385/926 [02:25<03:13,  2.80it/s]"
     ]
    },
    {
     "name": "stderr",
     "output_type": "stream",
     "text": [
      "\r",
      "Processing ^SPX (train):  42%|██████████████████████████▎                                    | 386/926 [02:25<03:03,  2.94it/s]"
     ]
    },
    {
     "name": "stderr",
     "output_type": "stream",
     "text": [
      "\r",
      "Processing ^SPX (train):  42%|██████████████████████████▎                                    | 387/926 [02:26<03:12,  2.79it/s]"
     ]
    },
    {
     "name": "stderr",
     "output_type": "stream",
     "text": [
      "\r",
      "Processing ^SPX (train):  42%|██████████████████████████▍                                    | 388/926 [02:26<03:10,  2.82it/s]"
     ]
    },
    {
     "name": "stderr",
     "output_type": "stream",
     "text": [
      "\r",
      "Processing ^SPX (train):  42%|██████████████████████████▍                                    | 389/926 [02:26<02:57,  3.02it/s]"
     ]
    },
    {
     "name": "stderr",
     "output_type": "stream",
     "text": [
      "\r",
      "Processing ^SPX (train):  42%|██████████████████████████▌                                    | 390/926 [02:27<02:58,  3.01it/s]"
     ]
    },
    {
     "name": "stderr",
     "output_type": "stream",
     "text": [
      "\r",
      "Processing ^SPX (train):  42%|██████████████████████████▌                                    | 391/926 [02:27<03:03,  2.91it/s]"
     ]
    },
    {
     "name": "stderr",
     "output_type": "stream",
     "text": [
      "\r",
      "Processing ^SPX (train):  42%|██████████████████████████▋                                    | 392/926 [02:27<02:44,  3.25it/s]"
     ]
    },
    {
     "name": "stderr",
     "output_type": "stream",
     "text": [
      "\r",
      "Processing ^SPX (train):  42%|██████████████████████████▋                                    | 393/926 [02:27<02:50,  3.12it/s]"
     ]
    },
    {
     "name": "stderr",
     "output_type": "stream",
     "text": [
      "\r",
      "Processing ^SPX (train):  43%|██████████████████████████▊                                    | 394/926 [02:28<03:12,  2.76it/s]"
     ]
    },
    {
     "name": "stderr",
     "output_type": "stream",
     "text": [
      "\r",
      "Processing ^SPX (train):  43%|██████████████████████████▊                                    | 395/926 [02:28<03:25,  2.59it/s]"
     ]
    },
    {
     "name": "stderr",
     "output_type": "stream",
     "text": [
      "\r",
      "Processing ^SPX (train):  43%|██████████████████████████▉                                    | 396/926 [02:29<03:13,  2.74it/s]"
     ]
    },
    {
     "name": "stderr",
     "output_type": "stream",
     "text": [
      "\r",
      "Processing ^SPX (train):  43%|███████████████████████████                                    | 397/926 [02:29<03:17,  2.68it/s]"
     ]
    },
    {
     "name": "stderr",
     "output_type": "stream",
     "text": [
      "\r",
      "Processing ^SPX (train):  43%|███████████████████████████                                    | 398/926 [02:30<03:28,  2.53it/s]"
     ]
    },
    {
     "name": "stderr",
     "output_type": "stream",
     "text": [
      "\r",
      "Processing ^SPX (train):  43%|███████████████████████████▏                                   | 399/926 [02:30<03:40,  2.39it/s]"
     ]
    },
    {
     "name": "stderr",
     "output_type": "stream",
     "text": [
      "\r",
      "Processing ^SPX (train):  43%|███████████████████████████▏                                   | 400/926 [02:30<03:20,  2.63it/s]"
     ]
    },
    {
     "name": "stderr",
     "output_type": "stream",
     "text": [
      "\r",
      "Processing ^SPX (train):  43%|███████████████████████████▎                                   | 401/926 [02:31<03:18,  2.64it/s]"
     ]
    },
    {
     "name": "stderr",
     "output_type": "stream",
     "text": [
      "\r",
      "Processing ^SPX (train):  43%|███████████████████████████▎                                   | 402/926 [02:31<03:41,  2.37it/s]"
     ]
    },
    {
     "name": "stderr",
     "output_type": "stream",
     "text": [
      "\r",
      "Processing ^SPX (train):  44%|███████████████████████████▍                                   | 403/926 [02:31<03:20,  2.61it/s]"
     ]
    },
    {
     "name": "stderr",
     "output_type": "stream",
     "text": [
      "\r",
      "Processing ^SPX (train):  44%|███████████████████████████▍                                   | 404/926 [02:32<02:56,  2.96it/s]"
     ]
    },
    {
     "name": "stderr",
     "output_type": "stream",
     "text": [
      "\r",
      "Processing ^SPX (train):  44%|███████████████████████████▌                                   | 405/926 [02:32<03:06,  2.79it/s]"
     ]
    },
    {
     "name": "stderr",
     "output_type": "stream",
     "text": [
      "\r",
      "Processing ^SPX (train):  44%|███████████████████████████▌                                   | 406/926 [02:32<02:58,  2.91it/s]"
     ]
    },
    {
     "name": "stderr",
     "output_type": "stream",
     "text": [
      "\r",
      "Processing ^SPX (train):  44%|███████████████████████████▋                                   | 407/926 [02:33<03:07,  2.77it/s]"
     ]
    },
    {
     "name": "stderr",
     "output_type": "stream",
     "text": [
      "\r",
      "Processing ^SPX (train):  44%|███████████████████████████▊                                   | 408/926 [02:33<03:09,  2.74it/s]"
     ]
    },
    {
     "name": "stderr",
     "output_type": "stream",
     "text": [
      "\r",
      "Processing ^SPX (train):  44%|███████████████████████████▊                                   | 409/926 [02:34<03:08,  2.75it/s]"
     ]
    },
    {
     "name": "stderr",
     "output_type": "stream",
     "text": [
      "\r",
      "Processing ^SPX (train):  44%|███████████████████████████▉                                   | 410/926 [02:34<03:10,  2.70it/s]"
     ]
    },
    {
     "name": "stderr",
     "output_type": "stream",
     "text": [
      "\r",
      "Processing ^SPX (train):  44%|███████████████████████████▉                                   | 411/926 [02:34<03:23,  2.53it/s]"
     ]
    },
    {
     "name": "stderr",
     "output_type": "stream",
     "text": [
      "\r",
      "Processing ^SPX (train):  44%|████████████████████████████                                   | 412/926 [02:35<03:03,  2.80it/s]"
     ]
    },
    {
     "name": "stderr",
     "output_type": "stream",
     "text": [
      "\r",
      "Processing ^SPX (train):  45%|████████████████████████████                                   | 413/926 [02:35<03:24,  2.51it/s]"
     ]
    },
    {
     "name": "stderr",
     "output_type": "stream",
     "text": [
      "\r",
      "Processing ^SPX (train):  45%|████████████████████████████▏                                  | 414/926 [02:36<03:22,  2.53it/s]"
     ]
    },
    {
     "name": "stderr",
     "output_type": "stream",
     "text": [
      "\r",
      "Processing ^SPX (train):  45%|████████████████████████████▏                                  | 415/926 [02:36<03:17,  2.59it/s]"
     ]
    },
    {
     "name": "stderr",
     "output_type": "stream",
     "text": [
      "\r",
      "Processing ^SPX (train):  45%|████████████████████████████▎                                  | 416/926 [02:36<03:25,  2.48it/s]"
     ]
    },
    {
     "name": "stderr",
     "output_type": "stream",
     "text": [
      "\r",
      "Processing ^SPX (train):  45%|████████████████████████████▎                                  | 417/926 [02:37<03:30,  2.42it/s]"
     ]
    },
    {
     "name": "stderr",
     "output_type": "stream",
     "text": [
      "\r",
      "Processing ^SPX (train):  45%|████████████████████████████▍                                  | 418/926 [02:37<03:35,  2.36it/s]"
     ]
    },
    {
     "name": "stderr",
     "output_type": "stream",
     "text": [
      "\r",
      "Processing ^SPX (train):  45%|████████████████████████████▌                                  | 419/926 [02:38<03:51,  2.19it/s]"
     ]
    },
    {
     "name": "stderr",
     "output_type": "stream",
     "text": [
      "\r",
      "Processing ^SPX (train):  45%|████████████████████████████▌                                  | 420/926 [02:38<03:47,  2.22it/s]"
     ]
    },
    {
     "name": "stderr",
     "output_type": "stream",
     "text": [
      "\r",
      "Processing ^SPX (train):  45%|████████████████████████████▋                                  | 421/926 [02:39<03:44,  2.25it/s]"
     ]
    },
    {
     "name": "stderr",
     "output_type": "stream",
     "text": [
      "\r",
      "Processing ^SPX (train):  46%|████████████████████████████▋                                  | 422/926 [02:39<03:21,  2.50it/s]"
     ]
    },
    {
     "name": "stderr",
     "output_type": "stream",
     "text": [
      "\r",
      "Processing ^SPX (train):  46%|████████████████████████████▊                                  | 423/926 [02:39<03:16,  2.57it/s]"
     ]
    },
    {
     "name": "stderr",
     "output_type": "stream",
     "text": [
      "\r",
      "Processing ^SPX (train):  46%|████████████████████████████▊                                  | 424/926 [02:40<02:59,  2.79it/s]"
     ]
    },
    {
     "name": "stderr",
     "output_type": "stream",
     "text": [
      "\r",
      "Processing ^SPX (train):  46%|████████████████████████████▉                                  | 425/926 [02:40<02:57,  2.82it/s]"
     ]
    },
    {
     "name": "stderr",
     "output_type": "stream",
     "text": [
      "\r",
      "Processing ^SPX (train):  46%|████████████████████████████▉                                  | 426/926 [02:40<02:55,  2.84it/s]"
     ]
    },
    {
     "name": "stderr",
     "output_type": "stream",
     "text": [
      "\r",
      "Processing ^SPX (train):  46%|█████████████████████████████                                  | 427/926 [02:41<02:54,  2.86it/s]"
     ]
    },
    {
     "name": "stderr",
     "output_type": "stream",
     "text": [
      "\r",
      "Processing ^SPX (train):  46%|█████████████████████████████                                  | 428/926 [02:41<03:00,  2.76it/s]"
     ]
    },
    {
     "name": "stderr",
     "output_type": "stream",
     "text": [
      "\r",
      "Processing ^SPX (train):  46%|█████████████████████████████▏                                 | 429/926 [02:41<02:59,  2.77it/s]"
     ]
    },
    {
     "name": "stderr",
     "output_type": "stream",
     "text": [
      "\r",
      "Processing ^SPX (train):  46%|█████████████████████████████▎                                 | 430/926 [02:42<02:53,  2.87it/s]"
     ]
    },
    {
     "name": "stderr",
     "output_type": "stream",
     "text": [
      "\r",
      "Processing ^SPX (train):  47%|█████████████████████████████▎                                 | 431/926 [02:42<03:06,  2.66it/s]"
     ]
    },
    {
     "name": "stderr",
     "output_type": "stream",
     "text": [
      "\r",
      "Processing ^SPX (train):  47%|█████████████████████████████▍                                 | 432/926 [02:43<03:06,  2.65it/s]"
     ]
    },
    {
     "name": "stderr",
     "output_type": "stream",
     "text": [
      "\r",
      "Processing ^SPX (train):  47%|█████████████████████████████▍                                 | 433/926 [02:43<02:50,  2.90it/s]"
     ]
    },
    {
     "name": "stderr",
     "output_type": "stream",
     "text": [
      "\r",
      "Processing ^SPX (train):  47%|█████████████████████████████▌                                 | 434/926 [02:43<03:01,  2.72it/s]"
     ]
    },
    {
     "name": "stderr",
     "output_type": "stream",
     "text": [
      "\r",
      "Processing ^SPX (train):  47%|█████████████████████████████▌                                 | 435/926 [02:43<02:46,  2.95it/s]"
     ]
    },
    {
     "name": "stderr",
     "output_type": "stream",
     "text": [
      "\r",
      "Processing ^SPX (train):  47%|█████████████████████████████▋                                 | 436/926 [02:44<02:59,  2.73it/s]"
     ]
    },
    {
     "name": "stderr",
     "output_type": "stream",
     "text": [
      "\r",
      "Processing ^SPX (train):  47%|█████████████████████████████▋                                 | 437/926 [02:44<02:57,  2.76it/s]"
     ]
    },
    {
     "name": "stderr",
     "output_type": "stream",
     "text": [
      "\r",
      "Processing ^SPX (train):  47%|█████████████████████████████▊                                 | 438/926 [02:45<02:58,  2.73it/s]"
     ]
    },
    {
     "name": "stderr",
     "output_type": "stream",
     "text": [
      "\r",
      "Processing ^SPX (train):  47%|█████████████████████████████▊                                 | 439/926 [02:45<03:07,  2.59it/s]"
     ]
    },
    {
     "name": "stderr",
     "output_type": "stream",
     "text": [
      "\r",
      "Processing ^SPX (train):  48%|█████████████████████████████▉                                 | 440/926 [02:45<03:10,  2.55it/s]"
     ]
    },
    {
     "name": "stderr",
     "output_type": "stream",
     "text": [
      "\r",
      "Processing ^SPX (train):  48%|██████████████████████████████                                 | 441/926 [02:46<02:53,  2.80it/s]"
     ]
    },
    {
     "name": "stderr",
     "output_type": "stream",
     "text": [
      "\r",
      "Processing ^SPX (train):  48%|██████████████████████████████                                 | 442/926 [02:46<02:36,  3.09it/s]"
     ]
    },
    {
     "name": "stderr",
     "output_type": "stream",
     "text": [
      "\r",
      "Processing ^SPX (train):  48%|██████████████████████████████▏                                | 443/926 [02:46<02:34,  3.12it/s]"
     ]
    },
    {
     "name": "stderr",
     "output_type": "stream",
     "text": [
      "\r",
      "Processing ^SPX (train):  48%|██████████████████████████████▏                                | 444/926 [02:47<02:31,  3.19it/s]"
     ]
    },
    {
     "name": "stderr",
     "output_type": "stream",
     "text": [
      "\r",
      "Processing ^SPX (train):  48%|██████████████████████████████▎                                | 445/926 [02:47<02:47,  2.88it/s]"
     ]
    },
    {
     "name": "stderr",
     "output_type": "stream",
     "text": [
      "\r",
      "Processing ^SPX (train):  48%|██████████████████████████████▎                                | 446/926 [02:47<02:42,  2.95it/s]"
     ]
    },
    {
     "name": "stderr",
     "output_type": "stream",
     "text": [
      "\r",
      "Processing ^SPX (train):  48%|██████████████████████████████▍                                | 447/926 [02:48<02:48,  2.84it/s]"
     ]
    },
    {
     "name": "stderr",
     "output_type": "stream",
     "text": [
      "\r",
      "Processing ^SPX (train):  48%|██████████████████████████████▍                                | 448/926 [02:48<03:02,  2.62it/s]"
     ]
    },
    {
     "name": "stderr",
     "output_type": "stream",
     "text": [
      "\r",
      "Processing ^SPX (train):  48%|██████████████████████████████▌                                | 449/926 [02:49<03:01,  2.62it/s]"
     ]
    },
    {
     "name": "stderr",
     "output_type": "stream",
     "text": [
      "\r",
      "Processing ^SPX (train):  49%|██████████████████████████████▌                                | 450/926 [02:49<03:18,  2.39it/s]"
     ]
    },
    {
     "name": "stderr",
     "output_type": "stream",
     "text": [
      "\r",
      "Processing ^SPX (train):  49%|██████████████████████████████▋                                | 451/926 [02:49<03:01,  2.62it/s]"
     ]
    },
    {
     "name": "stderr",
     "output_type": "stream",
     "text": [
      "\r",
      "Processing ^SPX (train):  49%|██████████████████████████████▊                                | 452/926 [02:50<02:55,  2.70it/s]"
     ]
    },
    {
     "name": "stderr",
     "output_type": "stream",
     "text": [
      "\r",
      "Processing ^SPX (train):  49%|██████████████████████████████▊                                | 453/926 [02:50<02:43,  2.89it/s]"
     ]
    },
    {
     "name": "stderr",
     "output_type": "stream",
     "text": [
      "\r",
      "Processing ^SPX (train):  49%|██████████████████████████████▉                                | 454/926 [02:50<03:00,  2.61it/s]"
     ]
    },
    {
     "name": "stderr",
     "output_type": "stream",
     "text": [
      "\r",
      "Processing ^SPX (train):  49%|██████████████████████████████▉                                | 455/926 [02:51<02:45,  2.85it/s]"
     ]
    },
    {
     "name": "stderr",
     "output_type": "stream",
     "text": [
      "\r",
      "Processing ^SPX (train):  49%|███████████████████████████████                                | 456/926 [02:51<02:47,  2.81it/s]"
     ]
    },
    {
     "name": "stderr",
     "output_type": "stream",
     "text": [
      "\r",
      "Processing ^SPX (train):  49%|███████████████████████████████                                | 457/926 [02:52<02:51,  2.73it/s]"
     ]
    },
    {
     "name": "stderr",
     "output_type": "stream",
     "text": [
      "\r",
      "Processing ^SPX (train):  49%|███████████████████████████████▏                               | 458/926 [02:52<02:50,  2.75it/s]"
     ]
    },
    {
     "name": "stderr",
     "output_type": "stream",
     "text": [
      "\r",
      "Processing ^SPX (train):  50%|███████████████████████████████▏                               | 459/926 [02:52<03:03,  2.55it/s]"
     ]
    },
    {
     "name": "stderr",
     "output_type": "stream",
     "text": [
      "\r",
      "Processing ^SPX (train):  50%|███████████████████████████████▎                               | 460/926 [02:53<02:59,  2.59it/s]"
     ]
    },
    {
     "name": "stderr",
     "output_type": "stream",
     "text": [
      "\r",
      "Processing ^SPX (train):  50%|███████████████████████████████▎                               | 461/926 [02:53<03:07,  2.48it/s]"
     ]
    },
    {
     "name": "stderr",
     "output_type": "stream",
     "text": [
      "\r",
      "Processing ^SPX (train):  50%|███████████████████████████████▍                               | 462/926 [02:54<03:03,  2.53it/s]"
     ]
    },
    {
     "name": "stderr",
     "output_type": "stream",
     "text": [
      "\r",
      "Processing ^SPX (train):  50%|███████████████████████████████▌                               | 463/926 [02:54<03:01,  2.56it/s]"
     ]
    },
    {
     "name": "stderr",
     "output_type": "stream",
     "text": [
      "\r",
      "Processing ^SPX (train):  50%|███████████████████████████████▌                               | 464/926 [02:54<02:51,  2.69it/s]"
     ]
    },
    {
     "name": "stderr",
     "output_type": "stream",
     "text": [
      "\r",
      "Processing ^SPX (train):  50%|███████████████████████████████▋                               | 465/926 [02:55<02:48,  2.73it/s]"
     ]
    },
    {
     "name": "stderr",
     "output_type": "stream",
     "text": [
      "\r",
      "Processing ^SPX (train):  50%|███████████████████████████████▋                               | 466/926 [02:55<02:39,  2.88it/s]"
     ]
    },
    {
     "name": "stderr",
     "output_type": "stream",
     "text": [
      "\r",
      "Processing ^SPX (train):  50%|███████████████████████████████▊                               | 467/926 [02:55<03:03,  2.50it/s]"
     ]
    },
    {
     "name": "stderr",
     "output_type": "stream",
     "text": [
      "\r",
      "Processing ^SPX (train):  51%|███████████████████████████████▊                               | 468/926 [02:56<02:48,  2.72it/s]"
     ]
    },
    {
     "name": "stderr",
     "output_type": "stream",
     "text": [
      "\r",
      "Processing ^SPX (train):  51%|███████████████████████████████▉                               | 469/926 [02:56<02:58,  2.57it/s]"
     ]
    },
    {
     "name": "stderr",
     "output_type": "stream",
     "text": [
      "\r",
      "Processing ^SPX (train):  51%|███████████████████████████████▉                               | 470/926 [02:57<02:51,  2.66it/s]"
     ]
    },
    {
     "name": "stderr",
     "output_type": "stream",
     "text": [
      "\r",
      "Processing ^SPX (train):  51%|████████████████████████████████                               | 471/926 [02:57<02:41,  2.82it/s]"
     ]
    },
    {
     "name": "stderr",
     "output_type": "stream",
     "text": [
      "\r",
      "Processing ^SPX (train):  51%|████████████████████████████████                               | 472/926 [02:57<02:52,  2.63it/s]"
     ]
    },
    {
     "name": "stderr",
     "output_type": "stream",
     "text": [
      "\r",
      "Processing ^SPX (train):  51%|████████████████████████████████▏                              | 473/926 [02:58<02:55,  2.58it/s]"
     ]
    },
    {
     "name": "stderr",
     "output_type": "stream",
     "text": [
      "\r",
      "Processing ^SPX (train):  51%|████████████████████████████████▏                              | 474/926 [02:58<02:40,  2.82it/s]"
     ]
    },
    {
     "name": "stderr",
     "output_type": "stream",
     "text": [
      "\r",
      "Processing ^SPX (train):  51%|████████████████████████████████▎                              | 475/926 [02:58<02:53,  2.59it/s]"
     ]
    },
    {
     "name": "stderr",
     "output_type": "stream",
     "text": [
      "\r",
      "Processing ^SPX (train):  51%|████████████████████████████████▍                              | 476/926 [02:59<02:43,  2.75it/s]"
     ]
    },
    {
     "name": "stderr",
     "output_type": "stream",
     "text": [
      "\r",
      "Processing ^SPX (train):  52%|████████████████████████████████▍                              | 477/926 [02:59<02:38,  2.84it/s]"
     ]
    },
    {
     "name": "stderr",
     "output_type": "stream",
     "text": [
      "\r",
      "Processing ^SPX (train):  52%|████████████████████████████████▌                              | 478/926 [02:59<02:36,  2.86it/s]"
     ]
    },
    {
     "name": "stderr",
     "output_type": "stream",
     "text": [
      "\r",
      "Processing ^SPX (train):  52%|████████████████████████████████▌                              | 479/926 [03:00<02:36,  2.86it/s]"
     ]
    },
    {
     "name": "stderr",
     "output_type": "stream",
     "text": [
      "\r",
      "Processing ^SPX (train):  52%|████████████████████████████████▋                              | 480/926 [03:00<02:50,  2.61it/s]"
     ]
    },
    {
     "name": "stderr",
     "output_type": "stream",
     "text": [
      "\r",
      "Processing ^SPX (train):  52%|████████████████████████████████▋                              | 481/926 [03:00<02:40,  2.78it/s]"
     ]
    },
    {
     "name": "stderr",
     "output_type": "stream",
     "text": [
      "\r",
      "Processing ^SPX (train):  52%|████████████████████████████████▊                              | 482/926 [03:01<02:41,  2.75it/s]"
     ]
    },
    {
     "name": "stderr",
     "output_type": "stream",
     "text": [
      "\r",
      "Processing ^SPX (train):  52%|████████████████████████████████▊                              | 483/926 [03:01<02:25,  3.04it/s]"
     ]
    },
    {
     "name": "stderr",
     "output_type": "stream",
     "text": [
      "\r",
      "Processing ^SPX (train):  52%|████████████████████████████████▉                              | 484/926 [03:01<02:30,  2.94it/s]"
     ]
    },
    {
     "name": "stderr",
     "output_type": "stream",
     "text": [
      "\r",
      "Processing ^SPX (train):  52%|████████████████████████████████▉                              | 485/926 [03:02<02:35,  2.84it/s]"
     ]
    },
    {
     "name": "stderr",
     "output_type": "stream",
     "text": [
      "\r",
      "Processing ^SPX (train):  52%|█████████████████████████████████                              | 486/926 [03:02<02:33,  2.86it/s]"
     ]
    },
    {
     "name": "stderr",
     "output_type": "stream",
     "text": [
      "\r",
      "Processing ^SPX (train):  53%|█████████████████████████████████▏                             | 487/926 [03:03<02:36,  2.81it/s]"
     ]
    },
    {
     "name": "stderr",
     "output_type": "stream",
     "text": [
      "\r",
      "Processing ^SPX (train):  53%|█████████████████████████████████▏                             | 488/926 [03:03<02:41,  2.70it/s]"
     ]
    },
    {
     "name": "stderr",
     "output_type": "stream",
     "text": [
      "\r",
      "Processing ^SPX (train):  53%|█████████████████████████████████▎                             | 489/926 [03:03<02:47,  2.61it/s]"
     ]
    },
    {
     "name": "stderr",
     "output_type": "stream",
     "text": [
      "\r",
      "Processing ^SPX (train):  53%|█████████████████████████████████▎                             | 490/926 [03:04<03:00,  2.41it/s]"
     ]
    },
    {
     "name": "stderr",
     "output_type": "stream",
     "text": [
      "\r",
      "Processing ^SPX (train):  53%|█████████████████████████████████▍                             | 491/926 [03:04<02:41,  2.69it/s]"
     ]
    },
    {
     "name": "stderr",
     "output_type": "stream",
     "text": [
      "\r",
      "Processing ^SPX (train):  53%|█████████████████████████████████▍                             | 492/926 [03:05<02:55,  2.47it/s]"
     ]
    },
    {
     "name": "stderr",
     "output_type": "stream",
     "text": [
      "\r",
      "Processing ^SPX (train):  53%|█████████████████████████████████▌                             | 493/926 [03:05<02:46,  2.60it/s]"
     ]
    },
    {
     "name": "stderr",
     "output_type": "stream",
     "text": [
      "\r",
      "Processing ^SPX (train):  53%|█████████████████████████████████▌                             | 494/926 [03:05<02:28,  2.92it/s]"
     ]
    },
    {
     "name": "stderr",
     "output_type": "stream",
     "text": [
      "\r",
      "Processing ^SPX (train):  53%|█████████████████████████████████▋                             | 495/926 [03:06<02:38,  2.72it/s]"
     ]
    },
    {
     "name": "stderr",
     "output_type": "stream",
     "text": [
      "\r",
      "Processing ^SPX (train):  54%|█████████████████████████████████▋                             | 496/926 [03:06<02:18,  3.11it/s]"
     ]
    },
    {
     "name": "stderr",
     "output_type": "stream",
     "text": [
      "\r",
      "Processing ^SPX (train):  54%|█████████████████████████████████▊                             | 497/926 [03:06<02:34,  2.78it/s]"
     ]
    },
    {
     "name": "stderr",
     "output_type": "stream",
     "text": [
      "\r",
      "Processing ^SPX (train):  54%|█████████████████████████████████▉                             | 498/926 [03:07<02:24,  2.97it/s]"
     ]
    },
    {
     "name": "stderr",
     "output_type": "stream",
     "text": [
      "\r",
      "Processing ^SPX (train):  54%|█████████████████████████████████▉                             | 499/926 [03:07<02:26,  2.92it/s]"
     ]
    },
    {
     "name": "stderr",
     "output_type": "stream",
     "text": [
      "\r",
      "Processing ^SPX (train):  54%|██████████████████████████████████                             | 500/926 [03:07<02:20,  3.03it/s]"
     ]
    },
    {
     "name": "stderr",
     "output_type": "stream",
     "text": [
      "\r",
      "Processing ^SPX (train):  54%|██████████████████████████████████                             | 501/926 [03:08<02:29,  2.84it/s]"
     ]
    },
    {
     "name": "stderr",
     "output_type": "stream",
     "text": [
      "\r",
      "Processing ^SPX (train):  54%|██████████████████████████████████▏                            | 502/926 [03:08<02:22,  2.98it/s]"
     ]
    },
    {
     "name": "stderr",
     "output_type": "stream",
     "text": [
      "\r",
      "Processing ^SPX (train):  54%|██████████████████████████████████▏                            | 503/926 [03:08<02:31,  2.80it/s]"
     ]
    },
    {
     "name": "stderr",
     "output_type": "stream",
     "text": [
      "\r",
      "Processing ^SPX (train):  54%|██████████████████████████████████▎                            | 504/926 [03:09<02:30,  2.80it/s]"
     ]
    },
    {
     "name": "stderr",
     "output_type": "stream",
     "text": [
      "\r",
      "Processing ^SPX (train):  55%|██████████████████████████████████▎                            | 505/926 [03:09<02:31,  2.78it/s]"
     ]
    },
    {
     "name": "stderr",
     "output_type": "stream",
     "text": [
      "\r",
      "Processing ^SPX (train):  55%|██████████████████████████████████▍                            | 506/926 [03:09<02:31,  2.77it/s]"
     ]
    },
    {
     "name": "stderr",
     "output_type": "stream",
     "text": [
      "\r",
      "Processing ^SPX (train):  55%|██████████████████████████████████▍                            | 507/926 [03:10<02:20,  2.98it/s]"
     ]
    },
    {
     "name": "stderr",
     "output_type": "stream",
     "text": [
      "\r",
      "Processing ^SPX (train):  55%|██████████████████████████████████▌                            | 508/926 [03:10<02:17,  3.05it/s]"
     ]
    },
    {
     "name": "stderr",
     "output_type": "stream",
     "text": [
      "\r",
      "Processing ^SPX (train):  55%|██████████████████████████████████▋                            | 509/926 [03:10<02:18,  3.01it/s]"
     ]
    },
    {
     "name": "stderr",
     "output_type": "stream",
     "text": [
      "\r",
      "Processing ^SPX (train):  55%|██████████████████████████████████▋                            | 510/926 [03:11<02:39,  2.61it/s]"
     ]
    },
    {
     "name": "stderr",
     "output_type": "stream",
     "text": [
      "\r",
      "Processing ^SPX (train):  55%|██████████████████████████████████▊                            | 511/926 [03:11<02:42,  2.55it/s]"
     ]
    },
    {
     "name": "stderr",
     "output_type": "stream",
     "text": [
      "\r",
      "Processing ^SPX (train):  55%|██████████████████████████████████▊                            | 512/926 [03:12<02:25,  2.85it/s]"
     ]
    },
    {
     "name": "stderr",
     "output_type": "stream",
     "text": [
      "\r",
      "Processing ^SPX (train):  55%|██████████████████████████████████▉                            | 513/926 [03:12<02:57,  2.32it/s]"
     ]
    },
    {
     "name": "stderr",
     "output_type": "stream",
     "text": [
      "\r",
      "Processing ^SPX (train):  56%|██████████████████████████████████▉                            | 514/926 [03:13<02:55,  2.35it/s]"
     ]
    },
    {
     "name": "stderr",
     "output_type": "stream",
     "text": [
      "\r",
      "Processing ^SPX (train):  56%|███████████████████████████████████                            | 515/926 [03:13<02:55,  2.34it/s]"
     ]
    },
    {
     "name": "stderr",
     "output_type": "stream",
     "text": [
      "\r",
      "Processing ^SPX (train):  56%|███████████████████████████████████                            | 516/926 [03:13<02:52,  2.38it/s]"
     ]
    },
    {
     "name": "stderr",
     "output_type": "stream",
     "text": [
      "\r",
      "Processing ^SPX (train):  56%|███████████████████████████████████▏                           | 517/926 [03:14<03:00,  2.26it/s]"
     ]
    },
    {
     "name": "stderr",
     "output_type": "stream",
     "text": [
      "\r",
      "Processing ^SPX (train):  56%|███████████████████████████████████▏                           | 518/926 [03:14<02:49,  2.40it/s]"
     ]
    },
    {
     "name": "stderr",
     "output_type": "stream",
     "text": [
      "\r",
      "Processing ^SPX (train):  56%|███████████████████████████████████▎                           | 519/926 [03:15<02:33,  2.65it/s]"
     ]
    },
    {
     "name": "stderr",
     "output_type": "stream",
     "text": [
      "\r",
      "Processing ^SPX (train):  56%|███████████████████████████████████▍                           | 520/926 [03:15<02:35,  2.60it/s]"
     ]
    },
    {
     "name": "stderr",
     "output_type": "stream",
     "text": [
      "\r",
      "Processing ^SPX (train):  56%|███████████████████████████████████▍                           | 521/926 [03:15<02:39,  2.54it/s]"
     ]
    },
    {
     "name": "stderr",
     "output_type": "stream",
     "text": [
      "\r",
      "Processing ^SPX (train):  56%|███████████████████████████████████▌                           | 522/926 [03:16<02:29,  2.70it/s]"
     ]
    },
    {
     "name": "stderr",
     "output_type": "stream",
     "text": [
      "\r",
      "Processing ^SPX (train):  56%|███████████████████████████████████▌                           | 523/926 [03:16<02:18,  2.92it/s]"
     ]
    },
    {
     "name": "stderr",
     "output_type": "stream",
     "text": [
      "\r",
      "Processing ^SPX (train):  57%|███████████████████████████████████▋                           | 524/926 [03:16<02:38,  2.54it/s]"
     ]
    },
    {
     "name": "stderr",
     "output_type": "stream",
     "text": [
      "\r",
      "Processing ^SPX (train):  57%|███████████████████████████████████▋                           | 525/926 [03:17<02:31,  2.65it/s]"
     ]
    },
    {
     "name": "stderr",
     "output_type": "stream",
     "text": [
      "\r",
      "Processing ^SPX (train):  57%|███████████████████████████████████▊                           | 526/926 [03:17<02:26,  2.72it/s]"
     ]
    },
    {
     "name": "stderr",
     "output_type": "stream",
     "text": [
      "\r",
      "Processing ^SPX (train):  57%|███████████████████████████████████▊                           | 527/926 [03:18<02:34,  2.58it/s]"
     ]
    },
    {
     "name": "stderr",
     "output_type": "stream",
     "text": [
      "\r",
      "Processing ^SPX (train):  57%|███████████████████████████████████▉                           | 528/926 [03:18<02:39,  2.50it/s]"
     ]
    },
    {
     "name": "stderr",
     "output_type": "stream",
     "text": [
      "\r",
      "Processing ^SPX (train):  57%|███████████████████████████████████▉                           | 529/926 [03:18<02:38,  2.51it/s]"
     ]
    },
    {
     "name": "stderr",
     "output_type": "stream",
     "text": [
      "\r",
      "Processing ^SPX (train):  57%|████████████████████████████████████                           | 530/926 [03:19<02:39,  2.48it/s]"
     ]
    },
    {
     "name": "stderr",
     "output_type": "stream",
     "text": [
      "\r",
      "Processing ^SPX (train):  57%|████████████████████████████████████▏                          | 531/926 [03:19<02:29,  2.64it/s]"
     ]
    },
    {
     "name": "stderr",
     "output_type": "stream",
     "text": [
      "\r",
      "Processing ^SPX (train):  57%|████████████████████████████████████▏                          | 532/926 [03:20<02:34,  2.55it/s]"
     ]
    },
    {
     "name": "stderr",
     "output_type": "stream",
     "text": [
      "\r",
      "Processing ^SPX (train):  58%|████████████████████████████████████▎                          | 533/926 [03:20<02:19,  2.81it/s]"
     ]
    },
    {
     "name": "stderr",
     "output_type": "stream",
     "text": [
      "\r",
      "Processing ^SPX (train):  58%|████████████████████████████████████▎                          | 534/926 [03:20<02:28,  2.64it/s]"
     ]
    },
    {
     "name": "stderr",
     "output_type": "stream",
     "text": [
      "\r",
      "Processing ^SPX (train):  58%|████████████████████████████████████▍                          | 535/926 [03:21<02:11,  2.96it/s]"
     ]
    },
    {
     "name": "stderr",
     "output_type": "stream",
     "text": [
      "\r",
      "Processing ^SPX (train):  58%|████████████████████████████████████▍                          | 536/926 [03:21<02:24,  2.70it/s]"
     ]
    },
    {
     "name": "stderr",
     "output_type": "stream",
     "text": [
      "\r",
      "Processing ^SPX (train):  58%|████████████████████████████████████▌                          | 537/926 [03:21<02:16,  2.85it/s]"
     ]
    },
    {
     "name": "stderr",
     "output_type": "stream",
     "text": [
      "\r",
      "Processing ^SPX (train):  58%|████████████████████████████████████▌                          | 538/926 [03:22<02:20,  2.76it/s]"
     ]
    },
    {
     "name": "stderr",
     "output_type": "stream",
     "text": [
      "\r",
      "Processing ^SPX (train):  58%|████████████████████████████████████▋                          | 539/926 [03:22<02:13,  2.91it/s]"
     ]
    },
    {
     "name": "stderr",
     "output_type": "stream",
     "text": [
      "\r",
      "Processing ^SPX (train):  58%|████████████████████████████████████▋                          | 540/926 [03:22<02:17,  2.80it/s]"
     ]
    },
    {
     "name": "stderr",
     "output_type": "stream",
     "text": [
      "\r",
      "Processing ^SPX (train):  58%|████████████████████████████████████▊                          | 541/926 [03:23<02:43,  2.35it/s]"
     ]
    },
    {
     "name": "stderr",
     "output_type": "stream",
     "text": [
      "\r",
      "Processing ^SPX (train):  59%|████████████████████████████████████▊                          | 542/926 [03:23<02:42,  2.36it/s]"
     ]
    },
    {
     "name": "stderr",
     "output_type": "stream",
     "text": [
      "\r",
      "Processing ^SPX (train):  59%|████████████████████████████████████▉                          | 543/926 [03:24<02:45,  2.32it/s]"
     ]
    },
    {
     "name": "stderr",
     "output_type": "stream",
     "text": [
      "\r",
      "Processing ^SPX (train):  59%|█████████████████████████████████████                          | 544/926 [03:24<02:46,  2.29it/s]"
     ]
    },
    {
     "name": "stderr",
     "output_type": "stream",
     "text": [
      "\r",
      "Processing ^SPX (train):  59%|█████████████████████████████████████                          | 545/926 [03:25<02:35,  2.44it/s]"
     ]
    },
    {
     "name": "stderr",
     "output_type": "stream",
     "text": [
      "\r",
      "Processing ^SPX (train):  59%|█████████████████████████████████████▏                         | 546/926 [03:25<02:36,  2.43it/s]"
     ]
    },
    {
     "name": "stderr",
     "output_type": "stream",
     "text": [
      "\r",
      "Processing ^SPX (train):  59%|█████████████████████████████████████▏                         | 547/926 [03:25<02:30,  2.52it/s]"
     ]
    },
    {
     "name": "stderr",
     "output_type": "stream",
     "text": [
      "\r",
      "Processing ^SPX (train):  59%|█████████████████████████████████████▎                         | 548/926 [03:26<02:29,  2.52it/s]"
     ]
    },
    {
     "name": "stderr",
     "output_type": "stream",
     "text": [
      "\r",
      "Processing ^SPX (train):  59%|█████████████████████████████████████▎                         | 549/926 [03:26<02:22,  2.64it/s]"
     ]
    },
    {
     "name": "stderr",
     "output_type": "stream",
     "text": [
      "\r",
      "Processing ^SPX (train):  59%|█████████████████████████████████████▍                         | 550/926 [03:27<02:26,  2.56it/s]"
     ]
    },
    {
     "name": "stderr",
     "output_type": "stream",
     "text": [
      "\r",
      "Processing ^SPX (train):  60%|█████████████████████████████████████▍                         | 551/926 [03:27<02:24,  2.60it/s]"
     ]
    },
    {
     "name": "stderr",
     "output_type": "stream",
     "text": [
      "\r",
      "Processing ^SPX (train):  60%|█████████████████████████████████████▌                         | 552/926 [03:27<02:06,  2.95it/s]"
     ]
    },
    {
     "name": "stderr",
     "output_type": "stream",
     "text": [
      "\r",
      "Processing ^SPX (train):  60%|█████████████████████████████████████▌                         | 553/926 [03:27<02:09,  2.88it/s]"
     ]
    },
    {
     "name": "stderr",
     "output_type": "stream",
     "text": [
      "\r",
      "Processing ^SPX (train):  60%|█████████████████████████████████████▋                         | 554/926 [03:28<02:10,  2.86it/s]"
     ]
    },
    {
     "name": "stderr",
     "output_type": "stream",
     "text": [
      "\r",
      "Processing ^SPX (train):  60%|█████████████████████████████████████▊                         | 555/926 [03:28<02:05,  2.95it/s]"
     ]
    },
    {
     "name": "stderr",
     "output_type": "stream",
     "text": [
      "\r",
      "Processing ^SPX (train):  60%|█████████████████████████████████████▊                         | 556/926 [03:29<02:13,  2.77it/s]"
     ]
    },
    {
     "name": "stderr",
     "output_type": "stream",
     "text": [
      "\r",
      "Processing ^SPX (train):  60%|█████████████████████████████████████▉                         | 557/926 [03:29<02:19,  2.65it/s]"
     ]
    },
    {
     "name": "stderr",
     "output_type": "stream",
     "text": [
      "\r",
      "Processing ^SPX (train):  60%|█████████████████████████████████████▉                         | 558/926 [03:29<02:13,  2.76it/s]"
     ]
    },
    {
     "name": "stderr",
     "output_type": "stream",
     "text": [
      "\r",
      "Processing ^SPX (train):  60%|██████████████████████████████████████                         | 559/926 [03:30<02:21,  2.60it/s]"
     ]
    },
    {
     "name": "stderr",
     "output_type": "stream",
     "text": [
      "\r",
      "Processing ^SPX (train):  60%|██████████████████████████████████████                         | 560/926 [03:30<02:34,  2.37it/s]"
     ]
    },
    {
     "name": "stderr",
     "output_type": "stream",
     "text": [
      "\r",
      "Processing ^SPX (train):  61%|██████████████████████████████████████▏                        | 561/926 [03:31<02:30,  2.43it/s]"
     ]
    },
    {
     "name": "stderr",
     "output_type": "stream",
     "text": [
      "\r",
      "Processing ^SPX (train):  61%|██████████████████████████████████████▏                        | 562/926 [03:31<02:24,  2.52it/s]"
     ]
    },
    {
     "name": "stderr",
     "output_type": "stream",
     "text": [
      "\r",
      "Processing ^SPX (train):  61%|██████████████████████████████████████▎                        | 563/926 [03:31<02:11,  2.76it/s]"
     ]
    },
    {
     "name": "stderr",
     "output_type": "stream",
     "text": [
      "\r",
      "Processing ^SPX (train):  61%|██████████████████████████████████████▎                        | 564/926 [03:32<02:23,  2.52it/s]"
     ]
    },
    {
     "name": "stderr",
     "output_type": "stream",
     "text": [
      "\r",
      "Processing ^SPX (train):  61%|██████████████████████████████████████▍                        | 565/926 [03:32<02:14,  2.68it/s]"
     ]
    },
    {
     "name": "stderr",
     "output_type": "stream",
     "text": [
      "\r",
      "Processing ^SPX (train):  61%|██████████████████████████████████████▌                        | 566/926 [03:33<02:17,  2.61it/s]"
     ]
    },
    {
     "name": "stderr",
     "output_type": "stream",
     "text": [
      "\r",
      "Processing ^SPX (train):  61%|██████████████████████████████████████▌                        | 567/926 [03:33<02:08,  2.79it/s]"
     ]
    },
    {
     "name": "stderr",
     "output_type": "stream",
     "text": [
      "\r",
      "Processing ^SPX (train):  61%|██████████████████████████████████████▋                        | 568/926 [03:33<02:25,  2.46it/s]"
     ]
    },
    {
     "name": "stderr",
     "output_type": "stream",
     "text": [
      "\r",
      "Processing ^SPX (train):  61%|██████████████████████████████████████▋                        | 569/926 [03:34<02:26,  2.44it/s]"
     ]
    },
    {
     "name": "stderr",
     "output_type": "stream",
     "text": [
      "\r",
      "Processing ^SPX (train):  62%|██████████████████████████████████████▊                        | 570/926 [03:34<02:29,  2.38it/s]"
     ]
    },
    {
     "name": "stderr",
     "output_type": "stream",
     "text": [
      "\r",
      "Processing ^SPX (train):  62%|██████████████████████████████████████▊                        | 571/926 [03:35<02:25,  2.44it/s]"
     ]
    },
    {
     "name": "stderr",
     "output_type": "stream",
     "text": [
      "\r",
      "Processing ^SPX (train):  62%|██████████████████████████████████████▉                        | 572/926 [03:35<02:20,  2.53it/s]"
     ]
    },
    {
     "name": "stderr",
     "output_type": "stream",
     "text": [
      "\r",
      "Processing ^SPX (train):  62%|██████████████████████████████████████▉                        | 573/926 [03:35<02:19,  2.53it/s]"
     ]
    },
    {
     "name": "stderr",
     "output_type": "stream",
     "text": [
      "\r",
      "Processing ^SPX (train): 100%|███████████████████████████████████████████████████████████████| 926/926 [03:35<00:00,  4.29it/s]"
     ]
    },
    {
     "name": "stderr",
     "output_type": "stream",
     "text": [
      "\n"
     ]
    },
    {
     "name": "stderr",
     "output_type": "stream",
     "text": [
      "\r",
      "[*********************100%***********************]  1 of 1 completed"
     ]
    },
    {
     "name": "stderr",
     "output_type": "stream",
     "text": [
      "\n"
     ]
    },
    {
     "name": "stdout",
     "output_type": "stream",
     "text": [
      "tensor([[[-1.0748e+00, -1.0701e+00, -1.0773e+00, -1.0760e+00, -1.2834e+00,\n",
      "           0.0000e+00],\n",
      "         [-1.0803e+00, -1.0923e+00, -1.1135e+00, -1.1230e+00, -1.9937e-01,\n",
      "           1.0000e+00],\n",
      "         [-1.1207e+00, -1.1224e+00, -1.1449e+00, -1.1455e+00,  4.5776e-01,\n",
      "           2.0000e+00],\n",
      "         ...,\n",
      "         [-1.0627e+00, -1.0687e+00, -1.0623e+00, -1.0630e+00, -4.0045e-01,\n",
      "           2.7000e+01],\n",
      "         [-1.0609e+00, -1.0500e+00, -1.0472e+00, -1.0381e+00, -2.1008e-01,\n",
      "           2.8000e+01],\n",
      "         [-1.0374e+00, -1.0394e+00, -1.0261e+00, -1.0274e+00, -4.6946e-01,\n",
      "           2.9000e+01]],\n",
      "\n",
      "        [[-1.1207e+00, -1.1224e+00, -1.1449e+00, -1.1455e+00,  4.5776e-01,\n",
      "           2.0000e+00],\n",
      "         [-1.1415e+00, -1.1232e+00, -1.1284e+00, -1.1164e+00, -1.9305e-01,\n",
      "           3.0000e+00],\n",
      "         [-1.1101e+00, -1.0803e+00, -1.0968e+00, -1.0710e+00, -6.5271e-02,\n",
      "           4.0000e+00],\n",
      "         ...,\n",
      "         [-1.0374e+00, -1.0394e+00, -1.0261e+00, -1.0274e+00, -4.6946e-01,\n",
      "           2.9000e+01],\n",
      "         [-1.0278e+00, -1.0341e+00, -1.0222e+00, -1.0232e+00, -6.3419e-01,\n",
      "           3.0000e+01],\n",
      "         [-1.0244e+00, -1.0354e+00, -1.0192e+00, -1.0241e+00, -6.2597e-01,\n",
      "           3.1000e+01]],\n",
      "\n",
      "        [[-1.1101e+00, -1.0803e+00, -1.0968e+00, -1.0710e+00, -6.5271e-02,\n",
      "           4.0000e+00],\n",
      "         [-1.0691e+00, -1.0799e+00, -1.0870e+00, -1.0927e+00, -6.3182e-01,\n",
      "           5.0000e+00],\n",
      "         [-1.0907e+00, -1.0987e+00, -1.1069e+00, -1.1134e+00, -5.4003e-01,\n",
      "           6.0000e+00],\n",
      "         ...,\n",
      "         [-1.0244e+00, -1.0354e+00, -1.0192e+00, -1.0241e+00, -6.2597e-01,\n",
      "           3.1000e+01],\n",
      "         [-1.0243e+00, -1.0331e+00, -1.0209e+00, -1.0269e+00, -7.4817e-01,\n",
      "           3.2000e+01],\n",
      "         [-1.0263e+00, -1.0225e+00, -1.0277e+00, -1.0108e+00, -7.1387e-01,\n",
      "           3.3000e+01]],\n",
      "\n",
      "        ...,\n",
      "\n",
      "        [[ 1.5528e+00,  1.5735e+00,  1.5702e+00,  1.5726e+00,  5.7899e-01,\n",
      "           1.8460e+03],\n",
      "         [ 1.5796e+00,  1.7071e+00,  1.5725e+00,  1.7286e+00,  1.1301e+00,\n",
      "           1.8470e+03],\n",
      "         [ 1.6912e+00,  1.6609e+00,  1.5184e+00,  1.5368e+00,  1.0711e+00,\n",
      "           1.8480e+03],\n",
      "         ...,\n",
      "         [ 1.3210e+00,  1.2931e+00,  1.2590e+00,  1.2291e+00,  8.8478e-01,\n",
      "           1.8730e+03],\n",
      "         [ 1.1506e+00,  1.1238e+00,  1.0500e+00,  1.0399e+00,  1.6277e+00,\n",
      "           1.8740e+03],\n",
      "         [ 1.0572e+00,  1.0493e+00,  1.0140e+00,  1.0222e+00,  1.1475e+00,\n",
      "           1.8750e+03]],\n",
      "\n",
      "        [[ 1.6912e+00,  1.6609e+00,  1.5184e+00,  1.5368e+00,  1.0711e+00,\n",
      "           1.8480e+03],\n",
      "         [ 1.5133e+00,  1.5208e+00,  1.4704e+00,  1.5074e+00,  1.1108e+00,\n",
      "           1.8490e+03],\n",
      "         [ 1.4546e+00,  1.4258e+00,  1.3539e+00,  1.3422e+00,  1.9434e+00,\n",
      "           1.8500e+03],\n",
      "         ...,\n",
      "         [ 1.0572e+00,  1.0493e+00,  1.0140e+00,  1.0222e+00,  1.1475e+00,\n",
      "           1.8750e+03],\n",
      "         [ 1.0579e+00,  1.1231e+00,  1.0349e+00,  1.0904e+00,  1.5219e+00,\n",
      "           1.8760e+03],\n",
      "         [ 1.0130e+00,  9.8716e-01,  9.3091e-01,  9.3626e-01,  1.6357e+00,\n",
      "           1.8770e+03]],\n",
      "\n",
      "        [[ 1.4546e+00,  1.4258e+00,  1.3539e+00,  1.3422e+00,  1.9434e+00,\n",
      "           1.8500e+03],\n",
      "         [ 1.3970e+00,  1.4104e+00,  1.3321e+00,  1.3544e+00,  1.8751e+00,\n",
      "           1.8510e+03],\n",
      "         [ 1.3406e+00,  1.3859e+00,  1.2951e+00,  1.2720e+00,  1.8059e+00,\n",
      "           1.8520e+03],\n",
      "         ...,\n",
      "         [ 1.0130e+00,  9.8716e-01,  9.3091e-01,  9.3626e-01,  1.6357e+00,\n",
      "           1.8770e+03],\n",
      "         [ 9.3512e-01,  9.6172e-01,  9.2725e-01,  9.4635e-01,  4.4947e+00,\n",
      "           1.8780e+03],\n",
      "         [ 9.9692e-01,  1.0511e+00,  1.0261e+00,  1.0589e+00,  1.2851e+00,\n",
      "           1.8790e+03]]]) tensor([[[-1.0232],\n",
      "         [-1.0241],\n",
      "         [-1.0269],\n",
      "         [-1.0108],\n",
      "         [-1.0116]],\n",
      "\n",
      "        [[-1.0269],\n",
      "         [-1.0108],\n",
      "         [-1.0116],\n",
      "         [-1.0043],\n",
      "         [-1.0063]],\n",
      "\n",
      "        [[-1.0116],\n",
      "         [-1.0043],\n",
      "         [-1.0063],\n",
      "         [-1.0102],\n",
      "         [-1.0180]],\n",
      "\n",
      "        ...,\n",
      "\n",
      "        [[ 1.0904],\n",
      "         [ 0.9363],\n",
      "         [ 0.9464],\n",
      "         [ 1.0589],\n",
      "         [ 1.0527]],\n",
      "\n",
      "        [[ 0.9464],\n",
      "         [ 1.0589],\n",
      "         [ 1.0527],\n",
      "         [ 1.0976],\n",
      "         [ 1.2427]],\n",
      "\n",
      "        [[ 1.0527],\n",
      "         [ 1.0976],\n",
      "         [ 1.2427],\n",
      "         [ 1.2282],\n",
      "         [ 1.1299]]])\n"
     ]
    },
    {
     "name": "stderr",
     "output_type": "stream",
     "text": [
      "\r",
      "Processing ^SPX (val):   0%|                                                                           | 0/298 [00:00<?, ?it/s]"
     ]
    },
    {
     "name": "stderr",
     "output_type": "stream",
     "text": [
      "\r",
      "Processing ^SPX (val): 100%|██████████████████████████████████████████████████████████████| 298/298 [00:00<00:00, 57332.35it/s]"
     ]
    },
    {
     "name": "stdout",
     "output_type": "stream",
     "text": [
      "tensor([[[ 1.0853e+00,  1.1000e+00,  1.0555e+00,  1.0846e+00,  8.3550e-01,\n",
      "           1.8860e+03],\n",
      "         [ 1.0791e+00,  1.1134e+00,  1.0725e+00,  1.1346e+00,  4.7009e-02,\n",
      "           1.8870e+03],\n",
      "         [ 1.0936e+00,  1.1164e+00,  1.0598e+00,  1.1422e+00,  1.0706e+00,\n",
      "           1.8880e+03],\n",
      "         ...,\n",
      "         [ 1.5195e+00,  1.4955e+00,  1.5261e+00,  1.5063e+00, -8.6069e-02,\n",
      "           1.9130e+03],\n",
      "         [ 1.5794e+00,  1.5871e+00,  1.6082e+00,  1.6161e+00,  5.4316e-01,\n",
      "           1.9140e+03],\n",
      "         [ 1.6374e+00,  1.6453e+00,  1.6386e+00,  1.6124e+00,  6.2685e-01,\n",
      "           1.9150e+03]],\n",
      "\n",
      "        [[ 1.0936e+00,  1.1164e+00,  1.0598e+00,  1.1422e+00,  1.0706e+00,\n",
      "           1.8880e+03],\n",
      "         [ 1.1428e+00,  1.1645e+00,  1.1446e+00,  1.1593e+00,  4.1562e-01,\n",
      "           1.8890e+03],\n",
      "         [ 1.1764e+00,  1.2138e+00,  1.2070e+00,  1.2313e+00,  5.7766e-02,\n",
      "           1.8900e+03],\n",
      "         ...,\n",
      "         [ 1.6374e+00,  1.6453e+00,  1.6386e+00,  1.6124e+00,  6.2685e-01,\n",
      "           1.9150e+03],\n",
      "         [ 1.6344e+00,  1.6733e+00,  1.6618e+00,  1.7036e+00, -2.1042e-01,\n",
      "           1.9160e+03],\n",
      "         [ 1.6899e+00,  1.6998e+00,  1.7085e+00,  1.7248e+00, -3.0107e-01,\n",
      "           1.9170e+03]],\n",
      "\n",
      "        [[ 1.1764e+00,  1.2138e+00,  1.2070e+00,  1.2313e+00,  5.7766e-02,\n",
      "           1.8900e+03],\n",
      "         [ 1.2132e+00,  1.2236e+00,  1.2202e+00,  1.2272e+00, -4.7525e-01,\n",
      "           1.8910e+03],\n",
      "         [ 1.2041e+00,  1.1769e+00,  1.1923e+00,  1.1710e+00, -5.7282e-01,\n",
      "           1.8920e+03],\n",
      "         ...,\n",
      "         [ 1.6899e+00,  1.6998e+00,  1.7085e+00,  1.7248e+00, -3.0107e-01,\n",
      "           1.9170e+03],\n",
      "         [ 1.7163e+00,  1.7290e+00,  1.7348e+00,  1.7349e+00,  3.2823e-01,\n",
      "           1.9180e+03],\n",
      "         [ 1.7037e+00,  1.7003e+00,  1.7037e+00,  1.6959e+00, -1.1397e-01,\n",
      "           1.9190e+03]],\n",
      "\n",
      "        ...,\n",
      "\n",
      "        [[ 3.5106e+00,  3.4884e+00,  3.5226e+00,  3.4956e+00, -3.9528e-01,\n",
      "           2.4760e+03],\n",
      "         [ 3.5072e+00,  3.5406e+00,  3.5548e+00,  3.5832e+00, -2.3000e-01,\n",
      "           2.4770e+03],\n",
      "         [ 3.6854e+00,  3.7304e+00,  3.7348e+00,  3.7662e+00,  2.3163e+00,\n",
      "           2.4780e+03],\n",
      "         ...,\n",
      "         [ 3.9473e+00,  3.9087e+00,  3.9696e+00,  3.9191e+00, -3.1978e-01,\n",
      "           2.5030e+03],\n",
      "         [ 3.9397e+00,  3.9073e+00,  3.9501e+00,  3.9189e+00, -4.1228e-01,\n",
      "           2.5040e+03],\n",
      "         [ 3.9342e+00,  3.9155e+00,  3.9795e+00,  3.9477e+00,  3.8915e-01,\n",
      "           2.5050e+03]],\n",
      "\n",
      "        [[ 3.6854e+00,  3.7304e+00,  3.7348e+00,  3.7662e+00,  2.3163e+00,\n",
      "           2.4780e+03],\n",
      "         [ 3.7884e+00,  3.7896e+00,  3.8385e+00,  3.8213e+00,  9.2067e-01,\n",
      "           2.4790e+03],\n",
      "         [ 3.8253e+00,  3.8252e+00,  3.8757e+00,  3.8494e+00,  6.6318e-01,\n",
      "           2.4800e+03],\n",
      "         ...,\n",
      "         [ 3.9342e+00,  3.9155e+00,  3.9795e+00,  3.9477e+00,  3.8915e-01,\n",
      "           2.5050e+03],\n",
      "         [ 3.9201e+00,  3.8814e+00,  3.9493e+00,  3.9183e+00,  5.4166e-01,\n",
      "           2.5060e+03],\n",
      "         [ 3.9140e+00,  3.8975e+00,  3.7384e+00,  3.6951e+00,  1.2400e+00,\n",
      "           2.5070e+03]],\n",
      "\n",
      "        [[ 3.8253e+00,  3.8252e+00,  3.8757e+00,  3.8494e+00,  6.6318e-01,\n",
      "           2.4800e+03],\n",
      "         [ 3.8655e+00,  3.8312e+00,  3.8882e+00,  3.8567e+00,  3.3139e-01,\n",
      "           2.4810e+03],\n",
      "         [ 3.8589e+00,  3.8220e+00,  3.8547e+00,  3.8350e+00,  2.4231e-01,\n",
      "           2.4820e+03],\n",
      "         ...,\n",
      "         [ 3.9140e+00,  3.8975e+00,  3.7384e+00,  3.6951e+00,  1.2400e+00,\n",
      "           2.5070e+03],\n",
      "         [ 3.7452e+00,  3.7296e+00,  3.7362e+00,  3.6887e+00,  8.9198e-01,\n",
      "           2.5080e+03],\n",
      "         [ 3.6568e+00,  3.7874e+00,  3.6937e+00,  3.7685e+00,  4.1989e+00,\n",
      "           2.5090e+03]]]) tensor([[[1.7036],\n",
      "         [1.7248],\n",
      "         [1.7349],\n",
      "         [1.6959],\n",
      "         [1.7081]],\n",
      "\n",
      "        [[1.7349],\n",
      "         [1.6959],\n",
      "         [1.7081],\n",
      "         [1.6389],\n",
      "         [1.5257]],\n",
      "\n",
      "        [[1.7081],\n",
      "         [1.6389],\n",
      "         [1.5257],\n",
      "         [1.5141],\n",
      "         [1.5292]],\n",
      "\n",
      "        ...,\n",
      "\n",
      "        [[3.9183],\n",
      "         [3.6951],\n",
      "         [3.6887],\n",
      "         [3.7685],\n",
      "         [3.8226]],\n",
      "\n",
      "        [[3.6887],\n",
      "         [3.7685],\n",
      "         [3.8226],\n",
      "         [3.9051],\n",
      "         [3.9020]],\n",
      "\n",
      "        [[3.8226],\n",
      "         [3.9051],\n",
      "         [3.9020],\n",
      "         [3.8185],\n",
      "         [3.7386]]])\n"
     ]
    },
    {
     "name": "stderr",
     "output_type": "stream",
     "text": [
      "\n"
     ]
    }
   ],
   "source": [
    "# CREATE DATASETS\n",
    "train_dataset = FinancialTimeSeriesDataset(\n",
    "    tickers=['^SPX'],\n",
    "    start_date='2015-01-01',\n",
    "    end_date='2024-12-31',\n",
    "    window_size=30,\n",
    "    forecast_horizon=config['data']['forecast_horizon'],\n",
    "    target='Close',\n",
    "    normalize='zscore',\n",
    "    split='train',\n",
    "    val_ratio=0.25,\n",
    "    fit_scaler=True\n",
    ")\n",
    "scaler = train_dataset.scaler\n",
    "\n",
    "val_dataset = FinancialTimeSeriesDataset(\n",
    "    tickers=['^SPX'],\n",
    "    start_date='2015-01-01',\n",
    "    end_date='2024-12-31',\n",
    "    window_size=30,\n",
    "    forecast_horizon=config['data']['forecast_horizon'],\n",
    "    target='Close',\n",
    "    normalize='zscore',\n",
    "    split='val',\n",
    "    val_ratio=0.25,\n",
    "    scaler=scaler\n",
    ")\n",
    "\n",
    "\n"
   ]
  },
  {
   "cell_type": "code",
   "execution_count": 5,
   "id": "e1304345",
   "metadata": {
    "execution": {
     "iopub.execute_input": "2025-04-20T21:26:08.848041Z",
     "iopub.status.busy": "2025-04-20T21:26:08.847443Z",
     "iopub.status.idle": "2025-04-20T21:26:08.857007Z",
     "shell.execute_reply": "2025-04-20T21:26:08.856620Z"
    },
    "papermill": {
     "duration": 0.03559,
     "end_time": "2025-04-20T21:26:08.857653",
     "exception": false,
     "start_time": "2025-04-20T21:26:08.822063",
     "status": "completed"
    },
    "tags": []
   },
   "outputs": [],
   "source": [
    "# DATALOADERS\n",
    "train_loader    = DataLoader(\n",
    "    dataset     = train_dataset,\n",
    "    batch_size  = config['data']['batch_size'],\n",
    "    shuffle     = False,\n",
    "    num_workers = config['data']['NUM_WORKERS'] if device == 'cuda' else 0,\n",
    "    pin_memory  = True,\n",
    ")\n",
    "\n",
    "val_loader      = DataLoader(\n",
    "    dataset     = val_dataset,\n",
    "    batch_size  = config['data']['batch_size'],\n",
    "    shuffle     = False,\n",
    "    num_workers = config['data']['NUM_WORKERS'] if device == 'cuda' else 0,\n",
    "    pin_memory  = True,\n",
    ")"
   ]
  },
  {
   "cell_type": "markdown",
   "id": "0fc9634a",
   "metadata": {
    "papermill": {
     "duration": 0.0228,
     "end_time": "2025-04-20T21:26:08.903497",
     "exception": false,
     "start_time": "2025-04-20T21:26:08.880697",
     "status": "completed"
    },
    "tags": []
   },
   "source": [
    "# STEP 2: Set Up Model"
   ]
  },
  {
   "cell_type": "code",
   "execution_count": 6,
   "id": "bb681672",
   "metadata": {
    "execution": {
     "iopub.execute_input": "2025-04-20T21:26:08.949637Z",
     "iopub.status.busy": "2025-04-20T21:26:08.949310Z",
     "iopub.status.idle": "2025-04-20T21:26:24.971867Z",
     "shell.execute_reply": "2025-04-20T21:26:24.971118Z"
    },
    "papermill": {
     "duration": 16.046479,
     "end_time": "2025-04-20T21:26:24.972619",
     "exception": false,
     "start_time": "2025-04-20T21:26:08.926140",
     "status": "completed"
    },
    "tags": []
   },
   "outputs": [
    {
     "name": "stdout",
     "output_type": "stream",
     "text": [
      "6 1\n"
     ]
    },
    {
     "name": "stdout",
     "output_type": "stream",
     "text": [
      "First input sample (shape: torch.Size([30, 6])):\n",
      "tensor([[-1.0748e+00, -1.0701e+00, -1.0773e+00, -1.0760e+00, -1.2834e+00,\n",
      "          0.0000e+00],\n",
      "        [-1.0803e+00, -1.0923e+00, -1.1135e+00, -1.1230e+00, -1.9937e-01,\n",
      "          1.0000e+00],\n",
      "        [-1.1207e+00, -1.1224e+00, -1.1449e+00, -1.1455e+00,  4.5776e-01,\n",
      "          2.0000e+00],\n",
      "        [-1.1415e+00, -1.1232e+00, -1.1284e+00, -1.1164e+00, -1.9305e-01,\n",
      "          3.0000e+00],\n",
      "        [-1.1101e+00, -1.0803e+00, -1.0968e+00, -1.0710e+00, -6.5271e-02,\n",
      "          4.0000e+00],\n",
      "        [-1.0691e+00, -1.0799e+00, -1.0870e+00, -1.0927e+00, -6.3182e-01,\n",
      "          5.0000e+00],\n",
      "        [-1.0907e+00, -1.0987e+00, -1.1069e+00, -1.1134e+00, -5.4003e-01,\n",
      "          6.0000e+00],\n",
      "        [-1.1089e+00, -1.0892e+00, -1.1249e+00, -1.1200e+00,  1.0701e-01,\n",
      "          7.0000e+00],\n",
      "        [-1.1254e+00, -1.1371e+00, -1.1499e+00, -1.1347e+00,  3.7680e-01,\n",
      "          8.0000e+00],\n",
      "        [-1.1312e+00, -1.1334e+00, -1.1461e+00, -1.1579e+00,  2.7544e-01,\n",
      "          9.0000e+00],\n",
      "        [-1.1581e+00, -1.1345e+00, -1.1503e+00, -1.1245e+00,  5.6414e-02,\n",
      "          1.0000e+01],\n",
      "        [-1.1225e+00, -1.1240e+00, -1.1297e+00, -1.1206e+00, -5.5002e-02,\n",
      "          1.1000e+01],\n",
      "        [-1.1232e+00, -1.1124e+00, -1.1202e+00, -1.1086e+00, -2.6802e-01,\n",
      "          1.2000e+01],\n",
      "        [-1.1055e+00, -1.0797e+00, -1.1021e+00, -1.0698e+00,  1.7536e-01,\n",
      "          1.3000e+01],\n",
      "        [-1.0697e+00, -1.0817e+00, -1.0717e+00, -1.0839e+00, -4.2362e-01,\n",
      "          1.4000e+01],\n",
      "        [-1.0854e+00, -1.0884e+00, -1.0837e+00, -1.0774e+00, -5.3079e-01,\n",
      "          1.5000e+01],\n",
      "        [-1.0886e+00, -1.1005e+00, -1.1103e+00, -1.1118e+00, -6.6594e-01,\n",
      "          1.6000e+01],\n",
      "        [-1.1080e+00, -1.1072e+00, -1.1335e+00, -1.1461e+00,  6.7469e-02,\n",
      "          1.7000e+01],\n",
      "        [-1.1454e+00, -1.1293e+00, -1.1490e+00, -1.1222e+00,  1.2673e-01,\n",
      "          1.8000e+01],\n",
      "        [-1.1242e+00, -1.1310e+00, -1.1437e+00, -1.1550e+00,  5.6566e-01,\n",
      "          1.9000e+01],\n",
      "        [-1.1526e+00, -1.1330e+00, -1.1594e+00, -1.1227e+00,  8.6148e-03,\n",
      "          2.0000e+01],\n",
      "        [-1.1200e+00, -1.0975e+00, -1.1067e+00, -1.0862e+00,  6.1264e-01,\n",
      "          2.1000e+01],\n",
      "        [-1.0873e+00, -1.0919e+00, -1.0891e+00, -1.0968e+00,  1.4142e-01,\n",
      "          2.2000e+01],\n",
      "        [-1.0941e+00, -1.0810e+00, -1.0806e+00, -1.0706e+00, -1.7664e-01,\n",
      "          2.3000e+01],\n",
      "        [-1.0705e+00, -1.0700e+00, -1.0724e+00, -1.0794e+00,  2.3194e-01,\n",
      "          2.4000e+01],\n",
      "        [-1.0815e+00, -1.0902e+00, -1.0826e+00, -1.0903e+00, -4.4750e-01,\n",
      "          2.5000e+01],\n",
      "        [-1.0867e+00, -1.0719e+00, -1.0741e+00, -1.0630e+00, -3.2789e-01,\n",
      "          2.6000e+01],\n",
      "        [-1.0627e+00, -1.0687e+00, -1.0623e+00, -1.0630e+00, -4.0045e-01,\n",
      "          2.7000e+01],\n",
      "        [-1.0609e+00, -1.0500e+00, -1.0472e+00, -1.0381e+00, -2.1008e-01,\n",
      "          2.8000e+01],\n",
      "        [-1.0374e+00, -1.0394e+00, -1.0261e+00, -1.0274e+00, -4.6946e-01,\n",
      "          2.9000e+01]])\n",
      "Corresponding target (shape: torch.Size([5, 1])):\n",
      "tensor([[-1.0232],\n",
      "        [-1.0241],\n",
      "        [-1.0269],\n",
      "        [-1.0108],\n",
      "        [-1.0116]])\n",
      "Inputs: torch.Size([256, 30, 6])\n",
      "Targets: torch.Size([256, 5, 1])\n",
      "torch.Size([256, 30, 6])\n"
     ]
    },
    {
     "name": "stdout",
     "output_type": "stream",
     "text": [
      "torch.Size([256, 30, 260])\n"
     ]
    },
    {
     "name": "stdout",
     "output_type": "stream",
     "text": [
      "torch.Size([256, 5, 1])\n",
      "torch.Size([256, 30, 6])\n"
     ]
    },
    {
     "name": "stdout",
     "output_type": "stream",
     "text": [
      "torch.Size([256, 30, 260])\n"
     ]
    },
    {
     "name": "stdout",
     "output_type": "stream",
     "text": [
      "===============================================================================================\n",
      "Layer (type:depth-idx)                        Output Shape              Param #\n",
      "===============================================================================================\n",
      "TimeSeriesTransformer                         [256, 5, 1]               --\n",
      "├─Linear: 1-1                                 [256, 30, 256]            1,536\n",
      "├─GELU: 1-2                                   [256, 30, 256]            --\n",
      "├─Time2VecTorch: 1-3                          [256, 30, 4]              8\n",
      "├─TimeSeriesPositionalEncoding: 1-4           [256, 30, 260]            --\n",
      "├─Dropout: 1-5                                [256, 30, 260]            --\n",
      "├─Linear: 1-6                                 [256, 5, 256]             512\n",
      "├─Time2VecTorch: 1-7                          [256, 5, 4]               (recursive)\n",
      "├─TimeSeriesPositionalEncoding: 1-8           [256, 5, 260]             --\n",
      "├─Dropout: 1-9                                [256, 5, 260]             --\n",
      "├─TransformerDecoder: 1-10                    [256, 5, 260]             --\n",
      "│    └─ModuleList: 2-1                        --                        --\n",
      "│    │    └─TransformerDecoderLayer: 3-1      [256, 5, 260]             1,078,204\n",
      "│    │    └─TransformerDecoderLayer: 3-2      [256, 5, 260]             1,078,204\n",
      "├─LayerNorm: 1-11                             [256, 5, 260]             520\n",
      "├─Linear: 1-12                                [256, 5, 1]               261\n",
      "===============================================================================================\n",
      "Total params: 2,159,245\n",
      "Trainable params: 2,159,245\n",
      "Non-trainable params: 0\n",
      "Total mult-adds (Units.MEGABYTES): 274.81\n",
      "===============================================================================================\n",
      "Input size (MB): 0.18\n",
      "Forward/backward pass size (MB): 63.58\n",
      "Params size (MB): 4.29\n",
      "Estimated Total Size (MB): 68.06\n",
      "===============================================================================================\n"
     ]
    }
   ],
   "source": [
    "model_config = config['model']\n",
    "# update this to add model input and output features\n",
    "print(train_dataset.input_features, val_dataset.output_features)\n",
    "model_config.update({\n",
    "    'input_features': train_dataset.input_features,\n",
    "    'output_features': val_dataset.output_features,              #hardcoded, TODO NEED TO FIX\n",
    "    'forecast_horizon':  config['data']['forecast_horizon']\n",
    "})\n",
    "model = TimeSeriesTransformer(**model_config)\n",
    "\n",
    "# CONFIRM EVERYTHING IS BEING LOADED CORRECTLY\n",
    "for batch in train_loader:\n",
    "    inputs, targets = batch\n",
    "\n",
    "    print(\"First input sample (shape: {}):\".format(inputs[0].shape))\n",
    "    print(inputs[0])  # shape: [T, F]\n",
    "\n",
    "    print(\"Corresponding target (shape: {}):\".format(targets[0].shape))\n",
    "    print(targets[0])  # shape: [forecast_steps]\n",
    "\n",
    "    print(\"Inputs:\", inputs.shape)\n",
    "    print(\"Targets:\", targets.shape)\n",
    "    break\n",
    "\n",
    "outputs = model(inputs)  # or model(inputs, something_else) if needed\n",
    "print(outputs.shape)\n",
    "\n",
    "model_stats = summary(model, input_data=inputs.to(\"cpu\"), device=\"cpu\")\n",
    "print(model_stats)"
   ]
  },
  {
   "cell_type": "markdown",
   "id": "b2a015a4",
   "metadata": {
    "papermill": {
     "duration": 0.02604,
     "end_time": "2025-04-20T21:26:25.026142",
     "exception": false,
     "start_time": "2025-04-20T21:26:25.000102",
     "status": "completed"
    },
    "tags": []
   },
   "source": [
    "# STEP 3: Setup WandB and Trainer"
   ]
  },
  {
   "cell_type": "code",
   "execution_count": 7,
   "id": "e3071577",
   "metadata": {
    "execution": {
     "iopub.execute_input": "2025-04-20T21:26:25.073152Z",
     "iopub.status.busy": "2025-04-20T21:26:25.072793Z",
     "iopub.status.idle": "2025-04-20T21:26:25.783504Z",
     "shell.execute_reply": "2025-04-20T21:26:25.782942Z"
    },
    "papermill": {
     "duration": 0.735264,
     "end_time": "2025-04-20T21:26:25.784247",
     "exception": false,
     "start_time": "2025-04-20T21:26:25.048983",
     "status": "completed"
    },
    "tags": []
   },
   "outputs": [
    {
     "name": "stderr",
     "output_type": "stream",
     "text": [
      "\u001b[34m\u001b[1mwandb\u001b[0m: Using wandb-core as the SDK backend.  Please refer to https://wandb.me/wandb-core for more information.\n"
     ]
    },
    {
     "name": "stderr",
     "output_type": "stream",
     "text": [
      "\u001b[34m\u001b[1mwandb\u001b[0m: \u001b[33mWARNING\u001b[0m If you're specifying your api key in code, ensure this code is not shared publicly.\n",
      "\u001b[34m\u001b[1mwandb\u001b[0m: \u001b[33mWARNING\u001b[0m Consider setting the WANDB_API_KEY environment variable, or running `wandb login` from the command line.\n"
     ]
    },
    {
     "name": "stderr",
     "output_type": "stream",
     "text": [
      "\u001b[34m\u001b[1mwandb\u001b[0m: Appending key for api.wandb.ai to your netrc file: /jet/home/gandotra/.netrc\n"
     ]
    },
    {
     "name": "stderr",
     "output_type": "stream",
     "text": [
      "\u001b[34m\u001b[1mwandb\u001b[0m: Currently logged in as: \u001b[33mnayeshag\u001b[0m (\u001b[33mnayeshag-carnegie-mellon-university\u001b[0m) to \u001b[32mhttps://api.wandb.ai\u001b[0m. Use \u001b[1m`wandb login --relogin`\u001b[0m to force relogin\n"
     ]
    },
    {
     "data": {
      "text/plain": [
       "True"
      ]
     },
     "execution_count": 7,
     "metadata": {},
     "output_type": "execute_result"
    }
   ],
   "source": [
    "wandb.login(key=\"b78dba2c54228a3e3e32bd91a1a1efca38d69bb9\")"
   ]
  },
  {
   "cell_type": "code",
   "execution_count": 8,
   "id": "03bffaa5",
   "metadata": {
    "execution": {
     "iopub.execute_input": "2025-04-20T21:26:25.832910Z",
     "iopub.status.busy": "2025-04-20T21:26:25.832640Z",
     "iopub.status.idle": "2025-04-20T21:26:25.835053Z",
     "shell.execute_reply": "2025-04-20T21:26:25.834654Z"
    },
    "papermill": {
     "duration": 0.026766,
     "end_time": "2025-04-20T21:26:25.835618",
     "exception": false,
     "start_time": "2025-04-20T21:26:25.808852",
     "status": "completed"
    },
    "tags": []
   },
   "outputs": [],
   "source": [
    "# wandb.finish()"
   ]
  },
  {
   "cell_type": "code",
   "execution_count": 9,
   "id": "acf10e10",
   "metadata": {
    "execution": {
     "iopub.execute_input": "2025-04-20T21:26:25.882138Z",
     "iopub.status.busy": "2025-04-20T21:26:25.881800Z",
     "iopub.status.idle": "2025-04-20T21:26:25.916633Z",
     "shell.execute_reply": "2025-04-20T21:26:25.916201Z"
    },
    "papermill": {
     "duration": 0.058697,
     "end_time": "2025-04-20T21:26:25.917288",
     "exception": false,
     "start_time": "2025-04-20T21:26:25.858591",
     "status": "completed"
    },
    "tags": []
   },
   "outputs": [
    {
     "name": "stdout",
     "output_type": "stream",
     "text": [
      "True\n",
      "done with init!\n"
     ]
    }
   ],
   "source": [
    "trainer = TimeSeriesForecastingTrainer(\n",
    "    model=model,\n",
    "    config=config,\n",
    "    run_name=\"test-1-fin2\",\n",
    "    config_file=\"config.yaml\",\n",
    "    device=device\n",
    ")\n",
    "print(\"done with init!\")"
   ]
  },
  {
   "cell_type": "markdown",
   "id": "679a1d4b",
   "metadata": {
    "tags": [
     "papermill-error-cell-tag"
    ]
   },
   "source": [
    "<span id=\"papermill-error-cell\" style=\"color:red; font-family:Helvetica Neue, Helvetica, Arial, sans-serif; font-size:2em;\">Execution using papermill encountered an exception here and stopped:</span>"
   ]
  },
  {
   "cell_type": "code",
   "execution_count": 10,
   "id": "eafd8794",
   "metadata": {
    "execution": {
     "iopub.execute_input": "2025-04-20T21:26:25.964787Z",
     "iopub.status.busy": "2025-04-20T21:26:25.964421Z",
     "iopub.status.idle": "2025-04-20T21:26:29.583855Z",
     "shell.execute_reply": "2025-04-20T21:26:29.583073Z"
    },
    "papermill": {
     "duration": 3.643878,
     "end_time": "2025-04-20T21:26:29.584853",
     "exception": true,
     "start_time": "2025-04-20T21:26:25.940975",
     "status": "failed"
    },
    "tags": []
   },
   "outputs": [
    {
     "name": "stdout",
     "output_type": "stream",
     "text": [
      "here!\n",
      "\n",
      "🔧 Configuring Optimizer:\n",
      "├── Type: ADAMW\n",
      "├── Base LR: 0.0005\n",
      "├── Weight Decay: 0.0001\n",
      "├── Parameter Groups:\n",
      "│   ├── Group: self_attn\n",
      "│   │   ├── LR: 0.0001\n",
      "│   │   └── Patterns: []\n",
      "│   ├── Group: ffn\n",
      "│   │   ├── LR: 0.0001\n",
      "│   │   └── Patterns: []\n",
      "│   └── Default Group (unmatched parameters)\n",
      "└── AdamW Specific:\n",
      "    ├── Betas: [0.9, 0.999]\n",
      "    ├── Epsilon: 1e-08\n",
      "    └── AMSGrad: False\n"
     ]
    },
    {
     "name": "stdout",
     "output_type": "stream",
     "text": [
      "\n",
      "📈 Configuring Learning Rate Scheduler:\n",
      "├── Type: COSINE\n",
      "├── Cosine Annealing Settings:\n",
      "│   ├── T_max: 15 epochs (60 steps)\n",
      "│   └── Min LR: 1e-08\n",
      "├── Warmup Settings:\n",
      "│   ├── Duration: 5 epochs (20 steps)\n",
      "│   ├── Start Factor: 0.1\n",
      "│   └── End Factor: 1.0\n",
      "Warning: Only showing 5 out of 48 parameter groups for clarity\n"
     ]
    },
    {
     "name": "stderr",
     "output_type": "stream",
     "text": [
      "/jet/home/psamal/hw_envs/idl_hw4/lib/python3.12/site-packages/torch/optim/lr_scheduler.py:240: UserWarning: The epoch parameter in `scheduler.step()` was not necessary and is being deprecated where possible. Please use `scheduler.step()` to step the scheduler. During the deprecation, if epoch is different from None, the closed form is used instead of the new chainable form, where available. Please open an issue if you are unable to replicate your use case: https://github.com/pytorch/pytorch/issues/new/choose.\n",
      "  warnings.warn(EPOCH_DEPRECATION_WARNING, UserWarning)\n"
     ]
    },
    {
     "data": {
      "image/png": "[encoded data removed]",
      "text/plain": [
       "<Figure size 1200x400 with 2 Axes>"
      ]
     },
     "metadata": {},
     "output_type": "display_data"
    },
    {
     "ename": "ValidationError",
     "evalue": "1 validation error for Settings\nx_disable_hardware_metrics\n  Extra inputs are not permitted [type=extra_forbidden, input_value=True, input_type=bool]\n    For further information visit https://errors.pydantic.dev/2.11/v/extra_forbidden",
     "output_type": "error",
     "traceback": [
      "\u001b[31m---------------------------------------------------------------------------\u001b[39m",
      "\u001b[31mValidationError\u001b[39m                           Traceback (most recent call last)",
      "\u001b[36mCell\u001b[39m\u001b[36m \u001b[39m\u001b[32mIn[10]\u001b[39m\u001b[32m, line 26\u001b[39m\n\u001b[32m     20\u001b[39m \u001b[38;5;66;03m# Initialize WandB\u001b[39;00m\n\u001b[32m     21\u001b[39m \u001b[38;5;28;01mif\u001b[39;00m trainer.use_wandb:\n\u001b[32m     22\u001b[39m     wandb.init(\n\u001b[32m     23\u001b[39m         project=trainer.config[\u001b[33m'\u001b[39m\u001b[33mtraining\u001b[39m\u001b[33m'\u001b[39m].get(\u001b[33m'\u001b[39m\u001b[33mwandb_project\u001b[39m\u001b[33m'\u001b[39m, \u001b[33m'\u001b[39m\u001b[33mtime-series-forecasting\u001b[39m\u001b[33m'\u001b[39m),\n\u001b[32m     24\u001b[39m         config=trainer.config,\n\u001b[32m     25\u001b[39m         name=trainer.run_name,\n\u001b[32m---> \u001b[39m\u001b[32m26\u001b[39m         settings=\u001b[43mwandb\u001b[49m\u001b[43m.\u001b[49m\u001b[43mSettings\u001b[49m\u001b[43m(\u001b[49m\n\u001b[32m     27\u001b[39m \u001b[43m        \u001b[49m\u001b[43mstart_method\u001b[49m\u001b[43m=\u001b[49m\u001b[33;43m\"\u001b[39;49m\u001b[33;43mthread\u001b[39;49m\u001b[33;43m\"\u001b[39;49m\u001b[43m,\u001b[49m\u001b[43m             \u001b[49m\u001b[38;5;66;43;03m# don't spawn multiprocessing process\u001b[39;49;00m\n\u001b[32m     28\u001b[39m \u001b[43m        \u001b[49m\u001b[43m_disable_stats\u001b[49m\u001b[43m=\u001b[49m\u001b[38;5;28;43;01mTrue\u001b[39;49;00m\u001b[43m,\u001b[49m\u001b[43m               \u001b[49m\u001b[38;5;66;43;03m# avoid launching resource monitor thread\u001b[39;49;00m\n\u001b[32m     29\u001b[39m \u001b[43m        \u001b[49m\u001b[43m_disable_hardware_metrics\u001b[49m\u001b[43m=\u001b[49m\u001b[38;5;28;43;01mTrue\u001b[39;49;00m\u001b[43m     \u001b[49m\u001b[38;5;66;43;03m# same — these often cause hangs in Jupyter\u001b[39;49;00m\n\u001b[32m     30\u001b[39m \u001b[43m        \u001b[49m\u001b[43m)\u001b[49m\n\u001b[32m     31\u001b[39m     )\n",
      "\u001b[36mFile \u001b[39m\u001b[32m/jet/home/psamal/hw_envs/idl_hw4/lib/python3.12/site-packages/pydantic/main.py:243\u001b[39m, in \u001b[36mBaseModel.__init__\u001b[39m\u001b[34m(self, **data)\u001b[39m\n\u001b[32m    241\u001b[39m \u001b[38;5;66;03m# `__tracebackhide__` tells pytest and some other tools to omit this function from tracebacks\u001b[39;00m\n\u001b[32m    242\u001b[39m __tracebackhide__ = \u001b[38;5;28;01mTrue\u001b[39;00m\n\u001b[32m--> \u001b[39m\u001b[32m243\u001b[39m validated_self = \u001b[38;5;28;43mself\u001b[39;49m\u001b[43m.\u001b[49m\u001b[43m__pydantic_validator__\u001b[49m\u001b[43m.\u001b[49m\u001b[43mvalidate_python\u001b[49m\u001b[43m(\u001b[49m\u001b[43mdata\u001b[49m\u001b[43m,\u001b[49m\u001b[43m \u001b[49m\u001b[43mself_instance\u001b[49m\u001b[43m=\u001b[49m\u001b[38;5;28;43mself\u001b[39;49m\u001b[43m)\u001b[49m\n\u001b[32m    244\u001b[39m \u001b[38;5;28;01mif\u001b[39;00m \u001b[38;5;28mself\u001b[39m \u001b[38;5;129;01mis\u001b[39;00m \u001b[38;5;129;01mnot\u001b[39;00m validated_self:\n\u001b[32m    245\u001b[39m     warnings.warn(\n\u001b[32m    246\u001b[39m         \u001b[33m'\u001b[39m\u001b[33mA custom validator is returning a value other than `self`.\u001b[39m\u001b[38;5;130;01m\\n\u001b[39;00m\u001b[33m'\u001b[39m\n\u001b[32m    247\u001b[39m         \u001b[33m\"\u001b[39m\u001b[33mReturning anything other than `self` from a top level model validator isn\u001b[39m\u001b[33m'\u001b[39m\u001b[33mt supported when validating via `__init__`.\u001b[39m\u001b[38;5;130;01m\\n\u001b[39;00m\u001b[33m\"\u001b[39m\n\u001b[32m    248\u001b[39m         \u001b[33m'\u001b[39m\u001b[33mSee the `model_validator` docs (https://docs.pydantic.dev/latest/concepts/validators/#model-validators) for more details.\u001b[39m\u001b[33m'\u001b[39m,\n\u001b[32m    249\u001b[39m         stacklevel=\u001b[32m2\u001b[39m,\n\u001b[32m    250\u001b[39m     )\n",
      "\u001b[31mValidationError\u001b[39m: 1 validation error for Settings\nx_disable_hardware_metrics\n  Extra inputs are not permitted [type=extra_forbidden, input_value=True, input_type=bool]\n    For further information visit https://errors.pydantic.dev/2.11/v/extra_forbidden"
     ]
    }
   ],
   "source": [
    "trainer.optimizer = create_optimizer(\n",
    "    model=model,\n",
    "    opt_config=config['optimizer']\n",
    ")\n",
    "\n",
    "trainer.scheduler = create_scheduler(\n",
    "    optimizer=trainer.optimizer,\n",
    "    scheduler_config=config['scheduler'],\n",
    "    train_loader=train_loader,\n",
    "    gradient_accumulation_steps=config['training']['gradient_accumulation_steps']\n",
    ")\n",
    "\n",
    "plot_lr_schedule(\n",
    "    scheduler=trainer.scheduler,\n",
    "    num_epochs=config['training']['epochs'], \n",
    "    train_loader=train_loader,\n",
    "    gradient_accumulation_steps=config['training']['gradient_accumulation_steps']\n",
    ")\n",
    "\n",
    "# Initialize WandB\n",
    "if trainer.use_wandb:\n",
    "    wandb.init(\n",
    "        project=trainer.config['training'].get('wandb_project', 'time-series-forecasting'),\n",
    "        config=trainer.config,\n",
    "        name=trainer.run_name,\n",
    "        settings=wandb.Settings(\n",
    "        start_method=\"thread\",             # don't spawn multiprocessing process\n",
    "        _disable_stats=True,               # avoid launching resource monitor thread\n",
    "        _disable_hardware_metrics=True     # same — these often cause hangs in Jupyter\n",
    "        )\n",
    "    )\n"
   ]
  },
  {
   "cell_type": "markdown",
   "id": "87105403",
   "metadata": {
    "papermill": {
     "duration": null,
     "end_time": null,
     "exception": null,
     "start_time": null,
     "status": "pending"
    },
    "tags": []
   },
   "source": [
    "# Step 4: TRAIN!!   "
   ]
  },
  {
   "cell_type": "code",
   "execution_count": null,
   "id": "6f28bb71",
   "metadata": {
    "papermill": {
     "duration": null,
     "end_time": null,
     "exception": null,
     "start_time": null,
     "status": "pending"
    },
    "tags": []
   },
   "outputs": [],
   "source": [
    "print(\"here!\")\n",
    "trainer.train(train_loader, val_loader, epochs=100)"
   ]
  }
 ],
 "metadata": {
  "kernelspec": {
   "display_name": "Python 3 (ipykernel)",
   "language": "python",
   "name": "python3"
  },
  "language_info": {
   "codemirror_mode": {
    "name": "ipython",
    "version": 3
   },
   "file_extension": ".py",
   "mimetype": "text/x-python",
   "name": "python",
   "nbconvert_exporter": "python",
   "pygments_lexer": "ipython3",
   "version": "3.12.4"
  },
  "papermill": {
   "default_parameters": {},
   "duration": 1010.579239,
   "end_time": "2025-04-20T21:26:32.433813",
   "environment_variables": {},
   "exception": true,
   "input_path": "finpredictor.ipynb",
   "output_path": "finpredictor1.ipynb",
   "parameters": {},
   "start_time": "2025-04-20T21:09:41.854574",
   "version": "2.6.0"
  }
 },
 "nbformat": 4,
 "nbformat_minor": 5
}