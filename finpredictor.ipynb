{
 "cells": [
  {
   "cell_type": "markdown",
   "metadata": {},
   "source": [
    "# STEP 1: Imports and Get Data"
   ]
  },
  {
   "cell_type": "code",
   "execution_count": 1,
   "metadata": {},
   "outputs": [
    {
     "name": "stdout",
     "output_type": "stream",
     "text": [
      "Using device: cuda\n"
     ]
    }
   ],
   "source": [
    "from model_components.data_reader import FinancialTimeSeriesDataset\n",
    "from model_components.transformers import TimeSeriesTransformer\n",
    "from model_components.fin_trainer import TimeSeriesForecastingTrainer\n",
    "from model_components.utils import (\n",
    "    create_optimizer,\n",
    "    create_scheduler,\n",
    "    plot_lr_schedule\n",
    ")\n",
    "from model_components.synth_data import SyntheticTimeSeriesDataset\n",
    "  \n",
    "from torch.utils.data import DataLoader\n",
    "import matplotlib.pyplot as plt\n",
    "import yaml\n",
    "import gc\n",
    "import torch\n",
    "from torchinfo import summary\n",
    "import os\n",
    "import json\n",
    "import tarfile\n",
    "import shutil\n",
    "import wandb\n",
    "import yaml\n",
    "from sklearn.preprocessing import MinMaxScaler, StandardScaler\n",
    "device = \"cuda\" if torch.cuda.is_available() else \"cpu\"\n",
    "print(f\"Using device: {device}\")"
   ]
  },
  {
   "cell_type": "code",
   "execution_count": 2,
   "metadata": {},
   "outputs": [
    {
     "name": "stdout",
     "output_type": "stream",
     "text": [
      "Overwriting config.yaml\n"
     ]
    }
   ],
   "source": [
    "%%writefile config.yaml\n",
    "\n",
    "Name                      : \"Nayesha-Gopal\"\n",
    "\n",
    "###### Dataset -----------------------------------------------------------------\n",
    "data:                    # Currently setup for Colab assuming out setup\n",
    "  root                 : \"/local/hw4_data/hw4p1_data\"  # TODO: Set the root path of your data\n",
    "  train_partition      : \"train\"  # train\n",
    "  val_partition        : \"val\"    # val\n",
    "  test_partition       : \"test\"   # test\n",
    "  subset               : 1.0      # Load a subset of the data (for debugging, testing, etc\n",
    "  batch_size           : 64      #\n",
    "  NUM_WORKERS          : 2        # Set to 0 for CPU\n",
    "  forecast_horizon     : 1\n",
    "\n",
    "###### Network Specs -------------------------------------------------------------\n",
    "model: # Decoder-Only Language Model (HW4P1)\n",
    "  d_model                   : 128\n",
    "  d_ff                      : 64\n",
    "  d_freq                    : 3    #how many dimensions to split time into- must be odd because it adds 1?\n",
    "  num_layers                : 2\n",
    "  num_heads                 : 66\n",
    "  dropout                   : 0.4\n",
    "\n",
    "###### Common Training Parameters ------------------------------------------------\n",
    "training:\n",
    "  use_wandb                   : True   # Toggle wandb logging\n",
    "  wandb_run_id                : \"none\" # \"none\" or \"run_id\"\n",
    "  resume                      : False  # Resume an existing run (run_id != 'none')\n",
    "  epochs                      : 10\n",
    "  gradient_accumulation_steps : 1\n",
    "  wandb_project               : \"IDL_final project PegasusNG\" # wandb project to log to\n",
    "\n",
    "###### Loss ----------------------------------------------------------------------\n",
    "loss: # Just good ol' MSE\n",
    "  label_smoothing: 0.0\n",
    "\n",
    "###### Optimizer -----------------------------------------------------------------\n",
    "optimizer:\n",
    "  name: \"adamw\" # Options: sgd, adam, adamw\n",
    "  lr: 5.0e-4   # Base learning rate\n",
    "\n",
    "  # Common parameters\n",
    "  weight_decay: 0.0001\n",
    "\n",
    "  # Parameter groups\n",
    "  param_groups:\n",
    "    - name: self_attn\n",
    "      patterns: []  # Will match all parameters containing keywords set their learning rate to 0.0001\n",
    "      lr: 0.0001    # LR for self_attn\n",
    "      layer_decay:\n",
    "        enabled: False\n",
    "        decay_rate: 0.8\n",
    "\n",
    "    - name: ffn\n",
    "      patterns: [] # Will match all parameters containing \"ffn\" and set their learning rate to 0.0001\n",
    "      lr: 0.0001   # LR for ffn\n",
    "      layer_decay:\n",
    "        enabled: False\n",
    "        decay_rate: 0.8\n",
    "\n",
    "  # Layer-wise learning rates\n",
    "  layer_decay:\n",
    "    enabled: False\n",
    "    decay_rate: 0.75\n",
    "\n",
    "  # SGD specific parameters\n",
    "  sgd:\n",
    "    momentum: 0.9\n",
    "    nesterov: True\n",
    "    dampening: 0\n",
    "\n",
    "  # Adam specific parameters\n",
    "  adam:\n",
    "    betas: [0.9, 0.999]\n",
    "    eps: 1.0e-8\n",
    "    amsgrad: False\n",
    "\n",
    "  # AdamW specific parameters\n",
    "  adamw:\n",
    "    betas: [0.9, 0.999]\n",
    "    eps: 1.0e-8\n",
    "    amsgrad: False\n",
    "\n",
    "###### Scheduler -----------------------------------------------------------------\n",
    "scheduler:\n",
    "  name: \"cosine\"  # Options: reduce_lr, cosine, cosine_warm\n",
    "\n",
    "  # ReduceLROnPlateau specific parameters\n",
    "  reduce_lr:\n",
    "    mode: \"min\"  # Options: min, max\n",
    "    factor: 0.1  # Factor to reduce learning rate by\n",
    "    patience: 10  # Number of epochs with no improvement after which LR will be reduced\n",
    "    threshold: 0.0001  # Threshold for measuring the new optimum\n",
    "    threshold_mode: \"rel\"  # Options: rel, abs\n",
    "    cooldown: 0  # Number of epochs to wait before resuming normal operation\n",
    "    min_lr: 0.0000001  # Minimum learning rate\n",
    "    eps: 1.0e-8  # Minimal decay applied to lr\n",
    "\n",
    "  # CosineAnnealingLR specific parameters\n",
    "  cosine:\n",
    "    T_max: 15  # Maximum number of iterations\n",
    "    eta_min: 1.0e-8  # Minimum learning rate\n",
    "    last_epoch: -1\n",
    "\n",
    "  # CosineAnnealingWarmRestarts specific parameters\n",
    "  cosine_warm:\n",
    "    T_0: 4  # Number of iterations for the first restart\n",
    "    T_mult: 4  # Factor increasing T_i after each restart\n",
    "    eta_min: 0.0000001  # Minimum learning rate\n",
    "    last_epoch: -1\n",
    "\n",
    "  # Warmup parameters (can be used with any scheduler)\n",
    "  warmup:\n",
    "    enabled: True\n",
    "    type: \"exponential\"  # Options: linear, exponential\n",
    "    epochs: 5\n",
    "    start_factor: 0.1\n",
    "    end_factor: 1.0"
   ]
  },
  {
   "cell_type": "code",
   "execution_count": 3,
   "metadata": {},
   "outputs": [],
   "source": [
    "with open('config.yaml', 'r') as file:\n",
    "    config = yaml.safe_load(file)"
   ]
  },
  {
   "cell_type": "code",
   "execution_count": 4,
   "metadata": {},
   "outputs": [],
   "source": [
    "# # create fake data for testing transformer\n",
    "# # Create dataset\n",
    "# train_dataset = SyntheticTimeSeriesDataset(\n",
    "#     num_sequences=1000,\n",
    "#     window_size=30,\n",
    "#     forecast_horizon=5,\n",
    "#     split='train',\n",
    "#     noise_std=0.05,\n",
    "#     num_frequencies=2\n",
    "# )\n",
    "\n",
    "# val_dataset = SyntheticTimeSeriesDataset(\n",
    "#     num_sequences=1000,\n",
    "#     window_size=30,\n",
    "#     forecast_horizon=5,\n",
    "#     split='val',\n",
    "#     noise_std=0.05,\n",
    "#     num_frequencies=2\n",
    "# )\n",
    "\n",
    "# # Sample visualization will auto-show\n",
    "# print(train_dataset[0][0].shape)  # Should be [30, 1]\n",
    "# print(train_dataset[0][1].shape)  # Should be [5, 1]"
   ]
  },
  {
   "cell_type": "code",
   "execution_count": 5,
   "metadata": {},
   "outputs": [
    {
     "name": "stdout",
     "output_type": "stream",
     "text": [
      "YF.download() has changed argument auto_adjust default to True\n"
     ]
    },
    {
     "name": "stderr",
     "output_type": "stream",
     "text": [
      "[*********************100%***********************]  1 of 1 completed\n"
     ]
    },
    {
     "name": "stdout",
     "output_type": "stream",
     "text": [
      "['Open', 'High', 'Low', 'Volume']\n",
      "after normalization dataset is                 Open      High       Low    Volume\n",
      "Date                                              \n",
      "2015-01-02  0.025063  0.022758  0.020406  0.289462\n",
      "2015-01-05  0.020931  0.019052  0.017820  0.361694\n",
      "2015-01-06  0.018597  0.017431  0.016780  0.371548\n",
      "2015-01-07  0.019477  0.018454  0.019540  0.204077\n",
      "2015-01-08  0.022184  0.023701  0.022206  0.329616\n",
      "after normalization dataset is Date\n",
      "2015-01-02    0.021795\n",
      "2015-01-05    0.017699\n",
      "2015-01-06    0.017712\n",
      "2015-01-07    0.019694\n",
      "2015-01-08    0.025199\n",
      "Name: Close, dtype: float64\n",
      "Index(['Open', 'High', 'Low', 'Close', 'Volume', 'Time'], dtype='object')\n"
     ]
    },
    {
     "name": "stderr",
     "output_type": "stream",
     "text": [
      "Processing AAPL (train): 100%|█████████████████████████████████████████████████████████| 1066/1066 [00:00<00:00, 35916.43it/s]\n",
      "[*********************100%***********************]  1 of 1 completed\n"
     ]
    },
    {
     "name": "stdout",
     "output_type": "stream",
     "text": [
      "['Open', 'High', 'Low', 'Volume']\n",
      "after normalization dataset is                 Open      High       Low    Volume\n",
      "Date                                              \n",
      "2023-06-30  1.015151  1.026109  1.013786  0.081277\n",
      "2023-07-03  1.027926  1.022556  1.016757 -0.006091\n",
      "2023-07-05  1.014795  1.017228  1.009983  0.019107\n",
      "2023-07-06  1.004516  1.011545  1.001545  0.016131\n",
      "2023-07-07  1.013844  1.015393  1.007725  0.018875\n",
      "after normalization dataset is Date\n",
      "2023-06-30    1.025958\n",
      "2023-07-03    1.017009\n",
      "2023-07-05    1.010312\n",
      "2023-07-06    1.013157\n",
      "2023-07-07    1.006460\n",
      "Name: Close, dtype: float64\n",
      "Index(['Open', 'High', 'Low', 'Close', 'Volume', 'Time'], dtype='object')\n"
     ]
    },
    {
     "name": "stderr",
     "output_type": "stream",
     "text": [
      "Processing AAPL (val): 100%|█████████████████████████████████████████████████████████████| 187/187 [00:00<00:00, 71160.85it/s]\n"
     ]
    }
   ],
   "source": [
    "# CREATE DATASETS\n",
    "train_dataset = FinancialTimeSeriesDataset(\n",
    "    tickers=['AAPL'],\n",
    "    start_date='2015-01-01',\n",
    "    end_date='2024-12-31',\n",
    "    window_size=5,\n",
    "    forecast_horizon=config['data']['forecast_horizon'],\n",
    "    target='Close',\n",
    "    normalize='minmax',\n",
    "    split='train',\n",
    "    val_ratio=0.15,\n",
    "    fit_scaler=True\n",
    ")\n",
    "tgt_scaler = train_dataset.tgt_scaler\n",
    "cls_scaler = train_dataset.cls_scaler\n",
    "\n",
    "val_dataset = FinancialTimeSeriesDataset(\n",
    "    tickers=['AAPL'],\n",
    "    start_date='2015-01-01',\n",
    "    end_date='2024-12-31',\n",
    "    window_size=5,\n",
    "    forecast_horizon=config['data']['forecast_horizon'],\n",
    "    target='Close',\n",
    "    normalize='minmax',\n",
    "    split='val',\n",
    "    val_ratio=0.15,\n",
    "    tgt_scaler=tgt_scaler,\n",
    "    cls_scaler=cls_scaler\n",
    ")\n",
    "\n",
    "\n"
   ]
  },
  {
   "cell_type": "code",
   "execution_count": 6,
   "metadata": {},
   "outputs": [],
   "source": [
    "# DATALOADERS\n",
    "train_loader    = DataLoader(\n",
    "    dataset     = train_dataset,\n",
    "    batch_size  = config['data']['batch_size'],\n",
    "    shuffle     = False,\n",
    "    num_workers = config['data']['NUM_WORKERS'] if device == 'cuda' else 0,\n",
    "    pin_memory  = True,\n",
    ")\n",
    "\n",
    "val_loader      = DataLoader(\n",
    "    dataset     = val_dataset,\n",
    "    batch_size  = config['data']['batch_size'],\n",
    "    shuffle     = False,\n",
    "    num_workers = config['data']['NUM_WORKERS'] if device == 'cuda' else 0,\n",
    "    pin_memory  = True,\n",
    ")"
   ]
  },
  {
   "cell_type": "markdown",
   "metadata": {},
   "source": [
    "# STEP 2: Set Up Model"
   ]
  },
  {
   "cell_type": "code",
   "execution_count": 7,
   "metadata": {},
   "outputs": [
    {
     "name": "stdout",
     "output_type": "stream",
     "text": [
      "6 1\n",
      "First input sample (shape: torch.Size([5, 6])):\n",
      "tensor([[0.0251, 0.0228, 0.0204, 0.0218, 0.2895, 0.0000],\n",
      "        [0.0209, 0.0191, 0.0178, 0.0177, 0.3617, 1.0000],\n",
      "        [0.0186, 0.0174, 0.0168, 0.0177, 0.3715, 2.0000],\n",
      "        [0.0195, 0.0185, 0.0195, 0.0197, 0.2041, 3.0000],\n",
      "        [0.0222, 0.0237, 0.0222, 0.0252, 0.3296, 4.0000]])\n",
      "Corresponding target (shape: torch.Size([1, 1])):\n",
      "tensor([[0.0254]])\n",
      "Inputs: torch.Size([64, 5, 6])\n",
      "Targets: torch.Size([64, 1, 1])\n",
      "torch.Size([64, 1, 1])\n",
      "===============================================================================================\n",
      "Layer (type:depth-idx)                        Output Shape              Param #\n",
      "===============================================================================================\n",
      "TimeSeriesTransformer                         [64, 1, 1]                257\n",
      "├─Linear: 1-1                                 [64, 5, 128]              768\n",
      "├─GELU: 1-2                                   [64, 5, 128]              --\n",
      "├─Time2VecTorch: 1-3                          [64, 5, 4]                8\n",
      "├─TimeSeriesPositionalEncoding: 1-4           [64, 5, 132]              --\n",
      "├─Dropout: 1-5                                [64, 5, 132]              --\n",
      "├─Linear: 1-6                                 [64, 1, 128]              (recursive)\n",
      "├─Time2VecTorch: 1-7                          [64, 1, 4]                (recursive)\n",
      "├─TimeSeriesPositionalEncoding: 1-8           [64, 1, 132]              --\n",
      "├─Dropout: 1-9                                [64, 1, 132]              --\n",
      "├─TransformerDecoder: 1-10                    [64, 1, 132]              --\n",
      "│    └─ModuleList: 2-1                        --                        --\n",
      "│    │    └─TransformerDecoderLayer: 3-1      [64, 1, 132]              158,332\n",
      "│    │    └─TransformerDecoderLayer: 3-2      [64, 1, 132]              158,332\n",
      "├─LayerNorm: 1-11                             [64, 1, 132]              264\n",
      "├─Sequential: 1-12                            [64, 1, 1]                --\n",
      "│    └─Linear: 2-2                            [64, 1, 256]              34,048\n",
      "│    └─GELU: 2-3                              [64, 1, 256]              --\n",
      "│    └─Dropout: 2-4                           [64, 1, 256]              --\n",
      "│    └─Linear: 2-5                            [64, 1, 128]              32,896\n",
      "│    └─GELU: 2-6                              [64, 1, 128]              --\n",
      "│    └─Linear: 2-7                            [64, 1, 1]                129\n",
      "===============================================================================================\n",
      "Total params: 385,034\n",
      "Trainable params: 385,034\n",
      "Non-trainable params: 0\n",
      "Total mult-adds (Units.MEGABYTES): 6.70\n",
      "===============================================================================================\n",
      "Input size (MB): 0.01\n",
      "Forward/backward pass size (MB): 1.28\n",
      "Params size (MB): 0.42\n",
      "Estimated Total Size (MB): 1.70\n",
      "===============================================================================================\n"
     ]
    }
   ],
   "source": [
    "model_config = config['model']\n",
    "# update this to add model input and output features\n",
    "print(train_dataset.input_features, val_dataset.output_features)\n",
    "model_config.update({\n",
    "    'input_features': train_dataset.input_features,\n",
    "    'output_features': val_dataset.output_features,              #hardcoded, TODO NEED TO FIX\n",
    "    'forecast_horizon':  config['data']['forecast_horizon']\n",
    "})\n",
    "model = TimeSeriesTransformer(**model_config)\n",
    "\n",
    "# CONFIRM EVERYTHING IS BEING LOADED CORRECTLY\n",
    "for batch in train_loader:\n",
    "    inputs, targets = batch\n",
    "\n",
    "    print(\"First input sample (shape: {}):\".format(inputs[0].shape))\n",
    "    print(inputs[0])  # shape: [T, F]\n",
    "\n",
    "    print(\"Corresponding target (shape: {}):\".format(targets[0].shape))\n",
    "    print(targets[0])  # shape: [forecast_steps]\n",
    "\n",
    "    print(\"Inputs:\", inputs.shape)\n",
    "    print(\"Targets:\", targets.shape)\n",
    "    break\n",
    "\n",
    "outputs = model(inputs)  # or model(inputs, something_else) if needed\n",
    "print(outputs.shape)\n",
    "\n",
    "model_stats = summary(model, input_data=inputs.to(\"cpu\"), device=\"cpu\")\n",
    "print(model_stats)"
   ]
  },
  {
   "cell_type": "markdown",
   "metadata": {},
   "source": [
    "# STEP 3: Setup WandB and Trainer"
   ]
  },
  {
   "cell_type": "code",
   "execution_count": 8,
   "metadata": {},
   "outputs": [
    {
     "name": "stderr",
     "output_type": "stream",
     "text": [
      "\u001b[34m\u001b[1mwandb\u001b[0m: Using wandb-core as the SDK backend.  Please refer to https://wandb.me/wandb-core for more information.\n",
      "\u001b[34m\u001b[1mwandb\u001b[0m: \u001b[33mWARNING\u001b[0m If you're specifying your api key in code, ensure this code is not shared publicly.\n",
      "\u001b[34m\u001b[1mwandb\u001b[0m: \u001b[33mWARNING\u001b[0m Consider setting the WANDB_API_KEY environment variable, or running `wandb login` from the command line.\n",
      "\u001b[34m\u001b[1mwandb\u001b[0m: Appending key for api.wandb.ai to your netrc file: /jet/home/gandotra/.netrc\n",
      "\u001b[34m\u001b[1mwandb\u001b[0m: Currently logged in as: \u001b[33mnayeshag\u001b[0m (\u001b[33mnayeshag-carnegie-mellon-university\u001b[0m) to \u001b[32mhttps://api.wandb.ai\u001b[0m. Use \u001b[1m`wandb login --relogin`\u001b[0m to force relogin\n"
     ]
    },
    {
     "data": {
      "text/plain": [
       "True"
      ]
     },
     "execution_count": 8,
     "metadata": {},
     "output_type": "execute_result"
    }
   ],
   "source": [
    "wandb.login(key=\"b78dba2c54228a3e3e32bd91a1a1efca38d69bb9\")"
   ]
  },
  {
   "cell_type": "code",
   "execution_count": 9,
   "metadata": {},
   "outputs": [],
   "source": [
    "# wandb.finish()"
   ]
  },
  {
   "cell_type": "code",
   "execution_count": 10,
   "metadata": {},
   "outputs": [
    {
     "name": "stdout",
     "output_type": "stream",
     "text": [
      "True\n",
      "done with init!\n"
     ]
    }
   ],
   "source": [
    "trainer = TimeSeriesForecastingTrainer(\n",
    "    model=model,\n",
    "    config=config,\n",
    "    run_name=\"test-1-fin2\",\n",
    "    config_file=\"config.yaml\",\n",
    "    scaler=tgt_scaler,\n",
    "    device=device\n",
    ")\n",
    "print(\"done with init!\")"
   ]
  },
  {
   "cell_type": "code",
   "execution_count": 11,
   "metadata": {},
   "outputs": [
    {
     "name": "stdout",
     "output_type": "stream",
     "text": [
      "here!\n",
      "\n",
      "🔧 Configuring Optimizer:\n",
      "├── Type: ADAMW\n",
      "├── Base LR: 0.0005\n",
      "├── Weight Decay: 0.0001\n",
      "├── Parameter Groups:\n",
      "│   ├── Group: self_attn\n",
      "│   │   ├── LR: 0.0001\n",
      "│   │   └── Patterns: []\n",
      "│   ├── Group: ffn\n",
      "│   │   ├── LR: 0.0001\n",
      "│   │   └── Patterns: []\n",
      "│   └── Default Group (unmatched parameters)\n",
      "└── AdamW Specific:\n",
      "    ├── Betas: [0.9, 0.999]\n",
      "    ├── Epsilon: 1e-08\n",
      "    └── AMSGrad: False\n",
      "\n",
      "📈 Configuring Learning Rate Scheduler:\n",
      "├── Type: COSINE\n",
      "├── Cosine Annealing Settings:\n",
      "│   ├── T_max: 15 epochs (255 steps)\n",
      "│   └── Min LR: 1e-08\n",
      "├── Warmup Settings:\n",
      "│   ├── Duration: 5 epochs (85 steps)\n",
      "│   ├── Start Factor: 0.1\n",
      "│   └── End Factor: 1.0\n",
      "Warning: Only showing 5 out of 53 parameter groups for clarity\n"
     ]
    },
    {
     "name": "stderr",
     "output_type": "stream",
     "text": [
      "/jet/home/psamal/hw_envs/idl_hw4/lib/python3.12/site-packages/torch/optim/lr_scheduler.py:240: UserWarning: The epoch parameter in `scheduler.step()` was not necessary and is being deprecated where possible. Please use `scheduler.step()` to step the scheduler. During the deprecation, if epoch is different from None, the closed form is used instead of the new chainable form, where available. Please open an issue if you are unable to replicate your use case: https://github.com/pytorch/pytorch/issues/new/choose.\n",
      "  warnings.warn(EPOCH_DEPRECATION_WARNING, UserWarning)\n"
     ]
    },
    {
     "data": {
      "image/png": "[encoded data removed]",
      "text/plain": [
       "<Figure size 1200x400 with 2 Axes>"
      ]
     },
     "metadata": {},
     "output_type": "display_data"
    },
    {
     "data": {
      "text/html": [
       "Tracking run with wandb version 0.19.9"
      ],
      "text/plain": [
       "<IPython.core.display.HTML object>"
      ]
     },
     "metadata": {},
     "output_type": "display_data"
    },
    {
     "data": {
      "text/html": [
       "Run data is saved locally in <code>/ocean/projects/cis250019p/gandotra/IDL_project/wandb/run-20250421_105221-vads04ry</code>"
      ],
      "text/plain": [
       "<IPython.core.display.HTML object>"
      ]
     },
     "metadata": {},
     "output_type": "display_data"
    },
    {
     "data": {
      "text/html": [
       "Syncing run <strong><a href='https://wandb.ai/nayeshag-carnegie-mellon-university/IDL_final%20project%20PegasusNG/runs/vads04ry' target=\"_blank\">test-1-fin2</a></strong> to <a href='https://wandb.ai/nayeshag-carnegie-mellon-university/IDL_final%20project%20PegasusNG' target=\"_blank\">Weights & Biases</a> (<a href='https://wandb.me/developer-guide' target=\"_blank\">docs</a>)<br>"
      ],
      "text/plain": [
       "<IPython.core.display.HTML object>"
      ]
     },
     "metadata": {},
     "output_type": "display_data"
    },
    {
     "data": {
      "text/html": [
       " View project at <a href='https://wandb.ai/nayeshag-carnegie-mellon-university/IDL_final%20project%20PegasusNG' target=\"_blank\">https://wandb.ai/nayeshag-carnegie-mellon-university/IDL_final%20project%20PegasusNG</a>"
      ],
      "text/plain": [
       "<IPython.core.display.HTML object>"
      ]
     },
     "metadata": {},
     "output_type": "display_data"
    },
    {
     "data": {
      "text/html": [
       " View run at <a href='https://wandb.ai/nayeshag-carnegie-mellon-university/IDL_final%20project%20PegasusNG/runs/vads04ry' target=\"_blank\">https://wandb.ai/nayeshag-carnegie-mellon-university/IDL_final%20project%20PegasusNG/runs/vads04ry</a>"
      ],
      "text/plain": [
       "<IPython.core.display.HTML object>"
      ]
     },
     "metadata": {},
     "output_type": "display_data"
    }
   ],
   "source": [
    "trainer.optimizer = create_optimizer(\n",
    "    model=model,\n",
    "    opt_config=config['optimizer']\n",
    ")\n",
    "\n",
    "trainer.scheduler = create_scheduler(\n",
    "    optimizer=trainer.optimizer,\n",
    "    scheduler_config=config['scheduler'],\n",
    "    train_loader=train_loader,\n",
    "    gradient_accumulation_steps=config['training']['gradient_accumulation_steps']\n",
    ")\n",
    "\n",
    "plot_lr_schedule(\n",
    "    scheduler=trainer.scheduler,\n",
    "    num_epochs=config['training']['epochs'], \n",
    "    train_loader=train_loader,\n",
    "    gradient_accumulation_steps=config['training']['gradient_accumulation_steps']\n",
    ")\n",
    "\n",
    "# Initialize WandB\n",
    "if trainer.use_wandb:\n",
    "    wandb.init(\n",
    "        project=trainer.config['training'].get('wandb_project', 'time-series-forecasting'),\n",
    "        config=trainer.config,\n",
    "        name=trainer.run_name,\n",
    "        settings=wandb.Settings(\n",
    "        start_method=\"thread\",             # don't spawn multiprocessing process\n",
    "        )\n",
    "    )\n"
   ]
  },
  {
   "cell_type": "markdown",
   "metadata": {},
   "source": [
    "# Step 4: TRAIN!!   "
   ]
  },
  {
   "cell_type": "code",
   "execution_count": 12,
   "metadata": {},
   "outputs": [
    {
     "name": "stdout",
     "output_type": "stream",
     "text": [
      "here!\n"
     ]
    },
    {
     "name": "stderr",
     "output_type": "stream",
     "text": [
      "Training:   0%|                                                                                        | 0/17 [00:00<?, ?it/s]/jet/home/psamal/hw_envs/idl_hw4/lib/python3.12/site-packages/torchmetrics/utilities/prints.py:43: UserWarning: The ``compute`` method of metric MeanAbsoluteError was called before the ``update`` method which may lead to errors, as metric states have not yet been updated.\n",
      "  warnings.warn(*args, **kwargs)  # noqa: B028\n",
      "Training: 100%|██████████████████████████████████| 17/17 [00:00<00:00, 25.05it/s, batch_accuracy=4.76%, loss=38.8707, mae=nan]\n",
      "\u001b[34m\u001b[1mwandb\u001b[0m: \u001b[33mWARNING\u001b[0m Saving files without folders. If you want to preserve subdirectories pass base_path to wandb.save, i.e. wandb.save(\"/mnt/folder/file.h5\", base_path=\"/mnt\")\n"
     ]
    },
    {
     "name": "stdout",
     "output_type": "stream",
     "text": [
      "Logging metrics: {'epoch': 1, 'train': {'train_loss': 81.39997304089745, 'train_mae': nan, 'train_accuracy': 0.28142589118198874}}\n",
      "splitting train\n",
      "metrics {'train_loss': 81.39997304089745, 'train_mae': nan, 'train_accuracy': 0.28142589118198874}\n",
      "\n",
      "📈 Epoch 0 Metrics:\n",
      "  TRAIN      | train_loss: 81.4000 | train_mae: nan | train_accuracy: 0.2814\n"
     ]
    },
    {
     "name": "stderr",
     "output_type": "stream",
     "text": [
      "Training: 100%|██████████████████████████████████| 17/17 [00:00<00:00, 42.80it/s, batch_accuracy=0.00%, loss=28.8555, mae=nan]\n"
     ]
    },
    {
     "name": "stdout",
     "output_type": "stream",
     "text": [
      "Logging metrics: {'epoch': 2, 'train': {'train_loss': 41.71907273555562, 'train_mae': nan, 'train_accuracy': 0.09380863039399624}}\n",
      "splitting train\n",
      "metrics {'train_loss': 41.71907273555562, 'train_mae': nan, 'train_accuracy': 0.09380863039399624}\n",
      "\n",
      "📈 Epoch 1 Metrics:\n",
      "  TRAIN      | train_loss: 41.7191 | train_mae: nan | train_accuracy: 0.0938\n"
     ]
    },
    {
     "name": "stderr",
     "output_type": "stream",
     "text": [
      "Training: 100%|██████████████████████████████████| 17/17 [00:00<00:00, 43.12it/s, batch_accuracy=0.00%, loss=26.1713, mae=nan]\n"
     ]
    },
    {
     "name": "stdout",
     "output_type": "stream",
     "text": [
      "Logging metrics: {'epoch': 3, 'train': {'train_loss': 29.152170760993886, 'train_mae': nan, 'train_accuracy': 0.46904315196998125}}\n",
      "splitting train\n",
      "metrics {'train_loss': 29.152170760993886, 'train_mae': nan, 'train_accuracy': 0.46904315196998125}\n",
      "\n",
      "📈 Epoch 2 Metrics:\n",
      "  TRAIN      | train_loss: 29.1522 | train_mae: nan | train_accuracy: 0.4690\n"
     ]
    },
    {
     "name": "stderr",
     "output_type": "stream",
     "text": [
      "Training: 100%|██████████████████████████████████| 17/17 [00:00<00:00, 42.82it/s, batch_accuracy=2.38%, loss=20.4589, mae=nan]\n"
     ]
    },
    {
     "name": "stdout",
     "output_type": "stream",
     "text": [
      "Logging metrics: {'epoch': 4, 'train': {'train_loss': 22.038037155179996, 'train_mae': nan, 'train_accuracy': 0.6566604127579737}}\n",
      "splitting train\n",
      "metrics {'train_loss': 22.038037155179996, 'train_mae': nan, 'train_accuracy': 0.6566604127579737}\n",
      "\n",
      "📈 Epoch 3 Metrics:\n",
      "  TRAIN      | train_loss: 22.0380 | train_mae: nan | train_accuracy: 0.6567\n"
     ]
    },
    {
     "name": "stderr",
     "output_type": "stream",
     "text": [
      "Training: 100%|██████████████████████████████████| 17/17 [00:00<00:00, 42.86it/s, batch_accuracy=0.00%, loss=14.0916, mae=nan]\n"
     ]
    },
    {
     "name": "stdout",
     "output_type": "stream",
     "text": [
      "Logging metrics: {'epoch': 5, 'train': {'train_loss': 18.509388660624147, 'train_mae': nan, 'train_accuracy': 0.5628517823639775}}\n",
      "splitting train\n",
      "metrics {'train_loss': 18.509388660624147, 'train_mae': nan, 'train_accuracy': 0.5628517823639775}\n",
      "\n",
      "📈 Epoch 4 Metrics:\n",
      "  TRAIN      | train_loss: 18.5094 | train_mae: nan | train_accuracy: 0.5629\n"
     ]
    },
    {
     "name": "stderr",
     "output_type": "stream",
     "text": [
      "Training: 100%|██████████████████████████████████| 17/17 [00:00<00:00, 42.93it/s, batch_accuracy=2.38%, loss=12.3034, mae=nan]\n"
     ]
    },
    {
     "name": "stdout",
     "output_type": "stream",
     "text": [
      "Logging metrics: {'epoch': 6, 'train': {'train_loss': 14.960373755020228, 'train_mae': nan, 'train_accuracy': 1.3133208255159474}}\n",
      "splitting train\n",
      "metrics {'train_loss': 14.960373755020228, 'train_mae': nan, 'train_accuracy': 1.3133208255159474}\n",
      "\n",
      "📈 Epoch 5 Metrics:\n",
      "  TRAIN      | train_loss: 14.9604 | train_mae: nan | train_accuracy: 1.3133\n"
     ]
    },
    {
     "name": "stderr",
     "output_type": "stream",
     "text": [
      "Training: 100%|███████████████████████████████████| 17/17 [00:00<00:00, 42.88it/s, batch_accuracy=0.00%, loss=9.1117, mae=nan]\n"
     ]
    },
    {
     "name": "stdout",
     "output_type": "stream",
     "text": [
      "Logging metrics: {'epoch': 7, 'train': {'train_loss': 12.033991287617924, 'train_mae': nan, 'train_accuracy': 0.6566604127579737}}\n",
      "splitting train\n",
      "metrics {'train_loss': 12.033991287617924, 'train_mae': nan, 'train_accuracy': 0.6566604127579737}\n",
      "\n",
      "📈 Epoch 6 Metrics:\n",
      "  TRAIN      | train_loss: 12.0340 | train_mae: nan | train_accuracy: 0.6567\n"
     ]
    },
    {
     "name": "stderr",
     "output_type": "stream",
     "text": [
      "Training: 100%|███████████████████████████████████| 17/17 [00:00<00:00, 42.67it/s, batch_accuracy=4.76%, loss=6.1863, mae=nan]\n"
     ]
    },
    {
     "name": "stdout",
     "output_type": "stream",
     "text": [
      "Logging metrics: {'epoch': 8, 'train': {'train_loss': 9.535935483327727, 'train_mae': nan, 'train_accuracy': 1.5009380863039399}}\n",
      "splitting train\n",
      "metrics {'train_loss': 9.535935483327727, 'train_mae': nan, 'train_accuracy': 1.5009380863039399}\n",
      "\n",
      "📈 Epoch 7 Metrics:\n",
      "  TRAIN      | train_loss: 9.5359 | train_mae: nan | train_accuracy: 1.5009\n"
     ]
    },
    {
     "name": "stderr",
     "output_type": "stream",
     "text": [
      "Training: 100%|███████████████████████████████████| 17/17 [00:00<00:00, 42.89it/s, batch_accuracy=2.38%, loss=7.3701, mae=nan]\n"
     ]
    },
    {
     "name": "stdout",
     "output_type": "stream",
     "text": [
      "Logging metrics: {'epoch': 9, 'train': {'train_loss': 9.211607861474128, 'train_mae': nan, 'train_accuracy': 0.9380863039399625}}\n",
      "splitting train\n",
      "metrics {'train_loss': 9.211607861474128, 'train_mae': nan, 'train_accuracy': 0.9380863039399625}\n",
      "\n",
      "📈 Epoch 8 Metrics:\n",
      "  TRAIN      | train_loss: 9.2116 | train_mae: nan | train_accuracy: 0.9381\n"
     ]
    },
    {
     "name": "stderr",
     "output_type": "stream",
     "text": [
      "Training: 100%|███████████████████████████████████| 17/17 [00:00<00:00, 42.59it/s, batch_accuracy=2.38%, loss=5.8533, mae=nan]\n"
     ]
    },
    {
     "name": "stdout",
     "output_type": "stream",
     "text": [
      "Logging metrics: {'epoch': 10, 'train': {'train_loss': 6.542955641003979, 'train_mae': nan, 'train_accuracy': 1.4071294559099436}}\n",
      "splitting train\n",
      "metrics {'train_loss': 6.542955641003979, 'train_mae': nan, 'train_accuracy': 1.4071294559099436}\n",
      "\n",
      "📈 Epoch 9 Metrics:\n",
      "  TRAIN      | train_loss: 6.5430 | train_mae: nan | train_accuracy: 1.4071\n"
     ]
    },
    {
     "name": "stderr",
     "output_type": "stream",
     "text": [
      "Training: 100%|███████████████████████████████████| 17/17 [00:00<00:00, 42.96it/s, batch_accuracy=0.00%, loss=5.4390, mae=nan]\n"
     ]
    },
    {
     "name": "stdout",
     "output_type": "stream",
     "text": [
      "Logging metrics: {'epoch': 11, 'train': {'train_loss': 6.088633275166238, 'train_mae': nan, 'train_accuracy': 0.9380863039399625}}\n",
      "splitting train\n",
      "metrics {'train_loss': 6.088633275166238, 'train_mae': nan, 'train_accuracy': 0.9380863039399625}\n",
      "\n",
      "📈 Epoch 10 Metrics:\n",
      "  TRAIN      | train_loss: 6.0886 | train_mae: nan | train_accuracy: 0.9381\n"
     ]
    },
    {
     "name": "stderr",
     "output_type": "stream",
     "text": [
      "Training: 100%|███████████████████████████████████| 17/17 [00:00<00:00, 43.27it/s, batch_accuracy=0.00%, loss=4.2395, mae=nan]\n"
     ]
    },
    {
     "name": "stdout",
     "output_type": "stream",
     "text": [
      "Logging metrics: {'epoch': 12, 'train': {'train_loss': 5.518182835033195, 'train_mae': nan, 'train_accuracy': 1.125703564727955}}\n",
      "splitting train\n",
      "metrics {'train_loss': 5.518182835033195, 'train_mae': nan, 'train_accuracy': 1.125703564727955}\n",
      "\n",
      "📈 Epoch 11 Metrics:\n",
      "  TRAIN      | train_loss: 5.5182 | train_mae: nan | train_accuracy: 1.1257\n"
     ]
    },
    {
     "name": "stderr",
     "output_type": "stream",
     "text": [
      "Training: 100%|███████████████████████████████████| 17/17 [00:00<00:00, 43.26it/s, batch_accuracy=2.38%, loss=4.4491, mae=nan]\n"
     ]
    },
    {
     "name": "stdout",
     "output_type": "stream",
     "text": [
      "Logging metrics: {'epoch': 13, 'train': {'train_loss': 4.565956597032958, 'train_mae': nan, 'train_accuracy': 1.4071294559099436}}\n",
      "splitting train\n",
      "metrics {'train_loss': 4.565956597032958, 'train_mae': nan, 'train_accuracy': 1.4071294559099436}\n",
      "\n",
      "📈 Epoch 12 Metrics:\n",
      "  TRAIN      | train_loss: 4.5660 | train_mae: nan | train_accuracy: 1.4071\n"
     ]
    },
    {
     "name": "stderr",
     "output_type": "stream",
     "text": [
      "Training: 100%|███████████████████████████████████| 17/17 [00:00<00:00, 43.58it/s, batch_accuracy=4.76%, loss=4.1634, mae=nan]\n"
     ]
    },
    {
     "name": "stdout",
     "output_type": "stream",
     "text": [
      "Logging metrics: {'epoch': 14, 'train': {'train_loss': 4.437143802642822, 'train_mae': nan, 'train_accuracy': 1.594746716697936}}\n",
      "splitting train\n",
      "metrics {'train_loss': 4.437143802642822, 'train_mae': nan, 'train_accuracy': 1.594746716697936}\n",
      "\n",
      "📈 Epoch 13 Metrics:\n",
      "  TRAIN      | train_loss: 4.4371 | train_mae: nan | train_accuracy: 1.5947\n"
     ]
    },
    {
     "name": "stderr",
     "output_type": "stream",
     "text": [
      "Training: 100%|███████████████████████████████████| 17/17 [00:00<00:00, 43.26it/s, batch_accuracy=4.76%, loss=4.2775, mae=nan]\n"
     ]
    },
    {
     "name": "stdout",
     "output_type": "stream",
     "text": [
      "Logging metrics: {'epoch': 15, 'train': {'train_loss': 3.60223660370646, 'train_mae': nan, 'train_accuracy': 1.3133208255159474}}\n",
      "splitting train\n",
      "metrics {'train_loss': 3.60223660370646, 'train_mae': nan, 'train_accuracy': 1.3133208255159474}\n",
      "\n",
      "📈 Epoch 14 Metrics:\n",
      "  TRAIN      | train_loss: 3.6022 | train_mae: nan | train_accuracy: 1.3133\n"
     ]
    },
    {
     "name": "stderr",
     "output_type": "stream",
     "text": [
      "Training: 100%|███████████████████████████████████| 17/17 [00:00<00:00, 43.19it/s, batch_accuracy=4.76%, loss=1.8503, mae=nan]\n"
     ]
    },
    {
     "name": "stdout",
     "output_type": "stream",
     "text": [
      "Logging metrics: {'epoch': 16, 'train': {'train_loss': 3.1290336326184014, 'train_mae': nan, 'train_accuracy': 2.1575984990619137}}\n",
      "splitting train\n",
      "metrics {'train_loss': 3.1290336326184014, 'train_mae': nan, 'train_accuracy': 2.1575984990619137}\n",
      "\n",
      "📈 Epoch 15 Metrics:\n",
      "  TRAIN      | train_loss: 3.1290 | train_mae: nan | train_accuracy: 2.1576\n"
     ]
    },
    {
     "name": "stderr",
     "output_type": "stream",
     "text": [
      "Training: 100%|███████████████████████████████████| 17/17 [00:00<00:00, 42.97it/s, batch_accuracy=0.00%, loss=3.7360, mae=nan]\n"
     ]
    },
    {
     "name": "stdout",
     "output_type": "stream",
     "text": [
      "Logging metrics: {'epoch': 17, 'train': {'train_loss': 2.8384028152050713, 'train_mae': nan, 'train_accuracy': 0.5628517823639775}}\n",
      "splitting train\n",
      "metrics {'train_loss': 2.8384028152050713, 'train_mae': nan, 'train_accuracy': 0.5628517823639775}\n",
      "\n",
      "📈 Epoch 16 Metrics:\n",
      "  TRAIN      | train_loss: 2.8384 | train_mae: nan | train_accuracy: 0.5629\n"
     ]
    },
    {
     "name": "stderr",
     "output_type": "stream",
     "text": [
      "Training: 100%|███████████████████████████████████| 17/17 [00:00<00:00, 42.93it/s, batch_accuracy=2.38%, loss=3.2833, mae=nan]\n"
     ]
    },
    {
     "name": "stdout",
     "output_type": "stream",
     "text": [
      "Logging metrics: {'epoch': 18, 'train': {'train_loss': 2.660718322918518, 'train_mae': nan, 'train_accuracy': 1.7823639774859288}}\n",
      "splitting train\n",
      "metrics {'train_loss': 2.660718322918518, 'train_mae': nan, 'train_accuracy': 1.7823639774859288}\n",
      "\n",
      "📈 Epoch 17 Metrics:\n",
      "  TRAIN      | train_loss: 2.6607 | train_mae: nan | train_accuracy: 1.7824\n"
     ]
    },
    {
     "name": "stderr",
     "output_type": "stream",
     "text": [
      "Training: 100%|███████████████████████████████████| 17/17 [00:00<00:00, 42.41it/s, batch_accuracy=2.38%, loss=2.2059, mae=nan]\n"
     ]
    },
    {
     "name": "stdout",
     "output_type": "stream",
     "text": [
      "Logging metrics: {'epoch': 19, 'train': {'train_loss': 2.3276469649338143, 'train_mae': nan, 'train_accuracy': 1.4071294559099436}}\n",
      "splitting train\n",
      "metrics {'train_loss': 2.3276469649338143, 'train_mae': nan, 'train_accuracy': 1.4071294559099436}\n",
      "\n",
      "📈 Epoch 18 Metrics:\n",
      "  TRAIN      | train_loss: 2.3276 | train_mae: nan | train_accuracy: 1.4071\n"
     ]
    },
    {
     "name": "stderr",
     "output_type": "stream",
     "text": [
      "Training: 100%|███████████████████████████████████| 17/17 [00:00<00:00, 42.87it/s, batch_accuracy=4.76%, loss=1.6221, mae=nan]\n"
     ]
    },
    {
     "name": "stdout",
     "output_type": "stream",
     "text": [
      "Logging metrics: {'epoch': 20, 'train': {'train_loss': 2.1833771941362135, 'train_mae': nan, 'train_accuracy': 2.1575984990619137}}\n",
      "splitting train\n",
      "metrics {'train_loss': 2.1833771941362135, 'train_mae': nan, 'train_accuracy': 2.1575984990619137}\n",
      "\n",
      "📈 Epoch 19 Metrics:\n",
      "  TRAIN      | train_loss: 2.1834 | train_mae: nan | train_accuracy: 2.1576\n"
     ]
    },
    {
     "name": "stderr",
     "output_type": "stream",
     "text": [
      "Training: 100%|███████████████████████████████████| 17/17 [00:00<00:00, 43.08it/s, batch_accuracy=0.00%, loss=2.6037, mae=nan]\n"
     ]
    },
    {
     "name": "stdout",
     "output_type": "stream",
     "text": [
      "Logging metrics: {'epoch': 21, 'train': {'train_loss': 2.095189952939805, 'train_mae': nan, 'train_accuracy': 1.7823639774859288}}\n",
      "splitting train\n",
      "metrics {'train_loss': 2.095189952939805, 'train_mae': nan, 'train_accuracy': 1.7823639774859288}\n",
      "\n",
      "📈 Epoch 20 Metrics:\n",
      "  TRAIN      | train_loss: 2.0952 | train_mae: nan | train_accuracy: 1.7824\n"
     ]
    },
    {
     "name": "stderr",
     "output_type": "stream",
     "text": [
      "Training: 100%|███████████████████████████████████| 17/17 [00:00<00:00, 42.85it/s, batch_accuracy=4.76%, loss=1.6509, mae=nan]\n"
     ]
    },
    {
     "name": "stdout",
     "output_type": "stream",
     "text": [
      "Logging metrics: {'epoch': 22, 'train': {'train_loss': 1.8333384753615503, 'train_mae': nan, 'train_accuracy': 1.594746716697936}}\n",
      "splitting train\n",
      "metrics {'train_loss': 1.8333384753615503, 'train_mae': nan, 'train_accuracy': 1.594746716697936}\n",
      "\n",
      "📈 Epoch 21 Metrics:\n",
      "  TRAIN      | train_loss: 1.8333 | train_mae: nan | train_accuracy: 1.5947\n"
     ]
    },
    {
     "name": "stderr",
     "output_type": "stream",
     "text": [
      "Training: 100%|███████████████████████████████████| 17/17 [00:00<00:00, 42.78it/s, batch_accuracy=7.14%, loss=1.4433, mae=nan]\n"
     ]
    },
    {
     "name": "stdout",
     "output_type": "stream",
     "text": [
      "Logging metrics: {'epoch': 23, 'train': {'train_loss': 1.797693920627544, 'train_mae': nan, 'train_accuracy': 1.9699812382739212}}\n",
      "splitting train\n",
      "metrics {'train_loss': 1.797693920627544, 'train_mae': nan, 'train_accuracy': 1.9699812382739212}\n",
      "\n",
      "📈 Epoch 22 Metrics:\n",
      "  TRAIN      | train_loss: 1.7977 | train_mae: nan | train_accuracy: 1.9700\n"
     ]
    },
    {
     "name": "stderr",
     "output_type": "stream",
     "text": [
      "Training: 100%|███████████████████████████████████| 17/17 [00:00<00:00, 42.99it/s, batch_accuracy=9.52%, loss=1.2723, mae=nan]\n"
     ]
    },
    {
     "name": "stdout",
     "output_type": "stream",
     "text": [
      "Logging metrics: {'epoch': 24, 'train': {'train_loss': 1.7167518863534839, 'train_mae': nan, 'train_accuracy': 2.25140712945591}}\n",
      "splitting train\n",
      "metrics {'train_loss': 1.7167518863534839, 'train_mae': nan, 'train_accuracy': 2.25140712945591}\n",
      "\n",
      "📈 Epoch 23 Metrics:\n",
      "  TRAIN      | train_loss: 1.7168 | train_mae: nan | train_accuracy: 2.2514\n"
     ]
    },
    {
     "name": "stderr",
     "output_type": "stream",
     "text": [
      "Training: 100%|███████████████████████████████████| 17/17 [00:00<00:00, 42.80it/s, batch_accuracy=7.14%, loss=1.3384, mae=nan]\n"
     ]
    },
    {
     "name": "stdout",
     "output_type": "stream",
     "text": [
      "Logging metrics: {'epoch': 25, 'train': {'train_loss': 1.8186644678044275, 'train_mae': nan, 'train_accuracy': 2.1575984990619137}}\n",
      "splitting train\n",
      "metrics {'train_loss': 1.8186644678044275, 'train_mae': nan, 'train_accuracy': 2.1575984990619137}\n",
      "\n",
      "📈 Epoch 24 Metrics:\n",
      "  TRAIN      | train_loss: 1.8187 | train_mae: nan | train_accuracy: 2.1576\n"
     ]
    },
    {
     "name": "stderr",
     "output_type": "stream",
     "text": [
      "Training: 100%|███████████████████████████████████| 17/17 [00:00<00:00, 42.77it/s, batch_accuracy=7.14%, loss=0.7648, mae=nan]\n"
     ]
    },
    {
     "name": "stdout",
     "output_type": "stream",
     "text": [
      "Logging metrics: {'epoch': 26, 'train': {'train_loss': 1.5814668179452978, 'train_mae': nan, 'train_accuracy': 2.720450281425891}}\n",
      "splitting train\n",
      "metrics {'train_loss': 1.5814668179452978, 'train_mae': nan, 'train_accuracy': 2.720450281425891}\n",
      "\n",
      "📈 Epoch 25 Metrics:\n",
      "  TRAIN      | train_loss: 1.5815 | train_mae: nan | train_accuracy: 2.7205\n"
     ]
    },
    {
     "name": "stderr",
     "output_type": "stream",
     "text": [
      "Training: 100%|███████████████████████████████████| 17/17 [00:00<00:00, 42.94it/s, batch_accuracy=2.38%, loss=0.9976, mae=nan]\n"
     ]
    },
    {
     "name": "stdout",
     "output_type": "stream",
     "text": [
      "Logging metrics: {'epoch': 27, 'train': {'train_loss': 1.3505438220657506, 'train_mae': nan, 'train_accuracy': 2.4390243902439024}}\n",
      "splitting train\n",
      "metrics {'train_loss': 1.3505438220657506, 'train_mae': nan, 'train_accuracy': 2.4390243902439024}\n",
      "\n",
      "📈 Epoch 26 Metrics:\n",
      "  TRAIN      | train_loss: 1.3505 | train_mae: nan | train_accuracy: 2.4390\n"
     ]
    },
    {
     "name": "stderr",
     "output_type": "stream",
     "text": [
      "Training: 100%|███████████████████████████████████| 17/17 [00:00<00:00, 43.27it/s, batch_accuracy=4.76%, loss=1.3876, mae=nan]\n"
     ]
    },
    {
     "name": "stdout",
     "output_type": "stream",
     "text": [
      "Logging metrics: {'epoch': 28, 'train': {'train_loss': 1.3384042768048972, 'train_mae': nan, 'train_accuracy': 1.7823639774859288}}\n",
      "splitting train\n",
      "metrics {'train_loss': 1.3384042768048972, 'train_mae': nan, 'train_accuracy': 1.7823639774859288}\n",
      "\n",
      "📈 Epoch 27 Metrics:\n",
      "  TRAIN      | train_loss: 1.3384 | train_mae: nan | train_accuracy: 1.7824\n"
     ]
    },
    {
     "name": "stderr",
     "output_type": "stream",
     "text": [
      "Training: 100%|███████████████████████████████████| 17/17 [00:00<00:00, 43.02it/s, batch_accuracy=0.00%, loss=1.0239, mae=nan]\n"
     ]
    },
    {
     "name": "stdout",
     "output_type": "stream",
     "text": [
      "Logging metrics: {'epoch': 29, 'train': {'train_loss': 1.3894427538365406, 'train_mae': nan, 'train_accuracy': 1.6885553470919326}}\n",
      "splitting train\n",
      "metrics {'train_loss': 1.3894427538365406, 'train_mae': nan, 'train_accuracy': 1.6885553470919326}\n",
      "\n",
      "📈 Epoch 28 Metrics:\n",
      "  TRAIN      | train_loss: 1.3894 | train_mae: nan | train_accuracy: 1.6886\n"
     ]
    },
    {
     "name": "stderr",
     "output_type": "stream",
     "text": [
      "Training: 100%|███████████████████████████████████| 17/17 [00:00<00:00, 43.38it/s, batch_accuracy=4.76%, loss=1.0679, mae=nan]\n"
     ]
    },
    {
     "name": "stdout",
     "output_type": "stream",
     "text": [
      "Logging metrics: {'epoch': 30, 'train': {'train_loss': 1.3662442637652885, 'train_mae': nan, 'train_accuracy': 2.5328330206378986}}\n",
      "splitting train\n",
      "metrics {'train_loss': 1.3662442637652885, 'train_mae': nan, 'train_accuracy': 2.5328330206378986}\n",
      "\n",
      "📈 Epoch 29 Metrics:\n",
      "  TRAIN      | train_loss: 1.3662 | train_mae: nan | train_accuracy: 2.5328\n"
     ]
    },
    {
     "name": "stderr",
     "output_type": "stream",
     "text": [
      "Training: 100%|███████████████████████████████████| 17/17 [00:00<00:00, 43.10it/s, batch_accuracy=2.38%, loss=1.0658, mae=nan]\n"
     ]
    },
    {
     "name": "stdout",
     "output_type": "stream",
     "text": [
      "Logging metrics: {'epoch': 31, 'train': {'train_loss': 1.326563080748295, 'train_mae': nan, 'train_accuracy': 2.0637898686679175}}\n",
      "splitting train\n",
      "metrics {'train_loss': 1.326563080748295, 'train_mae': nan, 'train_accuracy': 2.0637898686679175}\n",
      "\n",
      "📈 Epoch 30 Metrics:\n",
      "  TRAIN      | train_loss: 1.3266 | train_mae: nan | train_accuracy: 2.0638\n"
     ]
    },
    {
     "name": "stderr",
     "output_type": "stream",
     "text": [
      "Training: 100%|███████████████████████████████████| 17/17 [00:00<00:00, 42.89it/s, batch_accuracy=7.14%, loss=1.6037, mae=nan]\n"
     ]
    },
    {
     "name": "stdout",
     "output_type": "stream",
     "text": [
      "Logging metrics: {'epoch': 32, 'train': {'train_loss': 1.2206771210479022, 'train_mae': nan, 'train_accuracy': 1.5009380863039399}}\n",
      "splitting train\n",
      "metrics {'train_loss': 1.2206771210479022, 'train_mae': nan, 'train_accuracy': 1.5009380863039399}\n",
      "\n",
      "📈 Epoch 31 Metrics:\n",
      "  TRAIN      | train_loss: 1.2207 | train_mae: nan | train_accuracy: 1.5009\n"
     ]
    },
    {
     "name": "stderr",
     "output_type": "stream",
     "text": [
      "Training: 100%|███████████████████████████████████| 17/17 [00:00<00:00, 42.94it/s, batch_accuracy=7.14%, loss=0.6599, mae=nan]\n"
     ]
    },
    {
     "name": "stdout",
     "output_type": "stream",
     "text": [
      "Logging metrics: {'epoch': 33, 'train': {'train_loss': 1.3578910947293323, 'train_mae': nan, 'train_accuracy': 1.5009380863039399}}\n",
      "splitting train\n",
      "metrics {'train_loss': 1.3578910947293323, 'train_mae': nan, 'train_accuracy': 1.5009380863039399}\n",
      "\n",
      "📈 Epoch 32 Metrics:\n",
      "  TRAIN      | train_loss: 1.3579 | train_mae: nan | train_accuracy: 1.5009\n"
     ]
    },
    {
     "name": "stderr",
     "output_type": "stream",
     "text": [
      "Training: 100%|██████████████████████████████████| 17/17 [00:00<00:00, 42.92it/s, batch_accuracy=14.29%, loss=0.9371, mae=nan]\n"
     ]
    },
    {
     "name": "stdout",
     "output_type": "stream",
     "text": [
      "Logging metrics: {'epoch': 34, 'train': {'train_loss': 1.399558673768285, 'train_mae': nan, 'train_accuracy': 2.4390243902439024}}\n",
      "splitting train\n",
      "metrics {'train_loss': 1.399558673768285, 'train_mae': nan, 'train_accuracy': 2.4390243902439024}\n",
      "\n",
      "📈 Epoch 33 Metrics:\n",
      "  TRAIN      | train_loss: 1.3996 | train_mae: nan | train_accuracy: 2.4390\n"
     ]
    },
    {
     "name": "stderr",
     "output_type": "stream",
     "text": [
      "Training: 100%|██████████████████████████████████| 17/17 [00:00<00:00, 42.92it/s, batch_accuracy=11.90%, loss=1.2414, mae=nan]\n"
     ]
    },
    {
     "name": "stdout",
     "output_type": "stream",
     "text": [
      "Logging metrics: {'epoch': 35, 'train': {'train_loss': 1.2387693706641278, 'train_mae': nan, 'train_accuracy': 1.9699812382739212}}\n",
      "splitting train\n",
      "metrics {'train_loss': 1.2387693706641278, 'train_mae': nan, 'train_accuracy': 1.9699812382739212}\n",
      "\n",
      "📈 Epoch 34 Metrics:\n",
      "  TRAIN      | train_loss: 1.2388 | train_mae: nan | train_accuracy: 1.9700\n"
     ]
    },
    {
     "name": "stderr",
     "output_type": "stream",
     "text": [
      "Training: 100%|███████████████████████████████████| 17/17 [00:00<00:00, 42.98it/s, batch_accuracy=4.76%, loss=1.0057, mae=nan]\n"
     ]
    },
    {
     "name": "stdout",
     "output_type": "stream",
     "text": [
      "Logging metrics: {'epoch': 36, 'train': {'train_loss': 1.1946503702292524, 'train_mae': nan, 'train_accuracy': 1.7823639774859288}}\n",
      "splitting train\n",
      "metrics {'train_loss': 1.1946503702292524, 'train_mae': nan, 'train_accuracy': 1.7823639774859288}\n",
      "\n",
      "📈 Epoch 35 Metrics:\n",
      "  TRAIN      | train_loss: 1.1947 | train_mae: nan | train_accuracy: 1.7824\n"
     ]
    },
    {
     "name": "stderr",
     "output_type": "stream",
     "text": [
      "Training: 100%|███████████████████████████████████| 17/17 [00:00<00:00, 42.97it/s, batch_accuracy=7.14%, loss=0.7971, mae=nan]\n"
     ]
    },
    {
     "name": "stdout",
     "output_type": "stream",
     "text": [
      "Logging metrics: {'epoch': 37, 'train': {'train_loss': 1.05356477818838, 'train_mae': nan, 'train_accuracy': 2.1575984990619137}}\n",
      "splitting train\n",
      "metrics {'train_loss': 1.05356477818838, 'train_mae': nan, 'train_accuracy': 2.1575984990619137}\n",
      "\n",
      "📈 Epoch 36 Metrics:\n",
      "  TRAIN      | train_loss: 1.0536 | train_mae: nan | train_accuracy: 2.1576\n"
     ]
    },
    {
     "name": "stderr",
     "output_type": "stream",
     "text": [
      "Training: 100%|███████████████████████████████████| 17/17 [00:00<00:00, 42.63it/s, batch_accuracy=7.14%, loss=0.9638, mae=nan]\n"
     ]
    },
    {
     "name": "stdout",
     "output_type": "stream",
     "text": [
      "Logging metrics: {'epoch': 38, 'train': {'train_loss': 1.092659709713025, 'train_mae': nan, 'train_accuracy': 1.876172607879925}}\n",
      "splitting train\n",
      "metrics {'train_loss': 1.092659709713025, 'train_mae': nan, 'train_accuracy': 1.876172607879925}\n",
      "\n",
      "📈 Epoch 37 Metrics:\n",
      "  TRAIN      | train_loss: 1.0927 | train_mae: nan | train_accuracy: 1.8762\n"
     ]
    },
    {
     "name": "stderr",
     "output_type": "stream",
     "text": [
      "Training: 100%|███████████████████████████████████| 17/17 [00:00<00:00, 42.96it/s, batch_accuracy=7.14%, loss=0.8059, mae=nan]\n"
     ]
    },
    {
     "name": "stdout",
     "output_type": "stream",
     "text": [
      "Logging metrics: {'epoch': 39, 'train': {'train_loss': 1.1253998785036814, 'train_mae': nan, 'train_accuracy': 2.5328330206378986}}\n",
      "splitting train\n",
      "metrics {'train_loss': 1.1253998785036814, 'train_mae': nan, 'train_accuracy': 2.5328330206378986}\n",
      "\n",
      "📈 Epoch 38 Metrics:\n",
      "  TRAIN      | train_loss: 1.1254 | train_mae: nan | train_accuracy: 2.5328\n"
     ]
    },
    {
     "name": "stderr",
     "output_type": "stream",
     "text": [
      "Training: 100%|███████████████████████████████████| 17/17 [00:00<00:00, 42.91it/s, batch_accuracy=9.52%, loss=0.6202, mae=nan]\n"
     ]
    },
    {
     "name": "stdout",
     "output_type": "stream",
     "text": [
      "Logging metrics: {'epoch': 40, 'train': {'train_loss': 1.0865024908622256, 'train_mae': nan, 'train_accuracy': 2.626641651031895}}\n",
      "splitting train\n",
      "metrics {'train_loss': 1.0865024908622256, 'train_mae': nan, 'train_accuracy': 2.626641651031895}\n",
      "\n",
      "📈 Epoch 39 Metrics:\n",
      "  TRAIN      | train_loss: 1.0865 | train_mae: nan | train_accuracy: 2.6266\n"
     ]
    },
    {
     "name": "stderr",
     "output_type": "stream",
     "text": [
      "Training: 100%|███████████████████████████████████| 17/17 [00:00<00:00, 43.34it/s, batch_accuracy=9.52%, loss=0.4829, mae=nan]\n"
     ]
    },
    {
     "name": "stdout",
     "output_type": "stream",
     "text": [
      "Logging metrics: {'epoch': 41, 'train': {'train_loss': 0.976944751911718, 'train_mae': nan, 'train_accuracy': 2.345215759849906}}\n",
      "splitting train\n",
      "metrics {'train_loss': 0.976944751911718, 'train_mae': nan, 'train_accuracy': 2.345215759849906}\n",
      "\n",
      "📈 Epoch 40 Metrics:\n",
      "  TRAIN      | train_loss: 0.9769 | train_mae: nan | train_accuracy: 2.3452\n"
     ]
    },
    {
     "name": "stderr",
     "output_type": "stream",
     "text": [
      "Training: 100%|███████████████████████████████████| 17/17 [00:00<00:00, 43.21it/s, batch_accuracy=7.14%, loss=0.7120, mae=nan]\n"
     ]
    },
    {
     "name": "stdout",
     "output_type": "stream",
     "text": [
      "Logging metrics: {'epoch': 42, 'train': {'train_loss': 1.0083686834652026, 'train_mae': nan, 'train_accuracy': 1.6885553470919326}}\n",
      "splitting train\n",
      "metrics {'train_loss': 1.0083686834652026, 'train_mae': nan, 'train_accuracy': 1.6885553470919326}\n",
      "\n",
      "📈 Epoch 41 Metrics:\n",
      "  TRAIN      | train_loss: 1.0084 | train_mae: nan | train_accuracy: 1.6886\n"
     ]
    },
    {
     "name": "stderr",
     "output_type": "stream",
     "text": [
      "Training: 100%|███████████████████████████████████| 17/17 [00:00<00:00, 43.28it/s, batch_accuracy=4.76%, loss=0.7522, mae=nan]\n"
     ]
    },
    {
     "name": "stdout",
     "output_type": "stream",
     "text": [
      "Logging metrics: {'epoch': 43, 'train': {'train_loss': 0.9777279157352269, 'train_mae': nan, 'train_accuracy': 2.5328330206378986}}\n",
      "splitting train\n",
      "metrics {'train_loss': 0.9777279157352269, 'train_mae': nan, 'train_accuracy': 2.5328330206378986}\n",
      "\n",
      "📈 Epoch 42 Metrics:\n",
      "  TRAIN      | train_loss: 0.9777 | train_mae: nan | train_accuracy: 2.5328\n"
     ]
    },
    {
     "name": "stderr",
     "output_type": "stream",
     "text": [
      "Training: 100%|███████████████████████████████████| 17/17 [00:00<00:00, 43.04it/s, batch_accuracy=4.76%, loss=0.6137, mae=nan]\n"
     ]
    },
    {
     "name": "stdout",
     "output_type": "stream",
     "text": [
      "Logging metrics: {'epoch': 44, 'train': {'train_loss': 1.1082517967662489, 'train_mae': nan, 'train_accuracy': 2.0637898686679175}}\n",
      "splitting train\n",
      "metrics {'train_loss': 1.1082517967662489, 'train_mae': nan, 'train_accuracy': 2.0637898686679175}\n",
      "\n",
      "📈 Epoch 43 Metrics:\n",
      "  TRAIN      | train_loss: 1.1083 | train_mae: nan | train_accuracy: 2.0638\n"
     ]
    },
    {
     "name": "stderr",
     "output_type": "stream",
     "text": [
      "Training: 100%|███████████████████████████████████| 17/17 [00:00<00:00, 43.07it/s, batch_accuracy=4.76%, loss=0.6096, mae=nan]\n"
     ]
    },
    {
     "name": "stdout",
     "output_type": "stream",
     "text": [
      "Logging metrics: {'epoch': 45, 'train': {'train_loss': 1.1568765582107916, 'train_mae': nan, 'train_accuracy': 2.1575984990619137}}\n",
      "splitting train\n",
      "metrics {'train_loss': 1.1568765582107916, 'train_mae': nan, 'train_accuracy': 2.1575984990619137}\n",
      "\n",
      "📈 Epoch 44 Metrics:\n",
      "  TRAIN      | train_loss: 1.1569 | train_mae: nan | train_accuracy: 2.1576\n"
     ]
    },
    {
     "name": "stderr",
     "output_type": "stream",
     "text": [
      "Training: 100%|███████████████████████████████████| 17/17 [00:00<00:00, 43.32it/s, batch_accuracy=4.76%, loss=0.5885, mae=nan]\n"
     ]
    },
    {
     "name": "stdout",
     "output_type": "stream",
     "text": [
      "Logging metrics: {'epoch': 46, 'train': {'train_loss': 0.9637226135824679, 'train_mae': nan, 'train_accuracy': 2.5328330206378986}}\n",
      "splitting train\n",
      "metrics {'train_loss': 0.9637226135824679, 'train_mae': nan, 'train_accuracy': 2.5328330206378986}\n",
      "\n",
      "📈 Epoch 45 Metrics:\n",
      "  TRAIN      | train_loss: 0.9637 | train_mae: nan | train_accuracy: 2.5328\n"
     ]
    },
    {
     "name": "stderr",
     "output_type": "stream",
     "text": [
      "Training: 100%|██████████████████████████████████| 17/17 [00:00<00:00, 43.16it/s, batch_accuracy=16.67%, loss=0.5174, mae=nan]\n"
     ]
    },
    {
     "name": "stdout",
     "output_type": "stream",
     "text": [
      "Logging metrics: {'epoch': 47, 'train': {'train_loss': 0.9601121320062462, 'train_mae': nan, 'train_accuracy': 2.25140712945591}}\n",
      "splitting train\n",
      "metrics {'train_loss': 0.9601121320062462, 'train_mae': nan, 'train_accuracy': 2.25140712945591}\n",
      "\n",
      "📈 Epoch 46 Metrics:\n",
      "  TRAIN      | train_loss: 0.9601 | train_mae: nan | train_accuracy: 2.2514\n"
     ]
    },
    {
     "name": "stderr",
     "output_type": "stream",
     "text": [
      "Training: 100%|███████████████████████████████████| 17/17 [00:00<00:00, 42.96it/s, batch_accuracy=7.14%, loss=0.3761, mae=nan]\n"
     ]
    },
    {
     "name": "stdout",
     "output_type": "stream",
     "text": [
      "Logging metrics: {'epoch': 48, 'train': {'train_loss': 0.9524113673430222, 'train_mae': nan, 'train_accuracy': 1.876172607879925}}\n",
      "splitting train\n",
      "metrics {'train_loss': 0.9524113673430222, 'train_mae': nan, 'train_accuracy': 1.876172607879925}\n",
      "\n",
      "📈 Epoch 47 Metrics:\n",
      "  TRAIN      | train_loss: 0.9524 | train_mae: nan | train_accuracy: 1.8762\n"
     ]
    },
    {
     "name": "stderr",
     "output_type": "stream",
     "text": [
      "Training: 100%|███████████████████████████████████| 17/17 [00:00<00:00, 42.64it/s, batch_accuracy=9.52%, loss=0.4975, mae=nan]\n"
     ]
    },
    {
     "name": "stdout",
     "output_type": "stream",
     "text": [
      "Logging metrics: {'epoch': 49, 'train': {'train_loss': 0.995611140528942, 'train_mae': nan, 'train_accuracy': 2.4390243902439024}}\n",
      "splitting train\n",
      "metrics {'train_loss': 0.995611140528942, 'train_mae': nan, 'train_accuracy': 2.4390243902439024}\n",
      "\n",
      "📈 Epoch 48 Metrics:\n",
      "  TRAIN      | train_loss: 0.9956 | train_mae: nan | train_accuracy: 2.4390\n"
     ]
    },
    {
     "name": "stderr",
     "output_type": "stream",
     "text": [
      "Training: 100%|███████████████████████████████████| 17/17 [00:00<00:00, 43.03it/s, batch_accuracy=9.52%, loss=0.4952, mae=nan]\n"
     ]
    },
    {
     "name": "stdout",
     "output_type": "stream",
     "text": [
      "Logging metrics: {'epoch': 50, 'train': {'train_loss': 0.9527437403993804, 'train_mae': nan, 'train_accuracy': 1.6885553470919326}}\n",
      "splitting train\n",
      "metrics {'train_loss': 0.9527437403993804, 'train_mae': nan, 'train_accuracy': 1.6885553470919326}\n",
      "\n",
      "📈 Epoch 49 Metrics:\n",
      "  TRAIN      | train_loss: 0.9527 | train_mae: nan | train_accuracy: 1.6886\n"
     ]
    }
   ],
   "source": [
    "print(\"here!\")\n",
    "trainer.train(train_loader, val_loader, epochs=50)"
   ]
  },
  {
   "cell_type": "code",
   "execution_count": 13,
   "metadata": {},
   "outputs": [
    {
     "name": "stdout",
     "output_type": "stream",
     "text": [
      "here!\n"
     ]
    },
    {
     "data": {
      "image/png": "[encoded data removed]",
      "text/plain": [
       "<Figure size 800x600 with 1 Axes>"
      ]
     },
     "metadata": {},
     "output_type": "display_data"
    },
    {
     "data": {
      "image/png": "[encoded data removed]",
      "text/plain": [
       "<Figure size 800x800 with 1 Axes>"
      ]
     },
     "metadata": {},
     "output_type": "display_data"
    },
    {
     "data": {
      "text/plain": [
       "{'val_loss': 0.07284103533163427,\n",
       " 'val_mae': 0.22738192975521088,\n",
       " 'val_accuracy': 0.0}"
      ]
     },
     "execution_count": 13,
     "metadata": {},
     "output_type": "execute_result"
    }
   ],
   "source": [
    "print(\"here!\")\n",
    "trainer.evaluate(val_loader)"
   ]
  }
 ],
 "metadata": {
  "kernelspec": {
   "display_name": "Python 3 (ipykernel)",
   "language": "python",
   "name": "python3"
  }
 },
 "nbformat": 4,
 "nbformat_minor": 2
}
