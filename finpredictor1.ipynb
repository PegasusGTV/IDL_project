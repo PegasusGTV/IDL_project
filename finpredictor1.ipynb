{
 "cells": [
  {
   "cell_type": "markdown",
   "id": "7217eacf",
   "metadata": {
    "papermill": {
     "duration": 0.003696,
     "end_time": "2025-04-18T22:51:55.627806",
     "exception": false,
     "start_time": "2025-04-18T22:51:55.624110",
     "status": "completed"
    },
    "tags": []
   },
   "source": [
    "# STEP 1: Imports and Get Data"
   ]
  },
  {
   "cell_type": "code",
   "execution_count": 1,
   "id": "e50c33db",
   "metadata": {
    "execution": {
     "iopub.execute_input": "2025-04-18T22:51:55.635327Z",
     "iopub.status.busy": "2025-04-18T22:51:55.634704Z",
     "iopub.status.idle": "2025-04-18T22:52:06.695545Z",
     "shell.execute_reply": "2025-04-18T22:52:06.694359Z"
    },
    "papermill": {
     "duration": 11.067836,
     "end_time": "2025-04-18T22:52:06.698909",
     "exception": false,
     "start_time": "2025-04-18T22:51:55.631073",
     "status": "completed"
    },
    "tags": []
   },
   "outputs": [
    {
     "name": "stdout",
     "output_type": "stream",
     "text": [
      "Using device: cpu\n"
     ]
    }
   ],
   "source": [
    "from model_components.data_reader import FinancialTimeSeriesDataset, verify_financial_dataloader\n",
    "from model_components.transformers import TimeSeriesTransformer\n",
    "from model_components.fin_trainer import TimeSeriesForecastingTrainer\n",
    "from model_components.utils import (\n",
    "    create_optimizer,\n",
    "    create_scheduler,\n",
    "    plot_lr_schedule\n",
    ")\n",
    "  \n",
    "from torch.utils.data import DataLoader\n",
    "import matplotlib.pyplot as plt\n",
    "import yaml\n",
    "import gc\n",
    "import torch\n",
    "from torchinfo import summary\n",
    "import os\n",
    "import json\n",
    "import tarfile\n",
    "import shutil\n",
    "import wandb\n",
    "import yaml\n",
    "device = \"cuda\" if torch.cuda.is_available() else \"cpu\"\n",
    "print(f\"Using device: {device}\")"
   ]
  },
  {
   "cell_type": "code",
   "execution_count": 2,
   "id": "7f26f4bc",
   "metadata": {
    "execution": {
     "iopub.execute_input": "2025-04-18T22:52:06.710575Z",
     "iopub.status.busy": "2025-04-18T22:52:06.710052Z",
     "iopub.status.idle": "2025-04-18T22:52:06.718066Z",
     "shell.execute_reply": "2025-04-18T22:52:06.717540Z"
    },
    "papermill": {
     "duration": 0.013421,
     "end_time": "2025-04-18T22:52:06.718786",
     "exception": false,
     "start_time": "2025-04-18T22:52:06.705365",
     "status": "completed"
    },
    "tags": []
   },
   "outputs": [
    {
     "name": "stdout",
     "output_type": "stream",
     "text": [
      "Overwriting config.yaml\n"
     ]
    }
   ],
   "source": [
    "%%writefile config.yaml\n",
    "\n",
    "Name                      : \"Nayesha-Gopal\"\n",
    "\n",
    "###### Dataset -----------------------------------------------------------------\n",
    "data:                    # Currently setup for Colab assuming out setup\n",
    "  root                 : \"/local/hw4_data/hw4p1_data\"  # TODO: Set the root path of your data\n",
    "  train_partition      : \"train\"  # train\n",
    "  val_partition        : \"val\"    # val\n",
    "  test_partition       : \"test\"   # test\n",
    "  subset               : 1.0      # Load a subset of the data (for debugging, testing, etc\n",
    "  batch_size           : 256      #\n",
    "  NUM_WORKERS          : 2        # Set to 0 for CPU\n",
    "  forecast_horizon     : 5\n",
    "\n",
    "###### Network Specs -------------------------------------------------------------\n",
    "model: # Decoder-Only Language Model (HW4P1)\n",
    "  d_model                   : 256\n",
    "  d_ff                      : 1024\n",
    "  d_freq                    : 3    #how many dimensions to split time into- must be odd because it adds 1?\n",
    "  num_layers                : 2\n",
    "  num_heads                 : 2\n",
    "  dropout                   : 0.0\n",
    "\n",
    "###### Common Training Parameters ------------------------------------------------\n",
    "training:\n",
    "  use_wandb                   : True   # Toggle wandb logging\n",
    "  wandb_run_id                : \"none\" # \"none\" or \"run_id\"\n",
    "  resume                      : False  # Resume an existing run (run_id != 'none')\n",
    "  epochs                      : 10\n",
    "  gradient_accumulation_steps : 1\n",
    "  wandb_project               : \"IDL_final project PegasusNG\" # wandb project to log to\n",
    "\n",
    "###### Loss ----------------------------------------------------------------------\n",
    "loss: # Just good ol' CrossEntropy\n",
    "  label_smoothing: 0.0\n",
    "\n",
    "###### Optimizer -----------------------------------------------------------------\n",
    "optimizer:\n",
    "  name: \"adamw\" # Options: sgd, adam, adamw\n",
    "  lr: 5.0e-4   # Base learning rate\n",
    "\n",
    "  # Common parameters\n",
    "  weight_decay: 0.0001\n",
    "\n",
    "  # Parameter groups\n",
    "  param_groups:\n",
    "    - name: self_attn\n",
    "      patterns: []  # Will match all parameters containing keywords set their learning rate to 0.0001\n",
    "      lr: 0.0001    # LR for self_attn\n",
    "      layer_decay:\n",
    "        enabled: False\n",
    "        decay_rate: 0.8\n",
    "\n",
    "    - name: ffn\n",
    "      patterns: [] # Will match all parameters containing \"ffn\" and set their learning rate to 0.0001\n",
    "      lr: 0.0001   # LR for ffn\n",
    "      layer_decay:\n",
    "        enabled: False\n",
    "        decay_rate: 0.8\n",
    "\n",
    "  # Layer-wise learning rates\n",
    "  layer_decay:\n",
    "    enabled: False\n",
    "    decay_rate: 0.75\n",
    "\n",
    "  # SGD specific parameters\n",
    "  sgd:\n",
    "    momentum: 0.9\n",
    "    nesterov: True\n",
    "    dampening: 0\n",
    "\n",
    "  # Adam specific parameters\n",
    "  adam:\n",
    "    betas: [0.9, 0.999]\n",
    "    eps: 1.0e-8\n",
    "    amsgrad: False\n",
    "\n",
    "  # AdamW specific parameters\n",
    "  adamw:\n",
    "    betas: [0.9, 0.999]\n",
    "    eps: 1.0e-8\n",
    "    amsgrad: False\n",
    "\n",
    "###### Scheduler -----------------------------------------------------------------\n",
    "scheduler:\n",
    "  name: \"cosine\"  # Options: reduce_lr, cosine, cosine_warm\n",
    "\n",
    "  # ReduceLROnPlateau specific parameters\n",
    "  reduce_lr:\n",
    "    mode: \"min\"  # Options: min, max\n",
    "    factor: 0.1  # Factor to reduce learning rate by\n",
    "    patience: 10  # Number of epochs with no improvement after which LR will be reduced\n",
    "    threshold: 0.0001  # Threshold for measuring the new optimum\n",
    "    threshold_mode: \"rel\"  # Options: rel, abs\n",
    "    cooldown: 0  # Number of epochs to wait before resuming normal operation\n",
    "    min_lr: 0.0000001  # Minimum learning rate\n",
    "    eps: 1.0e-8  # Minimal decay applied to lr\n",
    "\n",
    "  # CosineAnnealingLR specific parameters\n",
    "  cosine:\n",
    "    T_max: 15  # Maximum number of iterations\n",
    "    eta_min: 1.0e-8  # Minimum learning rate\n",
    "    last_epoch: -1\n",
    "\n",
    "  # CosineAnnealingWarmRestarts specific parameters\n",
    "  cosine_warm:\n",
    "    T_0: 4  # Number of iterations for the first restart\n",
    "    T_mult: 4  # Factor increasing T_i after each restart\n",
    "    eta_min: 0.0000001  # Minimum learning rate\n",
    "    last_epoch: -1\n",
    "\n",
    "  # Warmup parameters (can be used with any scheduler)\n",
    "  warmup:\n",
    "    enabled: True\n",
    "    type: \"exponential\"  # Options: linear, exponential\n",
    "    epochs: 5\n",
    "    start_factor: 0.1\n",
    "    end_factor: 1.0"
   ]
  },
  {
   "cell_type": "code",
   "execution_count": 3,
   "id": "1078bec4",
   "metadata": {
    "execution": {
     "iopub.execute_input": "2025-04-18T22:52:06.725301Z",
     "iopub.status.busy": "2025-04-18T22:52:06.724899Z",
     "iopub.status.idle": "2025-04-18T22:52:06.734932Z",
     "shell.execute_reply": "2025-04-18T22:52:06.734485Z"
    },
    "papermill": {
     "duration": 0.013976,
     "end_time": "2025-04-18T22:52:06.735603",
     "exception": false,
     "start_time": "2025-04-18T22:52:06.721627",
     "status": "completed"
    },
    "tags": []
   },
   "outputs": [],
   "source": [
    "with open('config.yaml', 'r') as file:\n",
    "    config = yaml.safe_load(file)"
   ]
  },
  {
   "cell_type": "code",
   "execution_count": 4,
   "id": "9f55f433",
   "metadata": {
    "execution": {
     "iopub.execute_input": "2025-04-18T22:52:06.741731Z",
     "iopub.status.busy": "2025-04-18T22:52:06.741514Z",
     "iopub.status.idle": "2025-04-18T22:52:07.407204Z",
     "shell.execute_reply": "2025-04-18T22:52:07.406596Z"
    },
    "papermill": {
     "duration": 0.669556,
     "end_time": "2025-04-18T22:52:07.408012",
     "exception": false,
     "start_time": "2025-04-18T22:52:06.738456",
     "status": "completed"
    },
    "tags": []
   },
   "outputs": [
    {
     "name": "stdout",
     "output_type": "stream",
     "text": [
      "YF.download() has changed argument auto_adjust default to True\n"
     ]
    },
    {
     "name": "stderr",
     "output_type": "stream",
     "text": [
      "\r",
      "[*********************100%***********************]  1 of 1 completed"
     ]
    },
    {
     "name": "stderr",
     "output_type": "stream",
     "text": [
      "\n"
     ]
    },
    {
     "name": "stderr",
     "output_type": "stream",
     "text": [
      "\r",
      "Processing ^SPX (train):   0%|                                                                                    | 0/926 [00:00<?, ?it/s]"
     ]
    },
    {
     "name": "stderr",
     "output_type": "stream",
     "text": [
      "\r",
      "Processing ^SPX (train): 100%|███████████████████████████████████████████████████████████████████████| 926/926 [00:00<00:00, 17413.35it/s]"
     ]
    },
    {
     "name": "stderr",
     "output_type": "stream",
     "text": [
      "\n",
      "\r",
      "[*********************100%***********************]  1 of 1 completed"
     ]
    },
    {
     "name": "stderr",
     "output_type": "stream",
     "text": [
      "\n"
     ]
    },
    {
     "name": "stderr",
     "output_type": "stream",
     "text": [
      "\r",
      "Processing ^SPX (val):   0%|                                                                                      | 0/298 [00:00<?, ?it/s]"
     ]
    },
    {
     "name": "stderr",
     "output_type": "stream",
     "text": [
      "\r",
      "Processing ^SPX (val): 100%|█████████████████████████████████████████████████████████████████████████| 298/298 [00:00<00:00, 70611.98it/s]"
     ]
    },
    {
     "name": "stderr",
     "output_type": "stream",
     "text": [
      "\n"
     ]
    }
   ],
   "source": [
    "# we can add a val ratio element to this as well\n",
    "train_dataset = FinancialTimeSeriesDataset(\n",
    "    tickers=['^SPX'],\n",
    "    start_date='2015-01-01',\n",
    "    end_date='2024-12-31',\n",
    "    window_size=30,\n",
    "    forecast_horizon=config['data']['forecast_horizon'],\n",
    "    target='Close',\n",
    "    normalize='zscore',\n",
    "    split='train',\n",
    "    val_ratio=0.25\n",
    ")\n",
    "\n",
    "val_dataset = FinancialTimeSeriesDataset(\n",
    "    tickers=['^SPX'],\n",
    "    start_date='2015-01-01',\n",
    "    end_date='2024-12-31',\n",
    "    window_size=30,\n",
    "    forecast_horizon=config['data']['forecast_horizon'],\n",
    "    target='Close',\n",
    "    normalize='zscore',\n",
    "    split='val',\n",
    "    val_ratio=0.25\n",
    ")"
   ]
  },
  {
   "cell_type": "code",
   "execution_count": 5,
   "id": "a2807b40",
   "metadata": {
    "execution": {
     "iopub.execute_input": "2025-04-18T22:52:07.416312Z",
     "iopub.status.busy": "2025-04-18T22:52:07.416024Z",
     "iopub.status.idle": "2025-04-18T22:52:07.420238Z",
     "shell.execute_reply": "2025-04-18T22:52:07.419765Z"
    },
    "papermill": {
     "duration": 0.008657,
     "end_time": "2025-04-18T22:52:07.420905",
     "exception": false,
     "start_time": "2025-04-18T22:52:07.412248",
     "status": "completed"
    },
    "tags": []
   },
   "outputs": [],
   "source": [
    "# DATALOADERS\n",
    "train_loader    = DataLoader(\n",
    "    dataset     = train_dataset,\n",
    "    batch_size  = config['data']['batch_size'],\n",
    "    shuffle     = True,\n",
    "    num_workers = config['data']['NUM_WORKERS'] if device == 'cuda' else 0,\n",
    "    pin_memory  = True,\n",
    ")\n",
    "\n",
    "val_loader      = DataLoader(\n",
    "    dataset     = val_dataset,\n",
    "    batch_size  = config['data']['batch_size'],\n",
    "    shuffle     = False,\n",
    "    num_workers = config['data']['NUM_WORKERS'] if device == 'cuda' else 0,\n",
    "    pin_memory  = True,\n",
    ")"
   ]
  },
  {
   "cell_type": "code",
   "execution_count": 6,
   "id": "cdfa516f",
   "metadata": {
    "execution": {
     "iopub.execute_input": "2025-04-18T22:52:07.429384Z",
     "iopub.status.busy": "2025-04-18T22:52:07.428937Z",
     "iopub.status.idle": "2025-04-18T22:52:07.464550Z",
     "shell.execute_reply": "2025-04-18T22:52:07.464011Z"
    },
    "papermill": {
     "duration": 0.040171,
     "end_time": "2025-04-18T22:52:07.465293",
     "exception": false,
     "start_time": "2025-04-18T22:52:07.425122",
     "status": "completed"
    },
    "tags": []
   },
   "outputs": [
    {
     "name": "stdout",
     "output_type": "stream",
     "text": [
      "==================================================\n",
      "        Financial Dataloader Verification         \n",
      "==================================================\n",
      "Dataloader Partition     : train\n",
      "--------------------------------------------------\n",
      "Number of Batches        : 4\n",
      "Batch Size               : 256\n",
      "--------------------------------------------------\n",
      "Checking shapes of the first batch...             \n",
      "\n",
      "Past Window Shape        : [256, 30, 6]\n",
      "Future Target Shape      : [256, 5, 1]\n",
      "--------------------------------------------------\n",
      "Window Size              : 30\n",
      "Forecast Horizon         : 5\n",
      "Num Input Features       : 6 (includes Time)\n",
      "Target Feature           : Close\n",
      "==================================================\n",
      "==================================================\n",
      "        Financial Dataloader Verification         \n",
      "==================================================\n",
      "Dataloader Partition     : val\n",
      "--------------------------------------------------\n",
      "Number of Batches        : 2\n",
      "Batch Size               : 256\n",
      "--------------------------------------------------\n",
      "Checking shapes of the first batch...             \n",
      "\n",
      "Past Window Shape        : [256, 30, 6]\n",
      "Future Target Shape      : [256, 5, 1]\n",
      "--------------------------------------------------\n",
      "Window Size              : 30\n",
      "Forecast Horizon         : 5\n",
      "Num Input Features       : 6 (includes Time)\n",
      "Target Feature           : Close\n",
      "==================================================\n"
     ]
    }
   ],
   "source": [
    "# verify dataloader\n",
    "verify_financial_dataloader(train_loader)\n",
    "verify_financial_dataloader(val_loader)"
   ]
  },
  {
   "cell_type": "markdown",
   "id": "48719803",
   "metadata": {
    "papermill": {
     "duration": 0.00313,
     "end_time": "2025-04-18T22:52:07.471999",
     "exception": false,
     "start_time": "2025-04-18T22:52:07.468869",
     "status": "completed"
    },
    "tags": []
   },
   "source": [
    "# STEP 2: Set Up Model"
   ]
  },
  {
   "cell_type": "code",
   "execution_count": 7,
   "id": "f6f6210f",
   "metadata": {
    "execution": {
     "iopub.execute_input": "2025-04-18T22:52:07.479371Z",
     "iopub.status.busy": "2025-04-18T22:52:07.479148Z",
     "iopub.status.idle": "2025-04-18T22:52:23.860576Z",
     "shell.execute_reply": "2025-04-18T22:52:23.858239Z"
    },
    "papermill": {
     "duration": 16.394843,
     "end_time": "2025-04-18T22:52:23.870092",
     "exception": false,
     "start_time": "2025-04-18T22:52:07.475249",
     "status": "completed"
    },
    "tags": []
   },
   "outputs": [
    {
     "name": "stdout",
     "output_type": "stream",
     "text": [
      "6 1\n"
     ]
    },
    {
     "name": "stdout",
     "output_type": "stream",
     "text": [
      "First input sample (shape: torch.Size([30, 6])):\n"
     ]
    },
    {
     "name": "stdout",
     "output_type": "stream",
     "text": [
      "tensor([[2.0806e+03, 2.0806e+03, 2.0651e+03, 2.0743e+03, 3.2218e+09, 7.4000e+01],\n",
      "        [2.0728e+03, 2.1069e+03, 2.0612e+03, 2.0995e+03, 4.1282e+09, 7.5000e+01],\n",
      "        [2.0987e+03, 2.0987e+03, 2.0856e+03, 2.0893e+03, 3.3052e+09, 7.6000e+01],\n",
      "        [2.0903e+03, 2.1139e+03, 2.0903e+03, 2.1081e+03, 5.5541e+09, 7.7000e+01],\n",
      "        [2.1080e+03, 2.1149e+03, 2.1044e+03, 2.1044e+03, 3.2680e+09, 8.0000e+01],\n",
      "        [2.1039e+03, 2.1076e+03, 2.0915e+03, 2.0915e+03, 3.1898e+09, 8.1000e+01],\n",
      "        [2.0931e+03, 2.0974e+03, 2.0611e+03, 2.0611e+03, 3.5211e+09, 8.2000e+01],\n",
      "        [2.0599e+03, 2.0671e+03, 2.0455e+03, 2.0561e+03, 3.5107e+09, 8.3000e+01],\n",
      "        [2.0558e+03, 2.0628e+03, 2.0530e+03, 2.0610e+03, 3.0085e+09, 8.4000e+01],\n",
      "        [2.0641e+03, 2.0890e+03, 2.0641e+03, 2.0862e+03, 2.9177e+09, 8.7000e+01],\n",
      "        [2.0841e+03, 2.0841e+03, 2.0670e+03, 2.0679e+03, 3.3765e+09, 8.8000e+01],\n",
      "        [2.0676e+03, 2.0676e+03, 2.0484e+03, 2.0597e+03, 3.5433e+09, 8.9000e+01],\n",
      "        [2.0600e+03, 2.0722e+03, 2.0573e+03, 2.0670e+03, 3.0960e+09, 9.0000e+01],\n",
      "        [2.0649e+03, 2.0870e+03, 2.0565e+03, 2.0806e+03, 3.3030e+09, 9.4000e+01],\n",
      "        [2.0808e+03, 2.0898e+03, 2.0761e+03, 2.0763e+03, 3.0655e+09, 9.5000e+01],\n",
      "        [2.0769e+03, 2.0867e+03, 2.0733e+03, 2.0819e+03, 3.2653e+09, 9.6000e+01],\n",
      "        [2.0813e+03, 2.0933e+03, 2.0743e+03, 2.0912e+03, 3.1724e+09, 9.7000e+01],\n",
      "        [2.0915e+03, 2.1026e+03, 2.0915e+03, 2.1021e+03, 3.1562e+09, 9.8000e+01],\n",
      "        [2.1020e+03, 2.1076e+03, 2.0923e+03, 2.0924e+03, 2.9084e+09, 1.0100e+02],\n",
      "        [2.0923e+03, 2.0986e+03, 2.0832e+03, 2.0958e+03, 3.3013e+09, 1.0200e+02],\n",
      "        [2.0978e+03, 2.1119e+03, 2.0978e+03, 2.1066e+03, 4.0138e+09, 1.0300e+02],\n",
      "        [2.1060e+03, 2.1113e+03, 2.1000e+03, 2.1050e+03, 3.4341e+09, 1.0400e+02],\n",
      "        [2.1026e+03, 2.1026e+03, 2.0724e+03, 2.0812e+03, 3.6276e+09, 1.0500e+02],\n",
      "        [2.0841e+03, 2.1039e+03, 2.0841e+03, 2.1004e+03, 3.0002e+09, 1.0800e+02],\n",
      "        [2.1028e+03, 2.1096e+03, 2.0944e+03, 2.0973e+03, 3.2434e+09, 1.0900e+02],\n",
      "        [2.0983e+03, 2.1100e+03, 2.0911e+03, 2.1080e+03, 3.3485e+09, 1.1000e+02],\n",
      "        [2.1072e+03, 2.1205e+03, 2.1032e+03, 2.1129e+03, 3.6367e+09, 1.1100e+02],\n",
      "        [2.1128e+03, 2.1209e+03, 2.1128e+03, 2.1177e+03, 3.3758e+09, 1.1200e+02],\n",
      "        [2.1193e+03, 2.1259e+03, 2.1070e+03, 2.1089e+03, 3.4387e+09, 1.1500e+02],\n",
      "        [2.1084e+03, 2.1160e+03, 2.0949e+03, 2.1148e+03, 3.5463e+09, 1.1600e+02]])\n",
      "Corresponding target (shape: torch.Size([5, 1])):\n",
      "tensor([[2106.8501],\n",
      "        [2085.5100],\n",
      "        [2108.2900],\n",
      "        [2114.4900],\n",
      "        [2089.4600]])\n",
      "Inputs: torch.Size([256, 30, 6])\n",
      "Targets: torch.Size([256, 5, 1])\n"
     ]
    },
    {
     "name": "stdout",
     "output_type": "stream",
     "text": [
      "torch.Size([256, 5, 1])\n"
     ]
    },
    {
     "name": "stdout",
     "output_type": "stream",
     "text": [
      "===============================================================================================\n",
      "Layer (type:depth-idx)                        Output Shape              Param #\n",
      "===============================================================================================\n",
      "TimeSeriesTransformer                         [256, 5, 1]               --\n",
      "├─Linear: 1-1                                 [256, 30, 256]            1,536\n",
      "├─Time2VecTorch: 1-2                          [256, 30, 4]              8\n",
      "├─Dropout: 1-3                                [256, 30, 260]            --\n",
      "├─Linear: 1-4                                 [256, 5, 256]             (recursive)\n",
      "├─Time2VecTorch: 1-5                          [256, 5, 4]               (recursive)\n",
      "├─Dropout: 1-6                                [256, 5, 260]             --\n",
      "├─TransformerDecoder: 1-7                     [256, 5, 260]             --\n",
      "│    └─ModuleList: 2-1                        --                        --\n",
      "│    │    └─TransformerDecoderLayer: 3-1      [256, 5, 260]             1,078,204\n",
      "│    │    └─TransformerDecoderLayer: 3-2      [256, 5, 260]             1,078,204\n",
      "├─LayerNorm: 1-8                              [256, 5, 260]             520\n",
      "├─Linear: 1-9                                 [256, 5, 1]               261\n",
      "===============================================================================================\n",
      "Total params: 2,158,733\n",
      "Trainable params: 2,158,733\n",
      "Non-trainable params: 0\n",
      "Total mult-adds (Units.MEGABYTES): 275.07\n",
      "===============================================================================================\n",
      "Input size (MB): 0.18\n",
      "Forward/backward pass size (MB): 63.58\n",
      "Params size (MB): 4.29\n",
      "Estimated Total Size (MB): 68.06\n",
      "===============================================================================================\n"
     ]
    }
   ],
   "source": [
    "model_config = config['model']\n",
    "# update this to add model input and output features\n",
    "print(train_dataset.input_features, val_dataset.output_features)\n",
    "model_config.update({\n",
    "    'input_features': train_dataset.input_features,\n",
    "    'output_features': val_dataset.output_features,              #hardcoded, TODO NEED TO FIX\n",
    "    'forecast_horizon':  config['data']['forecast_horizon']\n",
    "})\n",
    "model = TimeSeriesTransformer(**model_config)\n",
    "\n",
    "# CONFIRM EVERYTHING IS BEING LOADED CORRECTLY\n",
    "for batch in train_loader:\n",
    "    inputs, targets = batch\n",
    "\n",
    "    print(\"First input sample (shape: {}):\".format(inputs[0].shape))\n",
    "    print(inputs[0])  # shape: [T, F]\n",
    "\n",
    "    print(\"Corresponding target (shape: {}):\".format(targets[0].shape))\n",
    "    print(targets[0])  # shape: [forecast_steps]\n",
    "\n",
    "    print(\"Inputs:\", inputs.shape)\n",
    "    print(\"Targets:\", targets.shape)\n",
    "    break\n",
    "\n",
    "outputs = model(inputs)  # or model(inputs, something_else) if needed\n",
    "print(outputs.shape)\n",
    "\n",
    "model_stats = summary(model, input_data=inputs.to(\"cpu\"), device=\"cpu\")\n",
    "print(model_stats)"
   ]
  },
  {
   "cell_type": "markdown",
   "id": "2ae9747e",
   "metadata": {
    "papermill": {
     "duration": 0.003885,
     "end_time": "2025-04-18T22:52:23.888564",
     "exception": false,
     "start_time": "2025-04-18T22:52:23.884679",
     "status": "completed"
    },
    "tags": []
   },
   "source": [
    "# STEP 3: Setup WandB and Trainer"
   ]
  },
  {
   "cell_type": "code",
   "execution_count": 8,
   "id": "cc3efc32",
   "metadata": {
    "execution": {
     "iopub.execute_input": "2025-04-18T22:52:23.902045Z",
     "iopub.status.busy": "2025-04-18T22:52:23.901302Z",
     "iopub.status.idle": "2025-04-18T22:52:24.540651Z",
     "shell.execute_reply": "2025-04-18T22:52:24.540135Z"
    },
    "papermill": {
     "duration": 0.649182,
     "end_time": "2025-04-18T22:52:24.541450",
     "exception": false,
     "start_time": "2025-04-18T22:52:23.892268",
     "status": "completed"
    },
    "tags": []
   },
   "outputs": [
    {
     "name": "stderr",
     "output_type": "stream",
     "text": [
      "\u001b[34m\u001b[1mwandb\u001b[0m: Using wandb-core as the SDK backend.  Please refer to https://wandb.me/wandb-core for more information.\n"
     ]
    },
    {
     "name": "stderr",
     "output_type": "stream",
     "text": [
      "\u001b[34m\u001b[1mwandb\u001b[0m: \u001b[33mWARNING\u001b[0m If you're specifying your api key in code, ensure this code is not shared publicly.\n",
      "\u001b[34m\u001b[1mwandb\u001b[0m: \u001b[33mWARNING\u001b[0m Consider setting the WANDB_API_KEY environment variable, or running `wandb login` from the command line.\n"
     ]
    },
    {
     "name": "stderr",
     "output_type": "stream",
     "text": [
      "\u001b[34m\u001b[1mwandb\u001b[0m: Appending key for api.wandb.ai to your netrc file: /jet/home/gandotra/.netrc\n"
     ]
    },
    {
     "name": "stderr",
     "output_type": "stream",
     "text": [
      "\u001b[34m\u001b[1mwandb\u001b[0m: Currently logged in as: \u001b[33mnayeshag\u001b[0m (\u001b[33mnayeshag-carnegie-mellon-university\u001b[0m) to \u001b[32mhttps://api.wandb.ai\u001b[0m. Use \u001b[1m`wandb login --relogin`\u001b[0m to force relogin\n"
     ]
    },
    {
     "data": {
      "text/plain": [
       "True"
      ]
     },
     "execution_count": 8,
     "metadata": {},
     "output_type": "execute_result"
    }
   ],
   "source": [
    "wandb.login(key=\"b78dba2c54228a3e3e32bd91a1a1efca38d69bb9\")"
   ]
  },
  {
   "cell_type": "code",
   "execution_count": 9,
   "id": "66e6dc33",
   "metadata": {
    "execution": {
     "iopub.execute_input": "2025-04-18T22:52:24.551145Z",
     "iopub.status.busy": "2025-04-18T22:52:24.550852Z",
     "iopub.status.idle": "2025-04-18T22:52:25.552112Z",
     "shell.execute_reply": "2025-04-18T22:52:25.551552Z"
    },
    "papermill": {
     "duration": 1.00722,
     "end_time": "2025-04-18T22:52:25.553459",
     "exception": false,
     "start_time": "2025-04-18T22:52:24.546239",
     "status": "completed"
    },
    "tags": []
   },
   "outputs": [
    {
     "name": "stdout",
     "output_type": "stream",
     "text": [
      "True\n"
     ]
    },
    {
     "name": "stderr",
     "output_type": "stream",
     "text": [
      "\u001b[34m\u001b[1mwandb\u001b[0m: Tracking run with wandb version 0.19.9\n"
     ]
    },
    {
     "name": "stderr",
     "output_type": "stream",
     "text": [
      "\u001b[34m\u001b[1mwandb\u001b[0m: Run data is saved locally in \u001b[35m\u001b[1m/ocean/projects/cis250019p/gandotra/IDL_project/wandb/run-20250418_185224-91sgr0bu\u001b[0m\n",
      "\u001b[34m\u001b[1mwandb\u001b[0m: Run \u001b[1m`wandb offline`\u001b[0m to turn off syncing.\n"
     ]
    },
    {
     "name": "stderr",
     "output_type": "stream",
     "text": [
      "\u001b[34m\u001b[1mwandb\u001b[0m: Syncing run \u001b[33mtest-1-fin\u001b[0m\n"
     ]
    },
    {
     "name": "stderr",
     "output_type": "stream",
     "text": [
      "\u001b[34m\u001b[1mwandb\u001b[0m: ⭐️ View project at \u001b[34m\u001b[4mhttps://wandb.ai/nayeshag-carnegie-mellon-university/IDL_final%20project%20PegasusNG\u001b[0m\n"
     ]
    },
    {
     "name": "stderr",
     "output_type": "stream",
     "text": [
      "\u001b[34m\u001b[1mwandb\u001b[0m: 🚀 View run at \u001b[34m\u001b[4mhttps://wandb.ai/nayeshag-carnegie-mellon-university/IDL_final%20project%20PegasusNG/runs/91sgr0bu\u001b[0m\n"
     ]
    }
   ],
   "source": [
    "trainer = TimeSeriesForecastingTrainer(\n",
    "    model=model,\n",
    "    config=config,\n",
    "    run_name=\"test-1-fin\",\n",
    "    config_file=\"config.yaml\",\n",
    "    device=device\n",
    ")"
   ]
  },
  {
   "cell_type": "code",
   "execution_count": 10,
   "id": "a5c23d94",
   "metadata": {
    "execution": {
     "iopub.execute_input": "2025-04-18T22:52:25.563985Z",
     "iopub.status.busy": "2025-04-18T22:52:25.563745Z",
     "iopub.status.idle": "2025-04-18T22:52:29.145634Z",
     "shell.execute_reply": "2025-04-18T22:52:29.144600Z"
    },
    "papermill": {
     "duration": 3.588115,
     "end_time": "2025-04-18T22:52:29.147009",
     "exception": false,
     "start_time": "2025-04-18T22:52:25.558894",
     "status": "completed"
    },
    "tags": []
   },
   "outputs": [
    {
     "name": "stdout",
     "output_type": "stream",
     "text": [
      "\n",
      "🔧 Configuring Optimizer:\n",
      "├── Type: ADAMW\n",
      "├── Base LR: 0.0005\n",
      "├── Weight Decay: 0.0001\n",
      "├── Parameter Groups:\n",
      "│   ├── Group: self_attn\n",
      "│   │   ├── LR: 0.0001\n",
      "│   │   └── Patterns: []\n",
      "│   ├── Group: ffn\n",
      "│   │   ├── LR: 0.0001\n",
      "│   │   └── Patterns: []\n",
      "│   └── Default Group (unmatched parameters)\n",
      "└── AdamW Specific:\n",
      "    ├── Betas: [0.9, 0.999]\n",
      "    ├── Epsilon: 1e-08\n",
      "    └── AMSGrad: False\n"
     ]
    },
    {
     "name": "stdout",
     "output_type": "stream",
     "text": [
      "\n",
      "📈 Configuring Learning Rate Scheduler:\n",
      "├── Type: COSINE\n",
      "├── Cosine Annealing Settings:\n",
      "│   ├── T_max: 15 epochs (60 steps)\n",
      "│   └── Min LR: 1e-08\n",
      "├── Warmup Settings:\n",
      "│   ├── Duration: 5 epochs (20 steps)\n",
      "│   ├── Start Factor: 0.1\n",
      "│   └── End Factor: 1.0\n",
      "Warning: Only showing 5 out of 46 parameter groups for clarity\n"
     ]
    },
    {
     "name": "stderr",
     "output_type": "stream",
     "text": [
      "/jet/home/psamal/hw_envs/idl_hw4/lib/python3.12/site-packages/torch/optim/lr_scheduler.py:240: UserWarning: The epoch parameter in `scheduler.step()` was not necessary and is being deprecated where possible. Please use `scheduler.step()` to step the scheduler. During the deprecation, if epoch is different from None, the closed form is used instead of the new chainable form, where available. Please open an issue if you are unable to replicate your use case: https://github.com/pytorch/pytorch/issues/new/choose.\n",
      "  warnings.warn(EPOCH_DEPRECATION_WARNING, UserWarning)\n"
     ]
    },
    {
     "data": {
      "image/png": "[encoded data removed]",
      "text/plain": [
       "<Figure size 1200x400 with 2 Axes>"
      ]
     },
     "metadata": {},
     "output_type": "display_data"
    },
    {
     "name": "stdout",
     "output_type": "stream",
     "text": [
      "\n",
      "📈 Configuring Learning Rate Scheduler:\n",
      "├── Type: COSINE\n",
      "├── Cosine Annealing Settings:\n",
      "│   ├── T_max: 15 epochs (60 steps)\n",
      "│   └── Min LR: 1e-08\n",
      "├── Warmup Settings:\n",
      "│   ├── Duration: 5 epochs (20 steps)\n",
      "│   ├── Start Factor: 0.1\n",
      "│   └── End Factor: 1.0\n"
     ]
    }
   ],
   "source": [
    "trainer.optimizer = create_optimizer(\n",
    "    model=model,\n",
    "    opt_config=config['optimizer']\n",
    ")\n",
    "\n",
    "test_scheduler = create_scheduler(\n",
    "    optimizer=trainer.optimizer,\n",
    "    scheduler_config=config['scheduler'],\n",
    "    train_loader=train_loader,\n",
    "    gradient_accumulation_steps=config['training']['gradient_accumulation_steps']\n",
    ")\n",
    "\n",
    "plot_lr_schedule(\n",
    "    scheduler=test_scheduler,\n",
    "    num_epochs=config['training']['epochs'],\n",
    "\n",
    "    \n",
    "    train_loader=train_loader,\n",
    "    gradient_accumulation_steps=config['training']['gradient_accumulation_steps']\n",
    ")\n",
    "\n",
    "trainer.scheduler = create_scheduler(\n",
    "    optimizer=trainer.optimizer,\n",
    "    scheduler_config=config['scheduler'],\n",
    "    train_loader=train_loader,\n",
    "    gradient_accumulation_steps=config['training']['gradient_accumulation_steps']\n",
    ")\n"
   ]
  },
  {
   "cell_type": "markdown",
   "id": "462eb39f",
   "metadata": {
    "papermill": {
     "duration": 0.004907,
     "end_time": "2025-04-18T22:52:29.161210",
     "exception": false,
     "start_time": "2025-04-18T22:52:29.156303",
     "status": "completed"
    },
    "tags": []
   },
   "source": [
    "# Step 4: TRAIN!!   "
   ]
  },
  {
   "cell_type": "code",
   "execution_count": 11,
   "id": "0a00bbad",
   "metadata": {
    "execution": {
     "iopub.execute_input": "2025-04-18T22:52:29.173441Z",
     "iopub.status.busy": "2025-04-18T22:52:29.172656Z"
    },
    "papermill": {
     "duration": 169.585677,
     "end_time": "2025-04-18T22:55:18.751467",
     "exception": false,
     "start_time": "2025-04-18T22:52:29.165790",
     "status": "completed"
    },
    "tags": []
   },
   "outputs": [
    {
     "name": "stderr",
     "output_type": "stream",
     "text": [
      "\r",
      "Training:   0%|                                                                                                     | 0/4 [00:00<?, ?it/s]"
     ]
    },
    {
     "name": "stderr",
     "output_type": "stream",
     "text": [
      "\r",
      "Training:   0%|                                                                  | 0/4 [00:45<?, ?it/s, accuracy=0.00%, loss=nan, mae=nan]"
     ]
    },
    {
     "name": "stderr",
     "output_type": "stream",
     "text": [
      "\r",
      "Training:  25%|██████████████▌                                           | 1/4 [00:46<02:18, 46.01s/it, accuracy=0.00%, loss=nan, mae=nan]"
     ]
    },
    {
     "name": "stderr",
     "output_type": "stream",
     "text": [
      "\r",
      "Training:  25%|██████████████▌                                           | 1/4 [01:25<02:18, 46.01s/it, accuracy=0.00%, loss=nan, mae=nan]"
     ]
    },
    {
     "name": "stderr",
     "output_type": "stream",
     "text": [
      "\r",
      "Training:  50%|█████████████████████████████                             | 2/4 [01:25<01:24, 42.06s/it, accuracy=0.00%, loss=nan, mae=nan]"
     ]
    },
    {
     "name": "stderr",
     "output_type": "stream",
     "text": [
      "\r",
      "Training:  50%|█████████████████████████████                             | 2/4 [02:14<01:24, 42.06s/it, accuracy=0.00%, loss=nan, mae=nan]"
     ]
    },
    {
     "name": "stderr",
     "output_type": "stream",
     "text": [
      "\r",
      "Training:  75%|███████████████████████████████████████████▌              | 3/4 [02:14<00:45, 45.14s/it, accuracy=0.00%, loss=nan, mae=nan]"
     ]
    }
   ],
   "source": [
    "trainer.train(train_loader, val_loader, epochs=config['training']['epochs'])"
   ]
  }
 ],
 "metadata": {
  "language_info": {
   "name": "python"
  },
  "papermill": {
   "default_parameters": {},
   "duration": 208.469841,
   "end_time": "2025-04-18T22:55:22.184758",
   "environment_variables": {},
   "exception": null,
   "input_path": "finpredictor.ipynb",
   "output_path": "finpredictor1.ipynb",
   "parameters": {},
   "start_time": "2025-04-18T22:51:53.714917",
   "version": "2.6.0"
  }
 },
 "nbformat": 4,
 "nbformat_minor": 5
}